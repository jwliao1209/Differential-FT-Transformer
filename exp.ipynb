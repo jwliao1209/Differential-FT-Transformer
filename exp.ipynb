{
 "cells": [
  {
   "cell_type": "code",
   "execution_count": 1,
   "metadata": {},
   "outputs": [],
   "source": [
    "from pathlib import Path\n",
    "\n",
    "from src.metric import cls_eval_funs, reg_eval_funs\n",
    "from src.trainer import Trainer\n",
    "from src.utils import load_pkl_data, set_random_seed"
   ]
  },
  {
   "cell_type": "code",
   "execution_count": 13,
   "metadata": {},
   "outputs": [],
   "source": [
    "class Config:\n",
    "    data_dir = '/home/jiawei/Desktop/github/DOFEN/tabular-benchmark/tabular_benchmark_data'\n",
    "    data_id = '361060'\n",
    "    n_epoch = 250\n",
    "    batch_size = 256\n",
    "    target_transform = False"
   ]
  },
  {
   "cell_type": "code",
   "execution_count": 85,
   "metadata": {},
   "outputs": [],
   "source": [
    "from typing import Dict, List, Optional\n",
    "\n",
    "import numpy as np\n",
    "import torch\n",
    "from torch import nn\n",
    "import torch.nn.functional as F\n",
    "\n",
    "from src.models.base import BaseClassifier, BaseRegressor\n",
    "from src.models.layers import ResidualLayer, ReGLU\n",
    "\n",
    "\n",
    "class Reshape(nn.Module):\n",
    "    def __init__(self, *args: int) -> None:\n",
    "        super(Reshape, self).__init__()\n",
    "        self.shape = args\n",
    "\n",
    "    def forward(self, x: torch.Tensor) -> torch.Tensor:\n",
    "        return x.reshape(self.shape)\n",
    "\n",
    "\n",
    "class FastGroupConv1d(nn.Conv1d):\n",
    "    def __init__(self, *args, **kwargs):\n",
    "        self.fast_mode = kwargs.pop('fast_mode')\n",
    "        nn.Conv1d.__init__(self, *args, **kwargs)\n",
    "        if self.groups > self.fast_mode:\n",
    "            self.weight = nn.Parameter(\n",
    "                self.weight.reshape(\n",
    "                    self.groups, self.out_channels // self.groups, self.in_channels // self.groups, 1\n",
    "                ).permute(3, 0, 2, 1)\n",
    "            )\n",
    "            self.bias = nn.Parameter(\n",
    "                self.bias.unsqueeze(0).unsqueeze(-1)\n",
    "            )\n",
    "\n",
    "    def forward(self, x: torch.Tensor) -> torch.Tensor:\n",
    "        if self.groups > self.fast_mode:\n",
    "            x = x.reshape(-1, self.groups, self.in_channels // self.groups, 1)\n",
    "            return (x * self.weight).sum(2, keepdims=True).permute(0, 1, 3, 2).reshape(-1, self.out_channels, 1) + self.bias\n",
    "        else:\n",
    "            return self._conv_forward(x, self.weight, self.bias)\n",
    "\n",
    "\n",
    "class ConditionGeneration(nn.Module):\n",
    "    def __init__(\n",
    "        self,\n",
    "        category_column_count: List[int],\n",
    "        n_cond: int = 128,\n",
    "        categorical_optimized: bool = False,\n",
    "        fast_mode: int = 64,\n",
    "    ):\n",
    "        super(ConditionGeneration, self).__init__()\n",
    "        self.fast_mode = fast_mode\n",
    "        self.categorical_optimized = categorical_optimized\n",
    "\n",
    "        index_info = self.extract_feature_metadata(category_column_count)\n",
    "        self.numerical_index = index_info['numerical_index']\n",
    "        self.categorical_index = index_info['categorical_index']\n",
    "        self.categorical_count = index_info['categorical_count']\n",
    "\n",
    "        categorical_offset = torch.tensor([0] + np.cumsum(self.categorical_count).tolist()[:-1]).long()\n",
    "        self.register_buffer('categorical_offset', categorical_offset)\n",
    "\n",
    "        self.n_cond = n_cond\n",
    "        self.phi_1 = self.get_phi_1()\n",
    "\n",
    "    def extract_feature_metadata(self, category_column_count: List[int]) -> Dict[str, List[int]]:\n",
    "        numerical_index = [i for i, count in enumerate(category_column_count) if count == -1]\n",
    "        categorical_index = [i for i, count in enumerate(category_column_count) if count != -1]\n",
    "        categorical_count = [count for count in category_column_count if count != -1]\n",
    "        return {\n",
    "            'numerical_index': numerical_index,\n",
    "            'categorical_index': categorical_index,\n",
    "            'categorical_count': categorical_count,\n",
    "        }\n",
    "\n",
    "    def get_phi_1(self) -> nn.ModuleDict:\n",
    "        phi_1 = nn.ModuleDict()\n",
    "        if len(self.numerical_index):\n",
    "            phi_1['num'] = nn.Sequential(\n",
    "                # input = (b, n_num_col)\n",
    "                # output = (b, n_num_col, n_cond)\n",
    "                Reshape(-1, len(self.numerical_index), 1),\n",
    "                FastGroupConv1d(\n",
    "                    len(self.numerical_index),\n",
    "                    len(self.numerical_index) * self.n_cond,\n",
    "                    kernel_size=1,\n",
    "                    groups=len(self.numerical_index),\n",
    "                    fast_mode=self.fast_mode\n",
    "                ), # (b, n_num_col, 1) -> (b, n_num_col * n_cond, 1)\n",
    "                nn.Sigmoid(),\n",
    "                Reshape(-1, len(self.numerical_index), self.n_cond)\n",
    "            )\n",
    "        if len(self.categorical_index):\n",
    "            phi_1['cat'] = nn.ModuleDict()\n",
    "            phi_1['cat']['embedder'] = nn.Embedding(sum(self.categorical_count), self.n_cond)            \n",
    "            phi_1['cat']['mapper'] = nn.Sequential(\n",
    "                # input = (b, n_cat_col, n_cond)\n",
    "                # output = (b, n_cat_col, n_cond)\n",
    "                Reshape(-1, len(self.categorical_index) * self.n_cond, 1),\n",
    "                nn.GroupNorm(len(self.categorical_index), len(self.categorical_index) * self.n_cond),\n",
    "                FastGroupConv1d(len(self.categorical_index) * self.n_cond, len(self.categorical_index)*self.n_cond, kernel_size=1, groups=len(self.categorical_index)*self.n_cond if self.categorical_optimized else len(self.categorical_index), fast_mode=self.fast_mode),                \n",
    "                nn.Sigmoid(),\n",
    "                Reshape(-1, len(self.categorical_index), self.n_cond)\n",
    "            )\n",
    "        return phi_1\n",
    "\n",
    "    def forward(self, x: torch.Tensor) -> torch.Tensor:\n",
    "        M = []\n",
    "\n",
    "        if len(self.numerical_index):\n",
    "            num_x = x[:, self.numerical_index].float()\n",
    "            num_sample_emb = self.phi_1['num'](num_x)\n",
    "            M.append(num_sample_emb)\n",
    "\n",
    "        if len(self.categorical_index):\n",
    "            cat_x = x[:, self.categorical_index].long() + self.cat_offset\n",
    "            cat_sample_emb = self.phi_1['cat']['mapper'](self.phi_1['cat']['embedder'](cat_x))\n",
    "            M.append(cat_sample_emb)\n",
    "\n",
    "        M = torch.cat(M, dim=1) # (b, n_col, n_cond)\n",
    "        M = M.permute(0, 2, 1) # (b, n_cond, n_col)\n",
    "        return M\n",
    "\n",
    "\n",
    "class rODTConstruction(nn.Module):\n",
    "    def __init__(self, n_cond: int, n_col: int, d: int) -> None:\n",
    "        super().__init__()\n",
    "        self.permutator = torch.rand(n_cond * n_col).argsort(-1)\n",
    "        self.d = d\n",
    "\n",
    "    def forward(self, M: torch.Tensor) -> torch.Tensor:\n",
    "        b, _, _, embed_dim = M.shape\n",
    "        return M.reshape(b, -1, embed_dim)[:, self.permutator, :].reshape(b, -1, self.d, embed_dim)\n",
    "\n",
    "\n",
    "class rODTForestConstruction(nn.Module):\n",
    "    def __init__(\n",
    "        self,\n",
    "        n_col: int,\n",
    "        n_rodt: int,\n",
    "        n_cond: int,\n",
    "        n_estimator: int,\n",
    "        n_head: int = 1,\n",
    "        n_hidden: int = 128,\n",
    "        n_forest: int = 100,\n",
    "        dropout: float = 0.0,\n",
    "        fast_mode: int = 64,\n",
    "        device = torch.device('cuda')\n",
    "    ) -> None:\n",
    "\n",
    "        super().__init__()\n",
    "        self.device = device\n",
    "        self.n_estimator = n_estimator\n",
    "        self.n_forest = n_forest\n",
    "        self.n_rodt = n_rodt\n",
    "        self.n_head = n_head\n",
    "        self.n_hidden = n_hidden\n",
    "\n",
    "        self.sample_without_replacement_eval = self.get_sample_without_replacement()\n",
    "\n",
    "    def get_sample_without_replacement(self) -> torch.Tensor:\n",
    "        return torch.rand(self.n_forest, self.n_rodt, device=self.device).argsort(-1)[:, :self.n_estimator]\n",
    "\n",
    "    def forward(self, w, E) -> torch.Tensor:\n",
    "        # w: (b, n_rodt, 1)\n",
    "        # E: (b, n_rodt, n_hidden)\n",
    "    \n",
    "        sample_without_replacement = self.get_sample_without_replacement() if self.training else self.sample_without_replacement_eval\n",
    "\n",
    "        w_prime = w[:, sample_without_replacement].softmax(-2) # (b, n_forest, n_rodt, 1)\n",
    "        E_prime = E[:, sample_without_replacement].reshape(\n",
    "            E.shape[0], self.n_forest, self.n_estimator, self.n_hidden\n",
    "        ) # (b, n_forest, n_rodt, n_hidden)\n",
    "\n",
    "        F = (w_prime * E_prime).sum(-2).reshape(\n",
    "            E.shape[0], self.n_forest, self.n_hidden\n",
    "        ) # (b, n_forest, n_hidden)\n",
    "        return F\n",
    "\n",
    "\n",
    "class rODTForestBagging(nn.Module):\n",
    "    def __init__(self, n_hidden: int, dropout: float, n_class: int) -> None:\n",
    "        super().__init__()\n",
    "        self.phi_3 = nn.Sequential(\n",
    "            nn.LayerNorm(n_hidden),\n",
    "            nn.Dropout(dropout),\n",
    "            nn.Linear(n_hidden, n_hidden),\n",
    "            nn.ReLU(),\n",
    "            nn.LayerNorm(n_hidden),\n",
    "            nn.Dropout(dropout),\n",
    "            nn.Linear(n_hidden, n_class)\n",
    "        )\n",
    "\n",
    "    def forward(self, F: torch.Tensor) -> torch.Tensor:\n",
    "        return self.phi_3(F) # (b, n_forest, n_class)\n",
    "\n",
    "\n",
    "class MultiheadAttention(nn.Module):\n",
    "    def __init__(self, embed_dim: int, num_heads: int, dropout: float = 0.):\n",
    "        super().__init__()\n",
    "        self.embed_dim = embed_dim\n",
    "        self.num_heads = num_heads\n",
    "        self.head_dim = embed_dim // num_heads\n",
    "        self.scaling = self.head_dim ** -0.5\n",
    "        assert self.head_dim * num_heads == embed_dim, \"embed_dim must be divisible by num_heads\"\n",
    "\n",
    "        self.qw_proj = self.create_linear(embed_dim, embed_dim)\n",
    "        self.kw_proj = self.create_linear(embed_dim, embed_dim)\n",
    "        self.vw_proj = self.create_linear(embed_dim, embed_dim)\n",
    "        self.ow_proj = self.create_linear(embed_dim, 1)\n",
    "\n",
    "        self.qE_proj = self.create_linear(embed_dim, embed_dim)\n",
    "        self.kE_proj = self.create_linear(embed_dim, embed_dim)\n",
    "        self.vE_proj = self.create_linear(embed_dim, embed_dim)\n",
    "        self.oE_proj = self.create_linear(embed_dim, embed_dim)\n",
    "\n",
    "        self.dropout = nn.Dropout(dropout)\n",
    "\n",
    "    def create_linear(self, in_features: int, out_features: int):\n",
    "        linear = nn.Linear(in_features, out_features)\n",
    "        nn.init.xavier_uniform_(linear.weight, gain=1 / 2 ** 0.5)\n",
    "        return linear\n",
    "\n",
    "    def forward(self, query: torch.Tensor, key: torch.Tensor, value: torch.Tensor) -> torch.Tensor:\n",
    "        \"\"\"\n",
    "        query: Tensor of shape (batch_size, tgt_len, embed_dim)\n",
    "        key: Tensor of shape (batch_size, src_len, embed_dim)\n",
    "        value: Tensor of shape (batch_size, src_len, embed_dim)\n",
    "        attn_mask: Optional[Tensor] of shape (tgt_len, src_len) or (batch_size, tgt_len, src_len)\n",
    "        \"\"\"\n",
    "        batch_size, tgt_len, _ = query.size()\n",
    "        src_len = key.size(1)\n",
    "\n",
    "        # Compute w\n",
    "        qw = self.qw_proj(query)  # shape: (batch_size, tgt_len, embed_dim)\n",
    "        kw = self.kw_proj(key)    # shape: (batch_size, src_len, embed_dim)\n",
    "        vw = self.vw_proj(value)  # shape: (batch_size, src_len, 1)\n",
    "\n",
    "        # Reshape into multihead format\n",
    "        qw = qw.view(batch_size, tgt_len, self.num_heads, self.head_dim).transpose(1, 2) # shape: (batch_size, num_heads, tgt_len, head_dim)\n",
    "        kw = kw.view(batch_size, src_len, self.num_heads, self.head_dim).transpose(1, 2) # shape: (batch_size, num_heads, src_len, head_dim)\n",
    "        vw = vw.view(batch_size, src_len, self.num_heads, self.head_dim).transpose(1, 2) # shape: (batch_size, num_heads, src_len, 1)\n",
    "\n",
    "        attn_w = F.softmax(torch.matmul(qw, kw.transpose(-2, -1)) / self.scaling, dim=-1) # shape: (batch_size, num_heads, tgt_len, src_len)\n",
    "        attn_w = self.dropout(attn_w) \n",
    "        attn_w_output = torch.matmul(attn_w, vw) # shape: (batch_size, num_heads, tgt_len, head_dim)\n",
    "\n",
    "        # Reshape back to original dimensions\n",
    "        attn_w_output = attn_w_output.transpose(1, 2).contiguous().view(batch_size, tgt_len, self.embed_dim) # shape: (batch_size, tgt_len, embed_dim)\n",
    "        w_output = self.ow_proj(attn_w_output) # shape: (batch_size, tgt_len, 1)\n",
    "        w_output = w_output.mean(1)\n",
    "\n",
    "        # Compute w\n",
    "        qE = self.qE_proj(query)  # shape: (batch_size, tgt_len, embed_dim)\n",
    "        kE = self.kE_proj(key)    # shape: (batch_size, src_len, embed_dim)\n",
    "        vE = self.vE_proj(value)  # shape: (batch_size, src_len, embed_dim)\n",
    "\n",
    "        # Reshape into multihead format\n",
    "        qE = qE.view(batch_size, tgt_len, self.num_heads, self.head_dim).transpose(1, 2) # shape: (batch_size, num_heads, tgt_len, head_dim)\n",
    "        kE = kE.view(batch_size, src_len, self.num_heads, self.head_dim).transpose(1, 2) # shape: (batch_size, num_heads, src_len, head_dim)\n",
    "        vE = vE.view(batch_size, src_len, self.num_heads, self.head_dim).transpose(1, 2) # shape: (batch_size, num_heads, src_len, 1)\n",
    "\n",
    "        attn_E = F.softmax(torch.matmul(qE, kE.transpose(-2, -1)) / self.scaling, dim=-1) # shape: (batch_size, num_heads, tgt_len, src_len)\n",
    "        attn_E = self.dropout(attn_E) \n",
    "        attn_E_output = torch.matmul(attn_E, vE) # shape: (batch_size, num_heads, tgt_len, head_dim)\n",
    "\n",
    "        # Reshape back to original dimensions\n",
    "        attn_E_output = attn_E_output.transpose(1, 2).contiguous().view(batch_size, tgt_len, self.embed_dim) # shape: (batch_size, tgt_len, embed_dim)\n",
    "        E_output = self.oE_proj(attn_E_output) # shape: (batch_size, tgt_len, embed_dim)\n",
    "        E_output = E_output.mean(1)\n",
    "\n",
    "        return w_output, E_output\n",
    "\n",
    "\n",
    "class DOFEN(nn.Module):\n",
    "    def __init__(\n",
    "        self,\n",
    "        category_column_count: List[int],\n",
    "        n_class: int, \n",
    "        m: int = 16, \n",
    "        d: int = 4, \n",
    "        n_head: int = 1,\n",
    "        n_forest: int = 100,\n",
    "        n_hidden: int = 128,\n",
    "        dropout: float = 0.0, \n",
    "        categorical_optimized: bool = False,\n",
    "        fast_mode: int = 2048,\n",
    "        use_bagging_loss: bool = False,\n",
    "        device=torch.device('cuda'),\n",
    "    ):\n",
    "        super().__init__()\n",
    "\n",
    "        self.device = device\n",
    "        self.n_class = 1 if n_class == -1 else n_class\n",
    "        self.is_rgr = True if n_class == -1 else False\n",
    "\n",
    "        self.m = m\n",
    "        self.d = d\n",
    "        self.n_head = n_head\n",
    "        self.n_forest = n_forest\n",
    "        self.n_hidden = n_hidden\n",
    "        self.dropout = dropout\n",
    "        self.use_bagging_loss = use_bagging_loss\n",
    "\n",
    "        self.n_cond = self.d * self.m\n",
    "        self.n_col = len(category_column_count)\n",
    "        self.n_rodt = self.n_cond * self.n_col // self.d\n",
    "        self.n_estimator = max(2, int(self.n_col ** 0.5)) * self.n_cond // self.d\n",
    "\n",
    "        self.condition_generation = ConditionGeneration(            \n",
    "            category_column_count, \n",
    "            n_cond=self.n_cond, \n",
    "            categorical_optimized=categorical_optimized, \n",
    "            fast_mode=fast_mode,\n",
    "        )\n",
    "\n",
    "        self.proj = nn.Linear(1, self.n_hidden)\n",
    "        self.rodt_construction = rODTConstruction(\n",
    "            self.n_cond,\n",
    "            self.n_col,\n",
    "            self.d,\n",
    "        )\n",
    "\n",
    "        self.norm = nn.LayerNorm(n_hidden)\n",
    "        self.attn = MultiheadAttention(\n",
    "            embed_dim=self.n_hidden,\n",
    "            num_heads=n_head,\n",
    "            dropout=0.2,\n",
    "        )\n",
    "\n",
    "        self.rodt_forest_construction = rODTForestConstruction(\n",
    "            self.n_col, \n",
    "            self.n_rodt, \n",
    "            self.n_cond,\n",
    "            self.n_estimator,\n",
    "            n_head=self.n_head, \n",
    "            n_hidden=self.n_hidden,\n",
    "            n_forest=self.n_forest,\n",
    "            dropout=self.dropout,\n",
    "            fast_mode=fast_mode,\n",
    "            device=self.device\n",
    "        )\n",
    "        self.rodt_forest_bagging = rODTForestBagging(\n",
    "            self.n_hidden,\n",
    "            self.dropout,\n",
    "            self.n_class\n",
    "        )\n",
    "\n",
    "        self.ffn_dropout_rate = 0.1\n",
    "        self.act = ReGLU()\n",
    "\n",
    "    def compute_loss(self, y_hat: torch.Tensor, y: torch.Tensor) -> torch.Tensor:\n",
    "        raise NotImplementedError\n",
    "\n",
    "    def evaluate(self, X: torch.Tensor, y: torch.Tensor) -> Dict[str, torch.Tensor]:\n",
    "        raise NotImplementedError\n",
    "\n",
    "    def forward(self, x: torch.Tensor, y: Optional[torch.Tensor] = None):\n",
    "        M = self.condition_generation(x)           # (b, n_cond, n_col)\n",
    "        M = M.unsqueeze(-1)                        # (b, n_cond, n_col, 1)\n",
    "        M = self.proj(M)                           # (b, n_cond, n_col, n_hidden)\n",
    "        O = self.rodt_construction(M)              # (b, n_rodt, d, n_hidden)\n",
    "        O = O.reshape(-1, self.d, self.n_hidden)   # (b * n_rodt, d, n_hidden)\n",
    "        O = self.norm(O)\n",
    "        w, E = self.attn(O, O, O)\n",
    "\n",
    "        w = w.reshape(-1, self.n_rodt, 1)\n",
    "        E = E.reshape(-1, self.n_rodt, self.n_hidden)\n",
    "\n",
    "        E_norm = E / E.norm(dim=-1, keepdim=True)\n",
    "        #sim_loss = torch.einsum('bij,bjk->bik', E_norm, E_norm.permute(0, 2, 1))\n",
    "\n",
    "        F = self.rodt_forest_construction(w, E) # (b, n_forest, n_hidden)\n",
    "        y_hats = self.rodt_forest_bagging(F)    # (b, n_rodt, n_class)\n",
    "        y_hat = y_hats.mean(1)                  # (b, n_class)\n",
    "\n",
    "        if y is not None:\n",
    "            loss = self.compute_loss(\n",
    "                y_hats.permute(0, 2, 1) if not self.is_rgr else y_hats, \n",
    "                y.unsqueeze(-1).expand(-1, self.n_forest)\n",
    "            ) #+  sim_loss.abs().mean()\n",
    "            if self.n_forest > 1 and self.training and self.use_bagging_loss:\n",
    "                loss += self.compute_loss(y_hat, y)\n",
    "            return {'pred': y_hat, 'loss': loss}\n",
    "        return {'pred': y_hat}\n",
    "\n",
    "    def predict(self, x: torch.Tensor) -> torch.Tensor:\n",
    "        return self.forward(x)['pred']\n",
    "\n",
    "\n",
    "class DOFENClassifier(BaseClassifier, DOFEN):\n",
    "    def __init__(\n",
    "        self,\n",
    "        category_column_count: List[int],\n",
    "        n_class: int, \n",
    "        m: int = 16,\n",
    "        d: int = 4,\n",
    "        n_head: int = 4,\n",
    "        n_forest: int = 100,\n",
    "        n_hidden: int = 16,\n",
    "        dropout: float = 0.0, \n",
    "        categorical_optimized: bool = False,\n",
    "        fast_mode: int = 2048,\n",
    "        use_bagging_loss: bool = False,\n",
    "        device=torch.device('cuda'),\n",
    "    ) -> None:\n",
    "\n",
    "        super().__init__(\n",
    "            category_column_count=category_column_count, \n",
    "            n_class=n_class, \n",
    "            m=m, \n",
    "            d=d, \n",
    "            n_head=n_head,\n",
    "            n_forest=n_forest,\n",
    "            n_hidden=n_hidden,\n",
    "            dropout=dropout, \n",
    "            categorical_optimized=categorical_optimized,\n",
    "            fast_mode=fast_mode,\n",
    "            use_bagging_loss=use_bagging_loss,\n",
    "            device=device,\n",
    "        )"
   ]
  },
  {
   "cell_type": "code",
   "execution_count": 86,
   "metadata": {},
   "outputs": [
    {
     "name": "stderr",
     "output_type": "stream",
     "text": [
      "  0%|          | 0/250 [00:00<?, ?it/s]"
     ]
    },
    {
     "name": "stderr",
     "output_type": "stream",
     "text": [
      "  0%|          | 1/250 [00:01<05:34,  1.34s/it]"
     ]
    },
    {
     "name": "stdout",
     "output_type": "stream",
     "text": [
      "{'epoch': 1, 'valid_accuracy': 0.5237649262467806, 'best_valid_epoch': 1, 'best_valid_score': 0.5237649262467806, 'test_accuracy': 0.5192153321292394, 'selected_test_score': 0.5192153321292394}\n"
     ]
    },
    {
     "name": "stderr",
     "output_type": "stream",
     "text": [
      "  1%|          | 2/250 [00:02<05:34,  1.35s/it]"
     ]
    },
    {
     "name": "stdout",
     "output_type": "stream",
     "text": [
      "{'epoch': 2, 'valid_accuracy': 0.520135799578553, 'best_valid_epoch': 1, 'best_valid_score': 0.5237649262467806, 'test_accuracy': 0.5195665261890428, 'selected_test_score': 0.5192153321292394}\n"
     ]
    },
    {
     "name": "stderr",
     "output_type": "stream",
     "text": [
      "  1%|          | 3/250 [00:04<05:32,  1.35s/it]"
     ]
    },
    {
     "name": "stdout",
     "output_type": "stream",
     "text": [
      "{'epoch': 3, 'valid_accuracy': 0.5009365488176071, 'best_valid_epoch': 1, 'best_valid_score': 0.5237649262467806, 'test_accuracy': 0.4990467589805338, 'selected_test_score': 0.5192153321292394}\n"
     ]
    },
    {
     "name": "stderr",
     "output_type": "stream",
     "text": [
      "  2%|▏         | 4/250 [00:05<05:29,  1.34s/it]"
     ]
    },
    {
     "name": "stdout",
     "output_type": "stream",
     "text": [
      "{'epoch': 4, 'valid_accuracy': 0.49906345118239287, 'best_valid_epoch': 1, 'best_valid_score': 0.5237649262467806, 'test_accuracy': 0.5009532410194661, 'selected_test_score': 0.5192153321292394}\n"
     ]
    },
    {
     "name": "stderr",
     "output_type": "stream",
     "text": [
      "  2%|▏         | 5/250 [00:06<05:27,  1.34s/it]"
     ]
    },
    {
     "name": "stdout",
     "output_type": "stream",
     "text": [
      "{'epoch': 5, 'valid_accuracy': 0.5751580426129712, 'best_valid_epoch': 5, 'best_valid_score': 0.5751580426129712, 'test_accuracy': 0.5689845474613686, 'selected_test_score': 0.5689845474613686}\n"
     ]
    },
    {
     "name": "stderr",
     "output_type": "stream",
     "text": [
      "  2%|▏         | 6/250 [00:08<05:27,  1.34s/it]"
     ]
    },
    {
     "name": "stdout",
     "output_type": "stream",
     "text": [
      "{'epoch': 6, 'valid_accuracy': 0.49906345118239287, 'best_valid_epoch': 5, 'best_valid_score': 0.5751580426129712, 'test_accuracy': 0.5009532410194661, 'selected_test_score': 0.5689845474613686}\n"
     ]
    },
    {
     "name": "stderr",
     "output_type": "stream",
     "text": [
      "  3%|▎         | 7/250 [00:09<05:35,  1.38s/it]"
     ]
    },
    {
     "name": "stdout",
     "output_type": "stream",
     "text": [
      "{'epoch': 7, 'valid_accuracy': 0.5451884804495434, 'best_valid_epoch': 5, 'best_valid_score': 0.5751580426129712, 'test_accuracy': 0.5423439694962874, 'selected_test_score': 0.5689845474613686}\n"
     ]
    },
    {
     "name": "stderr",
     "output_type": "stream",
     "text": [
      "  3%|▎         | 8/250 [00:10<05:30,  1.37s/it]"
     ]
    },
    {
     "name": "stdout",
     "output_type": "stream",
     "text": [
      "{'epoch': 8, 'valid_accuracy': 0.5009365488176071, 'best_valid_epoch': 5, 'best_valid_score': 0.5751580426129712, 'test_accuracy': 0.4990467589805338, 'selected_test_score': 0.5689845474613686}\n"
     ]
    },
    {
     "name": "stderr",
     "output_type": "stream",
     "text": [
      "  4%|▎         | 9/250 [00:12<05:26,  1.35s/it]"
     ]
    },
    {
     "name": "stdout",
     "output_type": "stream",
     "text": [
      "{'epoch': 9, 'valid_accuracy': 0.501053617419808, 'best_valid_epoch': 5, 'best_valid_score': 0.5751580426129712, 'test_accuracy': 0.5030604053782862, 'selected_test_score': 0.5689845474613686}\n"
     ]
    },
    {
     "name": "stderr",
     "output_type": "stream",
     "text": [
      "  4%|▍         | 10/250 [00:13<05:24,  1.35s/it]"
     ]
    },
    {
     "name": "stdout",
     "output_type": "stream",
     "text": [
      "{'epoch': 10, 'valid_accuracy': 0.5009365488176071, 'best_valid_epoch': 5, 'best_valid_score': 0.5751580426129712, 'test_accuracy': 0.4990467589805338, 'selected_test_score': 0.5689845474613686}\n"
     ]
    },
    {
     "name": "stderr",
     "output_type": "stream",
     "text": [
      "  4%|▍         | 11/250 [00:14<05:22,  1.35s/it]"
     ]
    },
    {
     "name": "stdout",
     "output_type": "stream",
     "text": [
      "{'epoch': 11, 'valid_accuracy': 0.643291969093889, 'best_valid_epoch': 11, 'best_valid_score': 0.643291969093889, 'test_accuracy': 0.6426851294400964, 'selected_test_score': 0.6426851294400964}\n"
     ]
    },
    {
     "name": "stderr",
     "output_type": "stream",
     "text": [
      "  5%|▍         | 12/250 [00:16<05:20,  1.35s/it]"
     ]
    },
    {
     "name": "stdout",
     "output_type": "stream",
     "text": [
      "{'epoch': 12, 'valid_accuracy': 0.5009365488176071, 'best_valid_epoch': 11, 'best_valid_score': 0.643291969093889, 'test_accuracy': 0.4990467589805338, 'selected_test_score': 0.6426851294400964}\n"
     ]
    },
    {
     "name": "stderr",
     "output_type": "stream",
     "text": [
      "  5%|▌         | 13/250 [00:17<05:19,  1.35s/it]"
     ]
    },
    {
     "name": "stdout",
     "output_type": "stream",
     "text": [
      "{'epoch': 13, 'valid_accuracy': 0.6472723015687193, 'best_valid_epoch': 13, 'best_valid_score': 0.6472723015687193, 'test_accuracy': 0.6520670278948425, 'selected_test_score': 0.6520670278948425}\n"
     ]
    },
    {
     "name": "stderr",
     "output_type": "stream",
     "text": [
      "  6%|▌         | 14/250 [00:18<05:12,  1.33s/it]"
     ]
    },
    {
     "name": "stdout",
     "output_type": "stream",
     "text": [
      "{'epoch': 14, 'valid_accuracy': 0.5024584406462187, 'best_valid_epoch': 13, 'best_valid_score': 0.6472723015687193, 'test_accuracy': 0.5011539233393538, 'selected_test_score': 0.6520670278948425}\n"
     ]
    },
    {
     "name": "stderr",
     "output_type": "stream",
     "text": [
      "  6%|▌         | 15/250 [00:20<05:12,  1.33s/it]"
     ]
    },
    {
     "name": "stdout",
     "output_type": "stream",
     "text": [
      "{'epoch': 15, 'valid_accuracy': 0.5063217045188481, 'best_valid_epoch': 13, 'best_valid_score': 0.6472723015687193, 'test_accuracy': 0.5078266104756171, 'selected_test_score': 0.6520670278948425}\n"
     ]
    },
    {
     "name": "stderr",
     "output_type": "stream",
     "text": [
      "  6%|▋         | 16/250 [00:21<05:11,  1.33s/it]"
     ]
    },
    {
     "name": "stdout",
     "output_type": "stream",
     "text": [
      "{'epoch': 16, 'valid_accuracy': 0.6663544837274643, 'best_valid_epoch': 16, 'best_valid_score': 0.6663544837274643, 'test_accuracy': 0.665914107967088, 'selected_test_score': 0.665914107967088}\n"
     ]
    },
    {
     "name": "stderr",
     "output_type": "stream",
     "text": [
      "  7%|▋         | 17/250 [00:22<05:09,  1.33s/it]"
     ]
    },
    {
     "name": "stdout",
     "output_type": "stream",
     "text": [
      "{'epoch': 17, 'valid_accuracy': 0.5585343011004449, 'best_valid_epoch': 16, 'best_valid_score': 0.6663544837274643, 'test_accuracy': 0.5537326911499096, 'selected_test_score': 0.665914107967088}\n"
     ]
    },
    {
     "name": "stderr",
     "output_type": "stream",
     "text": [
      "  7%|▋         | 18/250 [00:24<05:09,  1.33s/it]"
     ]
    },
    {
     "name": "stdout",
     "output_type": "stream",
     "text": [
      "{'epoch': 18, 'valid_accuracy': 0.5009365488176071, 'best_valid_epoch': 16, 'best_valid_score': 0.6663544837274643, 'test_accuracy': 0.4990467589805338, 'selected_test_score': 0.665914107967088}\n"
     ]
    },
    {
     "name": "stderr",
     "output_type": "stream",
     "text": [
      "  8%|▊         | 19/250 [00:25<05:13,  1.36s/it]"
     ]
    },
    {
     "name": "stdout",
     "output_type": "stream",
     "text": [
      "{'epoch': 19, 'valid_accuracy': 0.4998829313977991, 'best_valid_epoch': 16, 'best_valid_score': 0.6663544837274643, 'test_accuracy': 0.5017559702990166, 'selected_test_score': 0.665914107967088}\n"
     ]
    },
    {
     "name": "stderr",
     "output_type": "stream",
     "text": [
      "  8%|▊         | 20/250 [00:26<05:10,  1.35s/it]"
     ]
    },
    {
     "name": "stdout",
     "output_type": "stream",
     "text": [
      "{'epoch': 20, 'valid_accuracy': 0.557363615078436, 'best_valid_epoch': 16, 'best_valid_score': 0.6663544837274643, 'test_accuracy': 0.555639173188842, 'selected_test_score': 0.665914107967088}\n"
     ]
    },
    {
     "name": "stderr",
     "output_type": "stream",
     "text": [
      "  8%|▊         | 21/250 [00:28<05:08,  1.35s/it]"
     ]
    },
    {
     "name": "stdout",
     "output_type": "stream",
     "text": [
      "{'epoch': 21, 'valid_accuracy': 0.5009365488176071, 'best_valid_epoch': 16, 'best_valid_score': 0.6663544837274643, 'test_accuracy': 0.4990467589805338, 'selected_test_score': 0.665914107967088}\n"
     ]
    },
    {
     "name": "stderr",
     "output_type": "stream",
     "text": [
      "  9%|▉         | 22/250 [00:29<05:05,  1.34s/it]"
     ]
    },
    {
     "name": "stdout",
     "output_type": "stream",
     "text": [
      "{'epoch': 22, 'valid_accuracy': 0.5009365488176071, 'best_valid_epoch': 16, 'best_valid_score': 0.6663544837274643, 'test_accuracy': 0.4990467589805338, 'selected_test_score': 0.665914107967088}\n"
     ]
    },
    {
     "name": "stderr",
     "output_type": "stream",
     "text": [
      "  9%|▉         | 23/250 [00:30<05:03,  1.34s/it]"
     ]
    },
    {
     "name": "stdout",
     "output_type": "stream",
     "text": [
      "{'epoch': 23, 'valid_accuracy': 0.5924841957387029, 'best_valid_epoch': 16, 'best_valid_score': 0.6663544837274643, 'test_accuracy': 0.5859923740718442, 'selected_test_score': 0.665914107967088}\n"
     ]
    },
    {
     "name": "stderr",
     "output_type": "stream",
     "text": [
      " 10%|▉         | 24/250 [00:32<05:03,  1.34s/it]"
     ]
    },
    {
     "name": "stdout",
     "output_type": "stream",
     "text": [
      "{'epoch': 24, 'valid_accuracy': 0.6741980800749239, 'best_valid_epoch': 24, 'best_valid_score': 0.6741980800749239, 'test_accuracy': 0.6708809953843067, 'selected_test_score': 0.6708809953843067}\n"
     ]
    },
    {
     "name": "stderr",
     "output_type": "stream",
     "text": [
      " 10%|█         | 25/250 [00:33<05:02,  1.34s/it]"
     ]
    },
    {
     "name": "stdout",
     "output_type": "stream",
     "text": [
      "{'epoch': 25, 'valid_accuracy': 0.6023179583235776, 'best_valid_epoch': 24, 'best_valid_score': 0.6741980800749239, 'test_accuracy': 0.5957254665863937, 'selected_test_score': 0.6708809953843067}\n"
     ]
    },
    {
     "name": "stderr",
     "output_type": "stream",
     "text": [
      " 10%|█         | 26/250 [00:34<05:00,  1.34s/it]"
     ]
    },
    {
     "name": "stdout",
     "output_type": "stream",
     "text": [
      "{'epoch': 26, 'valid_accuracy': 0.6322875204870054, 'best_valid_epoch': 24, 'best_valid_score': 0.6741980800749239, 'test_accuracy': 0.6303933373469798, 'selected_test_score': 0.6708809953843067}\n"
     ]
    },
    {
     "name": "stderr",
     "output_type": "stream",
     "text": [
      " 11%|█         | 27/250 [00:36<04:59,  1.34s/it]"
     ]
    },
    {
     "name": "stdout",
     "output_type": "stream",
     "text": [
      "{'epoch': 27, 'valid_accuracy': 0.6164832591898852, 'best_valid_epoch': 24, 'best_valid_score': 0.6741980800749239, 'test_accuracy': 0.6111278346377684, 'selected_test_score': 0.6708809953843067}\n"
     ]
    },
    {
     "name": "stderr",
     "output_type": "stream",
     "text": [
      " 11%|█         | 28/250 [00:37<04:57,  1.34s/it]"
     ]
    },
    {
     "name": "stdout",
     "output_type": "stream",
     "text": [
      "{'epoch': 28, 'valid_accuracy': 0.7013579957855304, 'best_valid_epoch': 28, 'best_valid_score': 0.7013579957855304, 'test_accuracy': 0.6978727674091912, 'selected_test_score': 0.6978727674091912}\n"
     ]
    },
    {
     "name": "stderr",
     "output_type": "stream",
     "text": [
      " 12%|█▏        | 29/250 [00:38<04:55,  1.34s/it]"
     ]
    },
    {
     "name": "stdout",
     "output_type": "stream",
     "text": [
      "{'epoch': 29, 'valid_accuracy': 0.6959728400842894, 'best_valid_epoch': 28, 'best_valid_score': 0.7013579957855304, 'test_accuracy': 0.6945113385510736, 'selected_test_score': 0.6978727674091912}\n"
     ]
    },
    {
     "name": "stderr",
     "output_type": "stream",
     "text": [
      " 12%|█▏        | 30/250 [00:40<04:59,  1.36s/it]"
     ]
    },
    {
     "name": "stdout",
     "output_type": "stream",
     "text": [
      "{'epoch': 30, 'valid_accuracy': 0.6511355654413487, 'best_valid_epoch': 28, 'best_valid_score': 0.7013579957855304, 'test_accuracy': 0.6495083283162754, 'selected_test_score': 0.6978727674091912}\n"
     ]
    },
    {
     "name": "stderr",
     "output_type": "stream",
     "text": [
      " 12%|█▏        | 31/250 [00:41<04:52,  1.33s/it]"
     ]
    },
    {
     "name": "stdout",
     "output_type": "stream",
     "text": [
      "{'epoch': 31, 'valid_accuracy': 0.696324045890892, 'best_valid_epoch': 28, 'best_valid_score': 0.7013579957855304, 'test_accuracy': 0.6951635560907085, 'selected_test_score': 0.6978727674091912}\n"
     ]
    },
    {
     "name": "stderr",
     "output_type": "stream",
     "text": [
      " 13%|█▎        | 32/250 [00:43<04:52,  1.34s/it]"
     ]
    },
    {
     "name": "stdout",
     "output_type": "stream",
     "text": [
      "{'epoch': 32, 'valid_accuracy': 0.6690470615780848, 'best_valid_epoch': 28, 'best_valid_score': 0.7013579957855304, 'test_accuracy': 0.6666666666666666, 'selected_test_score': 0.6978727674091912}\n"
     ]
    },
    {
     "name": "stderr",
     "output_type": "stream",
     "text": [
      " 13%|█▎        | 33/250 [00:44<04:51,  1.34s/it]"
     ]
    },
    {
     "name": "stdout",
     "output_type": "stream",
     "text": [
      "{'epoch': 33, 'valid_accuracy': 0.7244205104191056, 'best_valid_epoch': 33, 'best_valid_score': 0.7244205104191056, 'test_accuracy': 0.7215031105759583, 'selected_test_score': 0.7215031105759583}\n"
     ]
    },
    {
     "name": "stderr",
     "output_type": "stream",
     "text": [
      " 14%|█▎        | 34/250 [00:45<04:49,  1.34s/it]"
     ]
    },
    {
     "name": "stdout",
     "output_type": "stream",
     "text": [
      "{'epoch': 34, 'valid_accuracy': 0.7384687426832124, 'best_valid_epoch': 34, 'best_valid_score': 0.7384687426832124, 'test_accuracy': 0.7354003612281758, 'selected_test_score': 0.7354003612281758}\n"
     ]
    },
    {
     "name": "stderr",
     "output_type": "stream",
     "text": [
      " 14%|█▍        | 35/250 [00:47<04:47,  1.34s/it]"
     ]
    },
    {
     "name": "stdout",
     "output_type": "stream",
     "text": [
      "{'epoch': 35, 'valid_accuracy': 0.6891828611566377, 'best_valid_epoch': 34, 'best_valid_score': 0.7384687426832124, 'test_accuracy': 0.6871362632952037, 'selected_test_score': 0.7354003612281758}\n"
     ]
    },
    {
     "name": "stderr",
     "output_type": "stream",
     "text": [
      " 14%|█▍        | 36/250 [00:48<04:46,  1.34s/it]"
     ]
    },
    {
     "name": "stdout",
     "output_type": "stream",
     "text": [
      "{'epoch': 36, 'valid_accuracy': 0.7142355420276282, 'best_valid_epoch': 34, 'best_valid_score': 0.7384687426832124, 'test_accuracy': 0.713726670680313, 'selected_test_score': 0.7354003612281758}\n"
     ]
    },
    {
     "name": "stderr",
     "output_type": "stream",
     "text": [
      " 15%|█▍        | 37/250 [00:49<04:45,  1.34s/it]"
     ]
    },
    {
     "name": "stdout",
     "output_type": "stream",
     "text": [
      "{'epoch': 37, 'valid_accuracy': 0.7055724654647624, 'best_valid_epoch': 34, 'best_valid_score': 0.7384687426832124, 'test_accuracy': 0.7019365843869155, 'selected_test_score': 0.7354003612281758}\n"
     ]
    },
    {
     "name": "stderr",
     "output_type": "stream",
     "text": [
      " 15%|█▌        | 38/250 [00:51<04:45,  1.34s/it]"
     ]
    },
    {
     "name": "stdout",
     "output_type": "stream",
     "text": [
      "{'epoch': 38, 'valid_accuracy': 0.7045188480449543, 'best_valid_epoch': 34, 'best_valid_score': 0.7384687426832124, 'test_accuracy': 0.6988761790086293, 'selected_test_score': 0.7354003612281758}\n"
     ]
    },
    {
     "name": "stderr",
     "output_type": "stream",
     "text": [
      " 16%|█▌        | 39/250 [00:52<04:44,  1.35s/it]"
     ]
    },
    {
     "name": "stdout",
     "output_type": "stream",
     "text": [
      "{'epoch': 39, 'valid_accuracy': 0.7343713416061812, 'best_valid_epoch': 34, 'best_valid_score': 0.7384687426832124, 'test_accuracy': 0.7335942203491872, 'selected_test_score': 0.7354003612281758}\n"
     ]
    },
    {
     "name": "stderr",
     "output_type": "stream",
     "text": [
      " 16%|█▌        | 40/250 [00:53<04:42,  1.34s/it]"
     ]
    },
    {
     "name": "stdout",
     "output_type": "stream",
     "text": [
      "{'epoch': 40, 'valid_accuracy': 0.7349566846171857, 'best_valid_epoch': 34, 'best_valid_score': 0.7384687426832124, 'test_accuracy': 0.7340959261489063, 'selected_test_score': 0.7354003612281758}\n"
     ]
    },
    {
     "name": "stderr",
     "output_type": "stream",
     "text": [
      " 16%|█▋        | 41/250 [00:55<04:39,  1.34s/it]"
     ]
    },
    {
     "name": "stdout",
     "output_type": "stream",
     "text": [
      "{'epoch': 41, 'valid_accuracy': 0.7291032545071412, 'best_valid_epoch': 34, 'best_valid_score': 0.7384687426832124, 'test_accuracy': 0.7299819385912101, 'selected_test_score': 0.7354003612281758}\n"
     ]
    },
    {
     "name": "stderr",
     "output_type": "stream",
     "text": [
      " 17%|█▋        | 42/250 [00:56<04:42,  1.36s/it]"
     ]
    },
    {
     "name": "stdout",
     "output_type": "stream",
     "text": [
      "{'epoch': 42, 'valid_accuracy': 0.7383516740810114, 'best_valid_epoch': 34, 'best_valid_score': 0.7384687426832124, 'test_accuracy': 0.7368051374673891, 'selected_test_score': 0.7354003612281758}\n"
     ]
    },
    {
     "name": "stderr",
     "output_type": "stream",
     "text": [
      " 17%|█▋        | 43/250 [00:57<04:40,  1.36s/it]"
     ]
    },
    {
     "name": "stdout",
     "output_type": "stream",
     "text": [
      "{'epoch': 43, 'valid_accuracy': 0.715406228049637, 'best_valid_epoch': 34, 'best_valid_score': 0.7384687426832124, 'test_accuracy': 0.7158840056191049, 'selected_test_score': 0.7354003612281758}\n"
     ]
    },
    {
     "name": "stderr",
     "output_type": "stream",
     "text": [
      " 18%|█▊        | 44/250 [00:59<04:38,  1.35s/it]"
     ]
    },
    {
     "name": "stdout",
     "output_type": "stream",
     "text": [
      "{'epoch': 44, 'valid_accuracy': 0.7183329431046593, 'best_valid_epoch': 34, 'best_valid_score': 0.7384687426832124, 'test_accuracy': 0.7185430463576159, 'selected_test_score': 0.7354003612281758}\n"
     ]
    },
    {
     "name": "stderr",
     "output_type": "stream",
     "text": [
      " 18%|█▊        | 45/250 [01:00<04:36,  1.35s/it]"
     ]
    },
    {
     "name": "stdout",
     "output_type": "stream",
     "text": [
      "{'epoch': 45, 'valid_accuracy': 0.7308592835401545, 'best_valid_epoch': 34, 'best_valid_score': 0.7384687426832124, 'test_accuracy': 0.7317880794701986, 'selected_test_score': 0.7354003612281758}\n"
     ]
    },
    {
     "name": "stderr",
     "output_type": "stream",
     "text": [
      " 18%|█▊        | 46/250 [01:01<04:33,  1.34s/it]"
     ]
    },
    {
     "name": "stdout",
     "output_type": "stream",
     "text": [
      "{'epoch': 46, 'valid_accuracy': 0.733551861390775, 'best_valid_epoch': 34, 'best_valid_score': 0.7384687426832124, 'test_accuracy': 0.7346478025285972, 'selected_test_score': 0.7354003612281758}\n"
     ]
    },
    {
     "name": "stderr",
     "output_type": "stream",
     "text": [
      " 19%|█▉        | 47/250 [01:03<04:31,  1.34s/it]"
     ]
    },
    {
     "name": "stdout",
     "output_type": "stream",
     "text": [
      "{'epoch': 47, 'valid_accuracy': 0.7348396160149848, 'best_valid_epoch': 34, 'best_valid_score': 0.7384687426832124, 'test_accuracy': 0.7360525787678106, 'selected_test_score': 0.7354003612281758}\n"
     ]
    },
    {
     "name": "stderr",
     "output_type": "stream",
     "text": [
      " 19%|█▉        | 48/250 [01:04<04:26,  1.32s/it]"
     ]
    },
    {
     "name": "stdout",
     "output_type": "stream",
     "text": [
      "{'epoch': 48, 'valid_accuracy': 0.7015921329899321, 'best_valid_epoch': 34, 'best_valid_score': 0.7384687426832124, 'test_accuracy': 0.6978225968292193, 'selected_test_score': 0.7354003612281758}\n"
     ]
    },
    {
     "name": "stderr",
     "output_type": "stream",
     "text": [
      " 20%|█▉        | 49/250 [01:05<04:26,  1.33s/it]"
     ]
    },
    {
     "name": "stdout",
     "output_type": "stream",
     "text": [
      "{'epoch': 49, 'valid_accuracy': 0.7371809880590026, 'best_valid_epoch': 34, 'best_valid_score': 0.7384687426832124, 'test_accuracy': 0.7370559903672487, 'selected_test_score': 0.7354003612281758}\n"
     ]
    },
    {
     "name": "stderr",
     "output_type": "stream",
     "text": [
      " 20%|██        | 50/250 [01:07<04:26,  1.33s/it]"
     ]
    },
    {
     "name": "stdout",
     "output_type": "stream",
     "text": [
      "{'epoch': 50, 'valid_accuracy': 0.7151720908452353, 'best_valid_epoch': 34, 'best_valid_score': 0.7384687426832124, 'test_accuracy': 0.7161348585189645, 'selected_test_score': 0.7354003612281758}\n"
     ]
    },
    {
     "name": "stderr",
     "output_type": "stream",
     "text": [
      " 20%|██        | 51/250 [01:08<04:26,  1.34s/it]"
     ]
    },
    {
     "name": "stdout",
     "output_type": "stream",
     "text": [
      "{'epoch': 51, 'valid_accuracy': 0.7382346054788106, 'best_valid_epoch': 34, 'best_valid_score': 0.7384687426832124, 'test_accuracy': 0.737407184427052, 'selected_test_score': 0.7354003612281758}\n"
     ]
    },
    {
     "name": "stderr",
     "output_type": "stream",
     "text": [
      " 21%|██        | 52/250 [01:09<04:25,  1.34s/it]"
     ]
    },
    {
     "name": "stdout",
     "output_type": "stream",
     "text": [
      "{'epoch': 52, 'valid_accuracy': 0.734605478810583, 'best_valid_epoch': 34, 'best_valid_score': 0.7384687426832124, 'test_accuracy': 0.7371563315271924, 'selected_test_score': 0.7354003612281758}\n"
     ]
    },
    {
     "name": "stderr",
     "output_type": "stream",
     "text": [
      " 21%|██        | 53/250 [01:11<04:24,  1.34s/it]"
     ]
    },
    {
     "name": "stdout",
     "output_type": "stream",
     "text": [
      "{'epoch': 53, 'valid_accuracy': 0.7347225474127839, 'best_valid_epoch': 34, 'best_valid_score': 0.7384687426832124, 'test_accuracy': 0.736855308047361, 'selected_test_score': 0.7354003612281758}\n"
     ]
    },
    {
     "name": "stderr",
     "output_type": "stream",
     "text": [
      " 22%|██▏       | 54/250 [01:12<04:10,  1.28s/it]"
     ]
    },
    {
     "name": "stdout",
     "output_type": "stream",
     "text": [
      "{'epoch': 54, 'valid_accuracy': 0.7401077031140249, 'best_valid_epoch': 54, 'best_valid_score': 0.7401077031140249, 'test_accuracy': 0.7381095725466587, 'selected_test_score': 0.7381095725466587}\n"
     ]
    },
    {
     "name": "stderr",
     "output_type": "stream",
     "text": [
      " 22%|██▏       | 55/250 [01:13<03:37,  1.11s/it]"
     ]
    },
    {
     "name": "stdout",
     "output_type": "stream",
     "text": [
      "{'epoch': 55, 'valid_accuracy': 0.7319129009599625, 'best_valid_epoch': 54, 'best_valid_score': 0.7401077031140249, 'test_accuracy': 0.732139273530002, 'selected_test_score': 0.7381095725466587}\n"
     ]
    },
    {
     "name": "stderr",
     "output_type": "stream",
     "text": [
      " 22%|██▏       | 56/250 [01:13<03:15,  1.01s/it]"
     ]
    },
    {
     "name": "stdout",
     "output_type": "stream",
     "text": [
      "{'epoch': 56, 'valid_accuracy': 0.7432685553734488, 'best_valid_epoch': 56, 'best_valid_score': 0.7432685553734488, 'test_accuracy': 0.7411699779249448, 'selected_test_score': 0.7411699779249448}\n"
     ]
    },
    {
     "name": "stderr",
     "output_type": "stream",
     "text": [
      " 23%|██▎       | 57/250 [01:14<03:00,  1.07it/s]"
     ]
    },
    {
     "name": "stdout",
     "output_type": "stream",
     "text": [
      "{'epoch': 57, 'valid_accuracy': 0.7230156871926949, 'best_valid_epoch': 56, 'best_valid_score': 0.7432685553734488, 'test_accuracy': 0.7250150511739916, 'selected_test_score': 0.7411699779249448}\n"
     ]
    },
    {
     "name": "stderr",
     "output_type": "stream",
     "text": [
      " 23%|██▎       | 58/250 [01:15<02:48,  1.14it/s]"
     ]
    },
    {
     "name": "stdout",
     "output_type": "stream",
     "text": [
      "{'epoch': 58, 'valid_accuracy': 0.7402247717162257, 'best_valid_epoch': 56, 'best_valid_score': 0.7432685553734488, 'test_accuracy': 0.7397150311057595, 'selected_test_score': 0.7411699779249448}\n"
     ]
    },
    {
     "name": "stderr",
     "output_type": "stream",
     "text": [
      " 24%|██▎       | 59/250 [01:16<02:38,  1.20it/s]"
     ]
    },
    {
     "name": "stdout",
     "output_type": "stream",
     "text": [
      "{'epoch': 59, 'valid_accuracy': 0.7410442519316319, 'best_valid_epoch': 56, 'best_valid_score': 0.7432685553734488, 'test_accuracy': 0.7401163957455348, 'selected_test_score': 0.7411699779249448}\n"
     ]
    },
    {
     "name": "stderr",
     "output_type": "stream",
     "text": [
      " 24%|██▍       | 60/250 [01:16<02:37,  1.20it/s]"
     ]
    },
    {
     "name": "stdout",
     "output_type": "stream",
     "text": [
      "{'epoch': 60, 'valid_accuracy': 0.7410442519316319, 'best_valid_epoch': 56, 'best_valid_score': 0.7432685553734488, 'test_accuracy': 0.7400662251655629, 'selected_test_score': 0.7411699779249448}\n"
     ]
    },
    {
     "name": "stderr",
     "output_type": "stream",
     "text": [
      " 24%|██▍       | 61/250 [01:18<03:05,  1.02it/s]"
     ]
    },
    {
     "name": "stdout",
     "output_type": "stream",
     "text": [
      "{'epoch': 61, 'valid_accuracy': 0.7309763521423555, 'best_valid_epoch': 56, 'best_valid_score': 0.7432685553734488, 'test_accuracy': 0.7325908087497491, 'selected_test_score': 0.7411699779249448}\n"
     ]
    },
    {
     "name": "stderr",
     "output_type": "stream",
     "text": [
      " 25%|██▍       | 62/250 [01:19<03:24,  1.09s/it]"
     ]
    },
    {
     "name": "stdout",
     "output_type": "stream",
     "text": [
      "{'epoch': 62, 'valid_accuracy': 0.7409271833294311, 'best_valid_epoch': 56, 'best_valid_score': 0.7432685553734488, 'test_accuracy': 0.7411699779249448, 'selected_test_score': 0.7411699779249448}\n"
     ]
    },
    {
     "name": "stderr",
     "output_type": "stream",
     "text": [
      " 25%|██▌       | 63/250 [01:20<03:37,  1.16s/it]"
     ]
    },
    {
     "name": "stdout",
     "output_type": "stream",
     "text": [
      "{'epoch': 63, 'valid_accuracy': 0.7415125263404355, 'best_valid_epoch': 56, 'best_valid_score': 0.7432685553734488, 'test_accuracy': 0.740567930965282, 'selected_test_score': 0.7411699779249448}\n"
     ]
    },
    {
     "name": "stderr",
     "output_type": "stream",
     "text": [
      " 26%|██▌       | 64/250 [01:22<03:46,  1.22s/it]"
     ]
    },
    {
     "name": "stdout",
     "output_type": "stream",
     "text": [
      "{'epoch': 64, 'valid_accuracy': 0.7369468508546008, 'best_valid_epoch': 56, 'best_valid_score': 0.7432685553734488, 'test_accuracy': 0.7381597431266306, 'selected_test_score': 0.7411699779249448}\n"
     ]
    },
    {
     "name": "stderr",
     "output_type": "stream",
     "text": [
      " 26%|██▌       | 65/250 [01:23<03:51,  1.25s/it]"
     ]
    },
    {
     "name": "stdout",
     "output_type": "stream",
     "text": [
      "{'epoch': 65, 'valid_accuracy': 0.7374151252634044, 'best_valid_epoch': 56, 'best_valid_score': 0.7432685553734488, 'test_accuracy': 0.7377583784868553, 'selected_test_score': 0.7411699779249448}\n"
     ]
    },
    {
     "name": "stderr",
     "output_type": "stream",
     "text": [
      " 26%|██▋       | 66/250 [01:24<03:59,  1.30s/it]"
     ]
    },
    {
     "name": "stdout",
     "output_type": "stream",
     "text": [
      "{'epoch': 66, 'valid_accuracy': 0.7425661437602435, 'best_valid_epoch': 56, 'best_valid_score': 0.7432685553734488, 'test_accuracy': 0.7411699779249448, 'selected_test_score': 0.7411699779249448}\n"
     ]
    },
    {
     "name": "stderr",
     "output_type": "stream",
     "text": [
      " 27%|██▋       | 67/250 [01:26<04:00,  1.32s/it]"
     ]
    },
    {
     "name": "stdout",
     "output_type": "stream",
     "text": [
      "{'epoch': 67, 'valid_accuracy': 0.7417466635448373, 'best_valid_epoch': 56, 'best_valid_score': 0.7432685553734488, 'test_accuracy': 0.7412703190848886, 'selected_test_score': 0.7411699779249448}\n"
     ]
    },
    {
     "name": "stderr",
     "output_type": "stream",
     "text": [
      " 27%|██▋       | 68/250 [01:27<04:01,  1.33s/it]"
     ]
    },
    {
     "name": "stdout",
     "output_type": "stream",
     "text": [
      "{'epoch': 68, 'valid_accuracy': 0.7410442519316319, 'best_valid_epoch': 56, 'best_valid_score': 0.7432685553734488, 'test_accuracy': 0.7425245835841863, 'selected_test_score': 0.7411699779249448}\n"
     ]
    },
    {
     "name": "stderr",
     "output_type": "stream",
     "text": [
      " 28%|██▊       | 69/250 [01:29<04:00,  1.33s/it]"
     ]
    },
    {
     "name": "stdout",
     "output_type": "stream",
     "text": [
      "{'epoch': 69, 'valid_accuracy': 0.7436197611800515, 'best_valid_epoch': 69, 'best_valid_score': 0.7436197611800515, 'test_accuracy': 0.7425747541641582, 'selected_test_score': 0.7425747541641582}\n"
     ]
    },
    {
     "name": "stderr",
     "output_type": "stream",
     "text": [
      " 28%|██▊       | 70/250 [01:30<03:59,  1.33s/it]"
     ]
    },
    {
     "name": "stdout",
     "output_type": "stream",
     "text": [
      "{'epoch': 70, 'valid_accuracy': 0.7426832123624444, 'best_valid_epoch': 69, 'best_valid_score': 0.7436197611800515, 'test_accuracy': 0.7422737306843267, 'selected_test_score': 0.7425747541641582}\n"
     ]
    },
    {
     "name": "stderr",
     "output_type": "stream",
     "text": [
      " 28%|██▊       | 71/250 [01:31<03:58,  1.33s/it]"
     ]
    },
    {
     "name": "stdout",
     "output_type": "stream",
     "text": [
      "{'epoch': 71, 'valid_accuracy': 0.743034418169047, 'best_valid_epoch': 69, 'best_valid_score': 0.7436197611800515, 'test_accuracy': 0.7425245835841863, 'selected_test_score': 0.7425747541641582}\n"
     ]
    },
    {
     "name": "stderr",
     "output_type": "stream",
     "text": [
      " 29%|██▉       | 72/250 [01:33<03:58,  1.34s/it]"
     ]
    },
    {
     "name": "stdout",
     "output_type": "stream",
     "text": [
      "{'epoch': 72, 'valid_accuracy': 0.738819948489815, 'best_valid_epoch': 69, 'best_valid_score': 0.7436197611800515, 'test_accuracy': 0.7404675898053381, 'selected_test_score': 0.7425747541641582}\n"
     ]
    },
    {
     "name": "stderr",
     "output_type": "stream",
     "text": [
      " 29%|██▉       | 73/250 [01:34<03:57,  1.34s/it]"
     ]
    },
    {
     "name": "stdout",
     "output_type": "stream",
     "text": [
      "{'epoch': 73, 'valid_accuracy': 0.7436197611800515, 'best_valid_epoch': 69, 'best_valid_score': 0.7436197611800515, 'test_accuracy': 0.7430262893839052, 'selected_test_score': 0.7425747541641582}\n"
     ]
    },
    {
     "name": "stderr",
     "output_type": "stream",
     "text": [
      " 30%|██▉       | 74/250 [01:35<03:54,  1.34s/it]"
     ]
    },
    {
     "name": "stdout",
     "output_type": "stream",
     "text": [
      "{'epoch': 74, 'valid_accuracy': 0.7438538983844533, 'best_valid_epoch': 74, 'best_valid_score': 0.7438538983844533, 'test_accuracy': 0.7431266305438491, 'selected_test_score': 0.7431266305438491}\n"
     ]
    },
    {
     "name": "stderr",
     "output_type": "stream",
     "text": [
      " 30%|███       | 75/250 [01:37<03:54,  1.34s/it]"
     ]
    },
    {
     "name": "stdout",
     "output_type": "stream",
     "text": [
      "{'epoch': 75, 'valid_accuracy': 0.7468976820416764, 'best_valid_epoch': 75, 'best_valid_score': 0.7468976820416764, 'test_accuracy': 0.745283965482641, 'selected_test_score': 0.745283965482641}\n"
     ]
    },
    {
     "name": "stderr",
     "output_type": "stream",
     "text": [
      " 30%|███       | 76/250 [01:38<03:53,  1.34s/it]"
     ]
    },
    {
     "name": "stdout",
     "output_type": "stream",
     "text": [
      "{'epoch': 76, 'valid_accuracy': 0.7424490751580426, 'best_valid_epoch': 75, 'best_valid_score': 0.7468976820416764, 'test_accuracy': 0.7437286775035119, 'selected_test_score': 0.745283965482641}\n"
     ]
    },
    {
     "name": "stderr",
     "output_type": "stream",
     "text": [
      " 31%|███       | 77/250 [01:39<03:51,  1.34s/it]"
     ]
    },
    {
     "name": "stdout",
     "output_type": "stream",
     "text": [
      "{'epoch': 77, 'valid_accuracy': 0.7459611332240693, 'best_valid_epoch': 75, 'best_valid_score': 0.7468976820416764, 'test_accuracy': 0.7452337949026691, 'selected_test_score': 0.745283965482641}\n"
     ]
    },
    {
     "name": "stderr",
     "output_type": "stream",
     "text": [
      " 31%|███       | 78/250 [01:41<03:55,  1.37s/it]"
     ]
    },
    {
     "name": "stdout",
     "output_type": "stream",
     "text": [
      "{'epoch': 78, 'valid_accuracy': 0.7429173495668462, 'best_valid_epoch': 75, 'best_valid_score': 0.7468976820416764, 'test_accuracy': 0.7437788480834838, 'selected_test_score': 0.745283965482641}\n"
     ]
    },
    {
     "name": "stderr",
     "output_type": "stream",
     "text": [
      " 32%|███▏      | 79/250 [01:42<03:52,  1.36s/it]"
     ]
    },
    {
     "name": "stdout",
     "output_type": "stream",
     "text": [
      "{'epoch': 79, 'valid_accuracy': 0.746312339030672, 'best_valid_epoch': 75, 'best_valid_score': 0.7468976820416764, 'test_accuracy': 0.7446317479430062, 'selected_test_score': 0.745283965482641}\n"
     ]
    },
    {
     "name": "stderr",
     "output_type": "stream",
     "text": [
      " 32%|███▏      | 80/250 [01:43<03:51,  1.36s/it]"
     ]
    },
    {
     "name": "stdout",
     "output_type": "stream",
     "text": [
      "{'epoch': 80, 'valid_accuracy': 0.743034418169047, 'best_valid_epoch': 75, 'best_valid_score': 0.7468976820416764, 'test_accuracy': 0.7439795304033715, 'selected_test_score': 0.745283965482641}\n"
     ]
    },
    {
     "name": "stderr",
     "output_type": "stream",
     "text": [
      " 32%|███▏      | 81/250 [01:45<03:48,  1.35s/it]"
     ]
    },
    {
     "name": "stdout",
     "output_type": "stream",
     "text": [
      "{'epoch': 81, 'valid_accuracy': 0.7454928588152657, 'best_valid_epoch': 75, 'best_valid_score': 0.7468976820416764, 'test_accuracy': 0.7455348183825005, 'selected_test_score': 0.745283965482641}\n"
     ]
    },
    {
     "name": "stderr",
     "output_type": "stream",
     "text": [
      " 33%|███▎      | 82/250 [01:46<03:46,  1.35s/it]"
     ]
    },
    {
     "name": "stdout",
     "output_type": "stream",
     "text": [
      "{'epoch': 82, 'valid_accuracy': 0.7435026925778506, 'best_valid_epoch': 75, 'best_valid_score': 0.7468976820416764, 'test_accuracy': 0.7446317479430062, 'selected_test_score': 0.745283965482641}\n"
     ]
    },
    {
     "name": "stderr",
     "output_type": "stream",
     "text": [
      " 33%|███▎      | 83/250 [01:47<03:44,  1.35s/it]"
     ]
    },
    {
     "name": "stdout",
     "output_type": "stream",
     "text": [
      "{'epoch': 83, 'valid_accuracy': 0.7467806134394755, 'best_valid_epoch': 75, 'best_valid_score': 0.7468976820416764, 'test_accuracy': 0.7457355007023881, 'selected_test_score': 0.745283965482641}\n"
     ]
    },
    {
     "name": "stderr",
     "output_type": "stream",
     "text": [
      " 34%|███▎      | 84/250 [01:49<03:43,  1.35s/it]"
     ]
    },
    {
     "name": "stdout",
     "output_type": "stream",
     "text": [
      "{'epoch': 84, 'valid_accuracy': 0.7460782018262702, 'best_valid_epoch': 75, 'best_valid_score': 0.7468976820416764, 'test_accuracy': 0.745835841862332, 'selected_test_score': 0.745283965482641}\n"
     ]
    },
    {
     "name": "stderr",
     "output_type": "stream",
     "text": [
      " 34%|███▍      | 85/250 [01:50<03:42,  1.35s/it]"
     ]
    },
    {
     "name": "stdout",
     "output_type": "stream",
     "text": [
      "{'epoch': 85, 'valid_accuracy': 0.7459611332240693, 'best_valid_epoch': 75, 'best_valid_score': 0.7468976820416764, 'test_accuracy': 0.7462372065021071, 'selected_test_score': 0.745283965482641}\n"
     ]
    },
    {
     "name": "stderr",
     "output_type": "stream",
     "text": [
      " 34%|███▍      | 86/250 [01:51<03:40,  1.34s/it]"
     ]
    },
    {
     "name": "stdout",
     "output_type": "stream",
     "text": [
      "{'epoch': 86, 'valid_accuracy': 0.7467806134394755, 'best_valid_epoch': 75, 'best_valid_score': 0.7468976820416764, 'test_accuracy': 0.7469395946217138, 'selected_test_score': 0.745283965482641}\n"
     ]
    },
    {
     "name": "stderr",
     "output_type": "stream",
     "text": [
      " 35%|███▍      | 87/250 [01:53<03:38,  1.34s/it]"
     ]
    },
    {
     "name": "stdout",
     "output_type": "stream",
     "text": [
      "{'epoch': 87, 'valid_accuracy': 0.748419573870288, 'best_valid_epoch': 87, 'best_valid_score': 0.748419573870288, 'test_accuracy': 0.7470399357816576, 'selected_test_score': 0.7470399357816576}\n"
     ]
    },
    {
     "name": "stderr",
     "output_type": "stream",
     "text": [
      " 35%|███▌      | 88/250 [01:54<03:36,  1.34s/it]"
     ]
    },
    {
     "name": "stdout",
     "output_type": "stream",
     "text": [
      "{'epoch': 88, 'valid_accuracy': 0.7478342308592836, 'best_valid_epoch': 87, 'best_valid_score': 0.748419573870288, 'test_accuracy': 0.7471402769416015, 'selected_test_score': 0.7470399357816576}\n"
     ]
    },
    {
     "name": "stderr",
     "output_type": "stream",
     "text": [
      " 36%|███▌      | 89/250 [01:55<03:35,  1.34s/it]"
     ]
    },
    {
     "name": "stdout",
     "output_type": "stream",
     "text": [
      "{'epoch': 89, 'valid_accuracy': 0.7464294076328729, 'best_valid_epoch': 87, 'best_valid_score': 0.748419573870288, 'test_accuracy': 0.7476921533212924, 'selected_test_score': 0.7470399357816576}\n"
     ]
    },
    {
     "name": "stderr",
     "output_type": "stream",
     "text": [
      " 36%|███▌      | 90/250 [01:57<03:39,  1.37s/it]"
     ]
    },
    {
     "name": "stdout",
     "output_type": "stream",
     "text": [
      "{'epoch': 90, 'valid_accuracy': 0.7477171622570826, 'best_valid_epoch': 87, 'best_valid_score': 0.748419573870288, 'test_accuracy': 0.7475918121613486, 'selected_test_score': 0.7470399357816576}\n"
     ]
    },
    {
     "name": "stderr",
     "output_type": "stream",
     "text": [
      " 36%|███▋      | 91/250 [01:58<03:34,  1.35s/it]"
     ]
    },
    {
     "name": "stdout",
     "output_type": "stream",
     "text": [
      "{'epoch': 91, 'valid_accuracy': 0.748419573870288, 'best_valid_epoch': 87, 'best_valid_score': 0.748419573870288, 'test_accuracy': 0.7482942002809553, 'selected_test_score': 0.7470399357816576}\n"
     ]
    },
    {
     "name": "stderr",
     "output_type": "stream",
     "text": [
      " 37%|███▋      | 92/250 [02:00<03:32,  1.35s/it]"
     ]
    },
    {
     "name": "stdout",
     "output_type": "stream",
     "text": [
      "{'epoch': 92, 'valid_accuracy': 0.7500585343011005, 'best_valid_epoch': 92, 'best_valid_score': 0.7500585343011005, 'test_accuracy': 0.7488460766606462, 'selected_test_score': 0.7488460766606462}\n"
     ]
    },
    {
     "name": "stderr",
     "output_type": "stream",
     "text": [
      " 37%|███▋      | 93/250 [02:01<03:30,  1.34s/it]"
     ]
    },
    {
     "name": "stdout",
     "output_type": "stream",
     "text": [
      "{'epoch': 93, 'valid_accuracy': 0.7490049168812924, 'best_valid_epoch': 92, 'best_valid_score': 0.7500585343011005, 'test_accuracy': 0.7472907886815171, 'selected_test_score': 0.7488460766606462}\n"
     ]
    },
    {
     "name": "stderr",
     "output_type": "stream",
     "text": [
      " 38%|███▊      | 94/250 [02:02<03:28,  1.34s/it]"
     ]
    },
    {
     "name": "stdout",
     "output_type": "stream",
     "text": [
      "{'epoch': 94, 'valid_accuracy': 0.7487707796768907, 'best_valid_epoch': 92, 'best_valid_score': 0.7500585343011005, 'test_accuracy': 0.7483443708609272, 'selected_test_score': 0.7488460766606462}\n"
     ]
    },
    {
     "name": "stderr",
     "output_type": "stream",
     "text": [
      " 38%|███▊      | 95/250 [02:04<03:27,  1.34s/it]"
     ]
    },
    {
     "name": "stdout",
     "output_type": "stream",
     "text": [
      "{'epoch': 95, 'valid_accuracy': 0.7486537110746898, 'best_valid_epoch': 92, 'best_valid_score': 0.7500585343011005, 'test_accuracy': 0.7486955649207305, 'selected_test_score': 0.7488460766606462}\n"
     ]
    },
    {
     "name": "stderr",
     "output_type": "stream",
     "text": [
      " 38%|███▊      | 96/250 [02:05<03:26,  1.34s/it]"
     ]
    },
    {
     "name": "stdout",
     "output_type": "stream",
     "text": [
      "{'epoch': 96, 'valid_accuracy': 0.7488878482790915, 'best_valid_epoch': 92, 'best_valid_score': 0.7500585343011005, 'test_accuracy': 0.7487959060806743, 'selected_test_score': 0.7488460766606462}\n"
     ]
    },
    {
     "name": "stderr",
     "output_type": "stream",
     "text": [
      " 39%|███▉      | 97/250 [02:06<03:25,  1.34s/it]"
     ]
    },
    {
     "name": "stdout",
     "output_type": "stream",
     "text": [
      "{'epoch': 97, 'valid_accuracy': 0.7492390540856942, 'best_valid_epoch': 92, 'best_valid_score': 0.7500585343011005, 'test_accuracy': 0.7502508528998595, 'selected_test_score': 0.7488460766606462}\n"
     ]
    },
    {
     "name": "stderr",
     "output_type": "stream",
     "text": [
      " 39%|███▉      | 98/250 [02:08<03:24,  1.34s/it]"
     ]
    },
    {
     "name": "stdout",
     "output_type": "stream",
     "text": [
      "{'epoch': 98, 'valid_accuracy': 0.7509950831187076, 'best_valid_epoch': 98, 'best_valid_score': 0.7509950831187076, 'test_accuracy': 0.7508027292795505, 'selected_test_score': 0.7508027292795505}\n"
     ]
    },
    {
     "name": "stderr",
     "output_type": "stream",
     "text": [
      " 40%|███▉      | 99/250 [02:09<03:22,  1.34s/it]"
     ]
    },
    {
     "name": "stdout",
     "output_type": "stream",
     "text": [
      "{'epoch': 99, 'valid_accuracy': 0.7508780145165067, 'best_valid_epoch': 98, 'best_valid_score': 0.7509950831187076, 'test_accuracy': 0.7511037527593819, 'selected_test_score': 0.7508027292795505}\n"
     ]
    },
    {
     "name": "stderr",
     "output_type": "stream",
     "text": [
      " 40%|████      | 100/250 [02:10<03:20,  1.34s/it]"
     ]
    },
    {
     "name": "stdout",
     "output_type": "stream",
     "text": [
      "{'epoch': 100, 'valid_accuracy': 0.7523999063451182, 'best_valid_epoch': 100, 'best_valid_score': 0.7523999063451182, 'test_accuracy': 0.7518061408789886, 'selected_test_score': 0.7518061408789886}\n"
     ]
    },
    {
     "name": "stderr",
     "output_type": "stream",
     "text": [
      " 40%|████      | 101/250 [02:12<03:19,  1.34s/it]"
     ]
    },
    {
     "name": "stdout",
     "output_type": "stream",
     "text": [
      "{'epoch': 101, 'valid_accuracy': 0.7495902598922969, 'best_valid_epoch': 100, 'best_valid_score': 0.7523999063451182, 'test_accuracy': 0.7513044350792695, 'selected_test_score': 0.7518061408789886}\n"
     ]
    },
    {
     "name": "stderr",
     "output_type": "stream",
     "text": [
      " 41%|████      | 102/250 [02:13<03:23,  1.37s/it]"
     ]
    },
    {
     "name": "stdout",
     "output_type": "stream",
     "text": [
      "{'epoch': 102, 'valid_accuracy': 0.7498243970966987, 'best_valid_epoch': 100, 'best_valid_score': 0.7523999063451182, 'test_accuracy': 0.7492976118803933, 'selected_test_score': 0.7518061408789886}\n"
     ]
    },
    {
     "name": "stderr",
     "output_type": "stream",
     "text": [
      " 41%|████      | 103/250 [02:14<03:20,  1.37s/it]"
     ]
    },
    {
     "name": "stdout",
     "output_type": "stream",
     "text": [
      "{'epoch': 103, 'valid_accuracy': 0.7521657691407164, 'best_valid_epoch': 100, 'best_valid_score': 0.7523999063451182, 'test_accuracy': 0.7525085289985952, 'selected_test_score': 0.7518061408789886}\n"
     ]
    },
    {
     "name": "stderr",
     "output_type": "stream",
     "text": [
      " 42%|████▏     | 104/250 [02:16<03:18,  1.36s/it]"
     ]
    },
    {
     "name": "stdout",
     "output_type": "stream",
     "text": [
      "{'epoch': 104, 'valid_accuracy': 0.7522828377429174, 'best_valid_epoch': 100, 'best_valid_score': 0.7523999063451182, 'test_accuracy': 0.7514549468191852, 'selected_test_score': 0.7518061408789886}\n"
     ]
    },
    {
     "name": "stderr",
     "output_type": "stream",
     "text": [
      " 42%|████▏     | 105/250 [02:17<03:15,  1.35s/it]"
     ]
    },
    {
     "name": "stdout",
     "output_type": "stream",
     "text": [
      "{'epoch': 105, 'valid_accuracy': 0.7507609459143058, 'best_valid_epoch': 100, 'best_valid_score': 0.7523999063451182, 'test_accuracy': 0.7498996588400562, 'selected_test_score': 0.7518061408789886}\n"
     ]
    },
    {
     "name": "stderr",
     "output_type": "stream",
     "text": [
      " 42%|████▏     | 106/250 [02:18<03:13,  1.35s/it]"
     ]
    },
    {
     "name": "stdout",
     "output_type": "stream",
     "text": [
      "{'epoch': 106, 'valid_accuracy': 0.751580426129712, 'best_valid_epoch': 100, 'best_valid_score': 0.7523999063451182, 'test_accuracy': 0.7526088701585391, 'selected_test_score': 0.7518061408789886}\n"
     ]
    },
    {
     "name": "stderr",
     "output_type": "stream",
     "text": [
      " 43%|████▎     | 107/250 [02:20<03:12,  1.35s/it]"
     ]
    },
    {
     "name": "stdout",
     "output_type": "stream",
     "text": [
      "{'epoch': 107, 'valid_accuracy': 0.7520487005385156, 'best_valid_epoch': 100, 'best_valid_score': 0.7523999063451182, 'test_accuracy': 0.7522075055187638, 'selected_test_score': 0.7518061408789886}\n"
     ]
    },
    {
     "name": "stderr",
     "output_type": "stream",
     "text": [
      " 43%|████▎     | 108/250 [02:21<03:09,  1.33s/it]"
     ]
    },
    {
     "name": "stdout",
     "output_type": "stream",
     "text": [
      "{'epoch': 108, 'valid_accuracy': 0.7528681807539218, 'best_valid_epoch': 108, 'best_valid_score': 0.7528681807539218, 'test_accuracy': 0.7533112582781457, 'selected_test_score': 0.7533112582781457}\n"
     ]
    },
    {
     "name": "stderr",
     "output_type": "stream",
     "text": [
      " 44%|████▎     | 109/250 [02:22<03:08,  1.34s/it]"
     ]
    },
    {
     "name": "stdout",
     "output_type": "stream",
     "text": [
      "{'epoch': 109, 'valid_accuracy': 0.7519316319363146, 'best_valid_epoch': 108, 'best_valid_score': 0.7528681807539218, 'test_accuracy': 0.753110575958258, 'selected_test_score': 0.7533112582781457}\n"
     ]
    },
    {
     "name": "stderr",
     "output_type": "stream",
     "text": [
      " 44%|████▍     | 110/250 [02:24<03:08,  1.34s/it]"
     ]
    },
    {
     "name": "stdout",
     "output_type": "stream",
     "text": [
      "{'epoch': 110, 'valid_accuracy': 0.7571997190353548, 'best_valid_epoch': 110, 'best_valid_score': 0.7571997190353548, 'test_accuracy': 0.7581276339554486, 'selected_test_score': 0.7581276339554486}\n"
     ]
    },
    {
     "name": "stderr",
     "output_type": "stream",
     "text": [
      " 44%|████▍     | 111/250 [02:25<03:06,  1.34s/it]"
     ]
    },
    {
     "name": "stdout",
     "output_type": "stream",
     "text": [
      "{'epoch': 111, 'valid_accuracy': 0.7539217981737298, 'best_valid_epoch': 110, 'best_valid_score': 0.7571997190353548, 'test_accuracy': 0.7544651816174995, 'selected_test_score': 0.7581276339554486}\n"
     ]
    },
    {
     "name": "stderr",
     "output_type": "stream",
     "text": [
      " 45%|████▍     | 112/250 [02:26<03:04,  1.34s/it]"
     ]
    },
    {
     "name": "stdout",
     "output_type": "stream",
     "text": [
      "{'epoch': 112, 'valid_accuracy': 0.7542730039803325, 'best_valid_epoch': 110, 'best_valid_score': 0.7571997190353548, 'test_accuracy': 0.7541139875576962, 'selected_test_score': 0.7581276339554486}\n"
     ]
    },
    {
     "name": "stderr",
     "output_type": "stream",
     "text": [
      " 45%|████▌     | 113/250 [02:28<03:02,  1.34s/it]"
     ]
    },
    {
     "name": "stdout",
     "output_type": "stream",
     "text": [
      "{'epoch': 113, 'valid_accuracy': 0.7522828377429174, 'best_valid_epoch': 110, 'best_valid_score': 0.7571997190353548, 'test_accuracy': 0.7512542644992977, 'selected_test_score': 0.7581276339554486}\n"
     ]
    },
    {
     "name": "stderr",
     "output_type": "stream",
     "text": [
      " 46%|████▌     | 114/250 [02:29<03:06,  1.37s/it]"
     ]
    },
    {
     "name": "stdout",
     "output_type": "stream",
     "text": [
      "{'epoch': 114, 'valid_accuracy': 0.7546242097869351, 'best_valid_epoch': 110, 'best_valid_score': 0.7571997190353548, 'test_accuracy': 0.7545153521974715, 'selected_test_score': 0.7581276339554486}\n"
     ]
    },
    {
     "name": "stderr",
     "output_type": "stream",
     "text": [
      " 46%|████▌     | 115/250 [02:31<03:03,  1.36s/it]"
     ]
    },
    {
     "name": "stdout",
     "output_type": "stream",
     "text": [
      "{'epoch': 115, 'valid_accuracy': 0.7504097401077031, 'best_valid_epoch': 110, 'best_valid_score': 0.7571997190353548, 'test_accuracy': 0.7477423239012643, 'selected_test_score': 0.7581276339554486}\n"
     ]
    },
    {
     "name": "stderr",
     "output_type": "stream",
     "text": [
      " 46%|████▋     | 116/250 [02:32<03:01,  1.36s/it]"
     ]
    },
    {
     "name": "stdout",
     "output_type": "stream",
     "text": [
      "{'epoch': 116, 'valid_accuracy': 0.756848513228752, 'best_valid_epoch': 110, 'best_valid_score': 0.7571997190353548, 'test_accuracy': 0.7609371864338752, 'selected_test_score': 0.7581276339554486}\n"
     ]
    },
    {
     "name": "stderr",
     "output_type": "stream",
     "text": [
      " 47%|████▋     | 117/250 [02:33<02:59,  1.35s/it]"
     ]
    },
    {
     "name": "stdout",
     "output_type": "stream",
     "text": [
      "{'epoch': 117, 'valid_accuracy': 0.7552095527979396, 'best_valid_epoch': 110, 'best_valid_score': 0.7571997190353548, 'test_accuracy': 0.7564720048163757, 'selected_test_score': 0.7581276339554486}\n"
     ]
    },
    {
     "name": "stderr",
     "output_type": "stream",
     "text": [
      " 47%|████▋     | 118/250 [02:35<02:57,  1.34s/it]"
     ]
    },
    {
     "name": "stdout",
     "output_type": "stream",
     "text": [
      "{'epoch': 118, 'valid_accuracy': 0.7562631702177476, 'best_valid_epoch': 110, 'best_valid_score': 0.7571997190353548, 'test_accuracy': 0.7562713224964881, 'selected_test_score': 0.7581276339554486}\n"
     ]
    },
    {
     "name": "stderr",
     "output_type": "stream",
     "text": [
      " 48%|████▊     | 119/250 [02:36<02:56,  1.35s/it]"
     ]
    },
    {
     "name": "stdout",
     "output_type": "stream",
     "text": [
      "{'epoch': 119, 'valid_accuracy': 0.756965581830953, 'best_valid_epoch': 110, 'best_valid_score': 0.7571997190353548, 'test_accuracy': 0.7560706401766004, 'selected_test_score': 0.7581276339554486}\n"
     ]
    },
    {
     "name": "stderr",
     "output_type": "stream",
     "text": [
      " 48%|████▊     | 120/250 [02:37<02:55,  1.35s/it]"
     ]
    },
    {
     "name": "stdout",
     "output_type": "stream",
     "text": [
      "{'epoch': 120, 'valid_accuracy': 0.7538047295715289, 'best_valid_epoch': 110, 'best_valid_score': 0.7571997190353548, 'test_accuracy': 0.7534617700180614, 'selected_test_score': 0.7581276339554486}\n"
     ]
    },
    {
     "name": "stderr",
     "output_type": "stream",
     "text": [
      " 48%|████▊     | 121/250 [02:39<02:53,  1.35s/it]"
     ]
    },
    {
     "name": "stdout",
     "output_type": "stream",
     "text": [
      "{'epoch': 121, 'valid_accuracy': 0.7574338562397565, 'best_valid_epoch': 121, 'best_valid_score': 0.7574338562397565, 'test_accuracy': 0.7572245635159542, 'selected_test_score': 0.7572245635159542}\n"
     ]
    },
    {
     "name": "stderr",
     "output_type": "stream",
     "text": [
      " 49%|████▉     | 122/250 [02:40<02:52,  1.34s/it]"
     ]
    },
    {
     "name": "stdout",
     "output_type": "stream",
     "text": [
      "{'epoch': 122, 'valid_accuracy': 0.7574338562397565, 'best_valid_epoch': 121, 'best_valid_score': 0.7574338562397565, 'test_accuracy': 0.7581778045354204, 'selected_test_score': 0.7572245635159542}\n"
     ]
    },
    {
     "name": "stderr",
     "output_type": "stream",
     "text": [
      " 49%|████▉     | 123/250 [02:41<02:50,  1.34s/it]"
     ]
    },
    {
     "name": "stdout",
     "output_type": "stream",
     "text": [
      "{'epoch': 123, 'valid_accuracy': 0.755794895808944, 'best_valid_epoch': 121, 'best_valid_score': 0.7574338562397565, 'test_accuracy': 0.7561208107565723, 'selected_test_score': 0.7572245635159542}\n"
     ]
    },
    {
     "name": "stderr",
     "output_type": "stream",
     "text": [
      " 50%|████▉     | 124/250 [02:43<02:48,  1.34s/it]"
     ]
    },
    {
     "name": "stdout",
     "output_type": "stream",
     "text": [
      "{'epoch': 124, 'valid_accuracy': 0.7531023179583236, 'best_valid_epoch': 121, 'best_valid_score': 0.7574338562397565, 'test_accuracy': 0.7529098936383705, 'selected_test_score': 0.7572245635159542}\n"
     ]
    },
    {
     "name": "stderr",
     "output_type": "stream",
     "text": [
      " 50%|█████     | 125/250 [02:44<02:45,  1.33s/it]"
     ]
    },
    {
     "name": "stdout",
     "output_type": "stream",
     "text": [
      "{'epoch': 125, 'valid_accuracy': 0.7586045422617654, 'best_valid_epoch': 125, 'best_valid_score': 0.7586045422617654, 'test_accuracy': 0.7593317278747742, 'selected_test_score': 0.7593317278747742}\n"
     ]
    },
    {
     "name": "stderr",
     "output_type": "stream",
     "text": [
      " 50%|█████     | 126/250 [02:45<02:48,  1.36s/it]"
     ]
    },
    {
     "name": "stdout",
     "output_type": "stream",
     "text": [
      "{'epoch': 126, 'valid_accuracy': 0.7589557480683681, 'best_valid_epoch': 126, 'best_valid_score': 0.7589557480683681, 'test_accuracy': 0.7607866746939594, 'selected_test_score': 0.7607866746939594}\n"
     ]
    },
    {
     "name": "stderr",
     "output_type": "stream",
     "text": [
      " 51%|█████     | 127/250 [02:47<02:46,  1.35s/it]"
     ]
    },
    {
     "name": "stdout",
     "output_type": "stream",
     "text": [
      "{'epoch': 127, 'valid_accuracy': 0.7610629829079841, 'best_valid_epoch': 127, 'best_valid_score': 0.7610629829079841, 'test_accuracy': 0.7652016857314871, 'selected_test_score': 0.7652016857314871}\n"
     ]
    },
    {
     "name": "stderr",
     "output_type": "stream",
     "text": [
      " 51%|█████     | 128/250 [02:48<02:44,  1.35s/it]"
     ]
    },
    {
     "name": "stdout",
     "output_type": "stream",
     "text": [
      "{'epoch': 128, 'valid_accuracy': 0.7594240224771717, 'best_valid_epoch': 127, 'best_valid_score': 0.7610629829079841, 'test_accuracy': 0.7610375275938189, 'selected_test_score': 0.7652016857314871}\n"
     ]
    },
    {
     "name": "stderr",
     "output_type": "stream",
     "text": [
      " 52%|█████▏    | 129/250 [02:49<02:42,  1.35s/it]"
     ]
    },
    {
     "name": "stdout",
     "output_type": "stream",
     "text": [
      "{'epoch': 129, 'valid_accuracy': 0.7561461016155467, 'best_valid_epoch': 127, 'best_valid_score': 0.7610629829079841, 'test_accuracy': 0.7561208107565723, 'selected_test_score': 0.7652016857314871}\n"
     ]
    },
    {
     "name": "stderr",
     "output_type": "stream",
     "text": [
      " 52%|█████▏    | 130/250 [02:51<02:40,  1.34s/it]"
     ]
    },
    {
     "name": "stdout",
     "output_type": "stream",
     "text": [
      "{'epoch': 130, 'valid_accuracy': 0.760126434090377, 'best_valid_epoch': 127, 'best_valid_score': 0.7610629829079841, 'test_accuracy': 0.7608870158539033, 'selected_test_score': 0.7652016857314871}\n"
     ]
    },
    {
     "name": "stderr",
     "output_type": "stream",
     "text": [
      " 52%|█████▏    | 131/250 [02:52<02:39,  1.34s/it]"
     ]
    },
    {
     "name": "stdout",
     "output_type": "stream",
     "text": [
      "{'epoch': 131, 'valid_accuracy': 0.7584874736595645, 'best_valid_epoch': 127, 'best_valid_score': 0.7610629829079841, 'test_accuracy': 0.7581276339554486, 'selected_test_score': 0.7652016857314871}\n"
     ]
    },
    {
     "name": "stderr",
     "output_type": "stream",
     "text": [
      " 53%|█████▎    | 132/250 [02:53<02:38,  1.35s/it]"
     ]
    },
    {
     "name": "stdout",
     "output_type": "stream",
     "text": [
      "{'epoch': 132, 'valid_accuracy': 0.7616483259189886, 'best_valid_epoch': 132, 'best_valid_score': 0.7616483259189886, 'test_accuracy': 0.7615894039735099, 'selected_test_score': 0.7615894039735099}\n"
     ]
    },
    {
     "name": "stderr",
     "output_type": "stream",
     "text": [
      " 53%|█████▎    | 133/250 [02:55<02:37,  1.34s/it]"
     ]
    },
    {
     "name": "stdout",
     "output_type": "stream",
     "text": [
      "{'epoch': 133, 'valid_accuracy': 0.7618824631233903, 'best_valid_epoch': 133, 'best_valid_score': 0.7618824631233903, 'test_accuracy': 0.7618402568733694, 'selected_test_score': 0.7618402568733694}\n"
     ]
    },
    {
     "name": "stderr",
     "output_type": "stream",
     "text": [
      " 54%|█████▎    | 134/250 [02:56<02:35,  1.34s/it]"
     ]
    },
    {
     "name": "stdout",
     "output_type": "stream",
     "text": [
      "{'epoch': 134, 'valid_accuracy': 0.7577850620463592, 'best_valid_epoch': 133, 'best_valid_score': 0.7618824631233903, 'test_accuracy': 0.7577764398956452, 'selected_test_score': 0.7618402568733694}\n"
     ]
    },
    {
     "name": "stderr",
     "output_type": "stream",
     "text": [
      " 54%|█████▍    | 135/250 [02:57<02:34,  1.34s/it]"
     ]
    },
    {
     "name": "stdout",
     "output_type": "stream",
     "text": [
      "{'epoch': 135, 'valid_accuracy': 0.7624678061343948, 'best_valid_epoch': 135, 'best_valid_score': 0.7624678061343948, 'test_accuracy': 0.762592815572948, 'selected_test_score': 0.762592815572948}\n"
     ]
    },
    {
     "name": "stderr",
     "output_type": "stream",
     "text": [
      " 54%|█████▍    | 136/250 [02:59<02:32,  1.34s/it]"
     ]
    },
    {
     "name": "stdout",
     "output_type": "stream",
     "text": [
      "{'epoch': 136, 'valid_accuracy': 0.7618824631233903, 'best_valid_epoch': 135, 'best_valid_score': 0.7624678061343948, 'test_accuracy': 0.7627934978928357, 'selected_test_score': 0.762592815572948}\n"
     ]
    },
    {
     "name": "stderr",
     "output_type": "stream",
     "text": [
      " 55%|█████▍    | 137/250 [03:00<02:31,  1.34s/it]"
     ]
    },
    {
     "name": "stdout",
     "output_type": "stream",
     "text": [
      "{'epoch': 137, 'valid_accuracy': 0.7576679934441582, 'best_valid_epoch': 135, 'best_valid_score': 0.7624678061343948, 'test_accuracy': 0.7578266104756171, 'selected_test_score': 0.762592815572948}\n"
     ]
    },
    {
     "name": "stderr",
     "output_type": "stream",
     "text": [
      " 55%|█████▌    | 138/250 [03:01<02:32,  1.36s/it]"
     ]
    },
    {
     "name": "stdout",
     "output_type": "stream",
     "text": [
      "{'epoch': 138, 'valid_accuracy': 0.7635214235542027, 'best_valid_epoch': 138, 'best_valid_score': 0.7635214235542027, 'test_accuracy': 0.764699979931768, 'selected_test_score': 0.764699979931768}\n"
     ]
    },
    {
     "name": "stderr",
     "output_type": "stream",
     "text": [
      " 56%|█████▌    | 139/250 [03:03<02:30,  1.35s/it]"
     ]
    },
    {
     "name": "stdout",
     "output_type": "stream",
     "text": [
      "{'epoch': 139, 'valid_accuracy': 0.753687660969328, 'best_valid_epoch': 138, 'best_valid_score': 0.7635214235542027, 'test_accuracy': 0.7533112582781457, 'selected_test_score': 0.764699979931768}\n"
     ]
    },
    {
     "name": "stderr",
     "output_type": "stream",
     "text": [
      " 56%|█████▌    | 140/250 [03:04<02:28,  1.35s/it]"
     ]
    },
    {
     "name": "stdout",
     "output_type": "stream",
     "text": [
      "{'epoch': 140, 'valid_accuracy': 0.762116600327792, 'best_valid_epoch': 138, 'best_valid_score': 0.7635214235542027, 'test_accuracy': 0.7623921332530604, 'selected_test_score': 0.764699979931768}\n"
     ]
    },
    {
     "name": "stderr",
     "output_type": "stream",
     "text": [
      " 56%|█████▋    | 141/250 [03:05<02:26,  1.35s/it]"
     ]
    },
    {
     "name": "stdout",
     "output_type": "stream",
     "text": [
      "{'epoch': 141, 'valid_accuracy': 0.7649262467806135, 'best_valid_epoch': 141, 'best_valid_score': 0.7649262467806135, 'test_accuracy': 0.7650010034115995, 'selected_test_score': 0.7650010034115995}\n"
     ]
    },
    {
     "name": "stderr",
     "output_type": "stream",
     "text": [
      " 57%|█████▋    | 142/250 [03:07<02:23,  1.33s/it]"
     ]
    },
    {
     "name": "stdout",
     "output_type": "stream",
     "text": [
      "{'epoch': 142, 'valid_accuracy': 0.7545071411847343, 'best_valid_epoch': 141, 'best_valid_score': 0.7649262467806135, 'test_accuracy': 0.754164158137668, 'selected_test_score': 0.7650010034115995}\n"
     ]
    },
    {
     "name": "stderr",
     "output_type": "stream",
     "text": [
      " 57%|█████▋    | 143/250 [03:08<02:22,  1.33s/it]"
     ]
    },
    {
     "name": "stdout",
     "output_type": "stream",
     "text": [
      "{'epoch': 143, 'valid_accuracy': 0.7637555607586045, 'best_valid_epoch': 141, 'best_valid_score': 0.7649262467806135, 'test_accuracy': 0.7645996387718242, 'selected_test_score': 0.7650010034115995}\n"
     ]
    },
    {
     "name": "stderr",
     "output_type": "stream",
     "text": [
      " 58%|█████▊    | 144/250 [03:09<02:21,  1.33s/it]"
     ]
    },
    {
     "name": "stdout",
     "output_type": "stream",
     "text": [
      "{'epoch': 144, 'valid_accuracy': 0.7657457269960196, 'best_valid_epoch': 144, 'best_valid_score': 0.7657457269960196, 'test_accuracy': 0.7682620911097733, 'selected_test_score': 0.7682620911097733}\n"
     ]
    },
    {
     "name": "stderr",
     "output_type": "stream",
     "text": [
      " 58%|█████▊    | 145/250 [03:11<02:20,  1.34s/it]"
     ]
    },
    {
     "name": "stdout",
     "output_type": "stream",
     "text": [
      "{'epoch': 145, 'valid_accuracy': 0.7658627955982206, 'best_valid_epoch': 145, 'best_valid_score': 0.7658627955982206, 'test_accuracy': 0.7653521974714028, 'selected_test_score': 0.7653521974714028}\n"
     ]
    },
    {
     "name": "stderr",
     "output_type": "stream",
     "text": [
      " 58%|█████▊    | 146/250 [03:12<02:19,  1.34s/it]"
     ]
    },
    {
     "name": "stdout",
     "output_type": "stream",
     "text": [
      "{'epoch': 146, 'valid_accuracy': 0.7596581596815734, 'best_valid_epoch': 145, 'best_valid_score': 0.7658627955982206, 'test_accuracy': 0.759432069034718, 'selected_test_score': 0.7653521974714028}\n"
     ]
    },
    {
     "name": "stderr",
     "output_type": "stream",
     "text": [
      " 59%|█████▉    | 147/250 [03:13<02:18,  1.34s/it]"
     ]
    },
    {
     "name": "stdout",
     "output_type": "stream",
     "text": [
      "{'epoch': 147, 'valid_accuracy': 0.7665652072114258, 'best_valid_epoch': 147, 'best_valid_score': 0.7665652072114258, 'test_accuracy': 0.7696166967690147, 'selected_test_score': 0.7696166967690147}\n"
     ]
    },
    {
     "name": "stderr",
     "output_type": "stream",
     "text": [
      " 59%|█████▉    | 148/250 [03:15<02:16,  1.34s/it]"
     ]
    },
    {
     "name": "stdout",
     "output_type": "stream",
     "text": [
      "{'epoch': 148, 'valid_accuracy': 0.7556778272067431, 'best_valid_epoch': 147, 'best_valid_score': 0.7665652072114258, 'test_accuracy': 0.7559201284366848, 'selected_test_score': 0.7696166967690147}\n"
     ]
    },
    {
     "name": "stderr",
     "output_type": "stream",
     "text": [
      " 60%|█████▉    | 149/250 [03:16<02:14,  1.34s/it]"
     ]
    },
    {
     "name": "stdout",
     "output_type": "stream",
     "text": [
      "{'epoch': 149, 'valid_accuracy': 0.7670334816202294, 'best_valid_epoch': 149, 'best_valid_score': 0.7670334816202294, 'test_accuracy': 0.7658539032711218, 'selected_test_score': 0.7658539032711218}\n"
     ]
    },
    {
     "name": "stderr",
     "output_type": "stream",
     "text": [
      " 60%|██████    | 150/250 [03:18<02:15,  1.36s/it]"
     ]
    },
    {
     "name": "stdout",
     "output_type": "stream",
     "text": [
      "{'epoch': 150, 'valid_accuracy': 0.7605947084991805, 'best_valid_epoch': 149, 'best_valid_score': 0.7670334816202294, 'test_accuracy': 0.7612883804936785, 'selected_test_score': 0.7658539032711218}\n"
     ]
    },
    {
     "name": "stderr",
     "output_type": "stream",
     "text": [
      " 60%|██████    | 151/250 [03:19<02:14,  1.36s/it]"
     ]
    },
    {
     "name": "stdout",
     "output_type": "stream",
     "text": [
      "{'epoch': 151, 'valid_accuracy': 0.7679700304378366, 'best_valid_epoch': 151, 'best_valid_score': 0.7679700304378366, 'test_accuracy': 0.768362432269717, 'selected_test_score': 0.768362432269717}\n"
     ]
    },
    {
     "name": "stderr",
     "output_type": "stream",
     "text": [
      " 61%|██████    | 152/250 [03:20<02:12,  1.35s/it]"
     ]
    },
    {
     "name": "stdout",
     "output_type": "stream",
     "text": [
      "{'epoch': 152, 'valid_accuracy': 0.7693748536642473, 'best_valid_epoch': 152, 'best_valid_score': 0.7693748536642473, 'test_accuracy': 0.7702689143086494, 'selected_test_score': 0.7702689143086494}\n"
     ]
    },
    {
     "name": "stderr",
     "output_type": "stream",
     "text": [
      " 61%|██████    | 153/250 [03:22<02:10,  1.35s/it]"
     ]
    },
    {
     "name": "stdout",
     "output_type": "stream",
     "text": [
      "{'epoch': 153, 'valid_accuracy': 0.7548583469913369, 'best_valid_epoch': 152, 'best_valid_score': 0.7693748536642473, 'test_accuracy': 0.7551173991571343, 'selected_test_score': 0.7702689143086494}\n"
     ]
    },
    {
     "name": "stderr",
     "output_type": "stream",
     "text": [
      " 62%|██████▏   | 154/250 [03:23<02:09,  1.34s/it]"
     ]
    },
    {
     "name": "stdout",
     "output_type": "stream",
     "text": [
      "{'epoch': 154, 'valid_accuracy': 0.7690236478576445, 'best_valid_epoch': 152, 'best_valid_score': 0.7693748536642473, 'test_accuracy': 0.7702187437286775, 'selected_test_score': 0.7702689143086494}\n"
     ]
    },
    {
     "name": "stderr",
     "output_type": "stream",
     "text": [
      " 62%|██████▏   | 155/250 [03:24<02:07,  1.34s/it]"
     ]
    },
    {
     "name": "stdout",
     "output_type": "stream",
     "text": [
      "{'epoch': 155, 'valid_accuracy': 0.7689065792554437, 'best_valid_epoch': 152, 'best_valid_score': 0.7693748536642473, 'test_accuracy': 0.7679108970499698, 'selected_test_score': 0.7702689143086494}\n"
     ]
    },
    {
     "name": "stderr",
     "output_type": "stream",
     "text": [
      " 62%|██████▏   | 156/250 [03:26<02:05,  1.34s/it]"
     ]
    },
    {
     "name": "stdout",
     "output_type": "stream",
     "text": [
      "{'epoch': 156, 'valid_accuracy': 0.7685553734488411, 'best_valid_epoch': 152, 'best_valid_score': 0.7693748536642473, 'test_accuracy': 0.7672085089303632, 'selected_test_score': 0.7702689143086494}\n"
     ]
    },
    {
     "name": "stderr",
     "output_type": "stream",
     "text": [
      " 63%|██████▎   | 157/250 [03:27<02:04,  1.34s/it]"
     ]
    },
    {
     "name": "stdout",
     "output_type": "stream",
     "text": [
      "{'epoch': 157, 'valid_accuracy': 0.7648091781784125, 'best_valid_epoch': 152, 'best_valid_score': 0.7693748536642473, 'test_accuracy': 0.7646498093517962, 'selected_test_score': 0.7702689143086494}\n"
     ]
    },
    {
     "name": "stderr",
     "output_type": "stream",
     "text": [
      " 63%|██████▎   | 158/250 [03:28<02:03,  1.34s/it]"
     ]
    },
    {
     "name": "stdout",
     "output_type": "stream",
     "text": [
      "{'epoch': 158, 'valid_accuracy': 0.7689065792554437, 'best_valid_epoch': 152, 'best_valid_score': 0.7693748536642473, 'test_accuracy': 0.7677102147300823, 'selected_test_score': 0.7702689143086494}\n"
     ]
    },
    {
     "name": "stderr",
     "output_type": "stream",
     "text": [
      " 64%|██████▎   | 159/250 [03:30<02:00,  1.32s/it]"
     ]
    },
    {
     "name": "stdout",
     "output_type": "stream",
     "text": [
      "{'epoch': 159, 'valid_accuracy': 0.7713650199016624, 'best_valid_epoch': 159, 'best_valid_score': 0.7713650199016624, 'test_accuracy': 0.7702689143086494, 'selected_test_score': 0.7702689143086494}\n"
     ]
    },
    {
     "name": "stderr",
     "output_type": "stream",
     "text": [
      " 64%|██████▍   | 160/250 [03:31<01:59,  1.33s/it]"
     ]
    },
    {
     "name": "stdout",
     "output_type": "stream",
     "text": [
      "{'epoch': 160, 'valid_accuracy': 0.7600093654881761, 'best_valid_epoch': 159, 'best_valid_score': 0.7713650199016624, 'test_accuracy': 0.7603351394742123, 'selected_test_score': 0.7702689143086494}\n"
     ]
    },
    {
     "name": "stderr",
     "output_type": "stream",
     "text": [
      " 64%|██████▍   | 161/250 [03:32<01:58,  1.33s/it]"
     ]
    },
    {
     "name": "stdout",
     "output_type": "stream",
     "text": [
      "{'epoch': 161, 'valid_accuracy': 0.770779676890658, 'best_valid_epoch': 159, 'best_valid_score': 0.7713650199016624, 'test_accuracy': 0.7705699377884808, 'selected_test_score': 0.7702689143086494}\n"
     ]
    },
    {
     "name": "stderr",
     "output_type": "stream",
     "text": [
      " 65%|██████▍   | 162/250 [03:34<01:58,  1.35s/it]"
     ]
    },
    {
     "name": "stdout",
     "output_type": "stream",
     "text": [
      "{'epoch': 162, 'valid_accuracy': 0.7732381175368767, 'best_valid_epoch': 162, 'best_valid_score': 0.7732381175368767, 'test_accuracy': 0.7717740317078066, 'selected_test_score': 0.7717740317078066}\n"
     ]
    },
    {
     "name": "stderr",
     "output_type": "stream",
     "text": [
      " 65%|██████▌   | 163/250 [03:35<01:58,  1.36s/it]"
     ]
    },
    {
     "name": "stdout",
     "output_type": "stream",
     "text": [
      "{'epoch': 163, 'valid_accuracy': 0.7639896979630063, 'best_valid_epoch': 162, 'best_valid_score': 0.7732381175368767, 'test_accuracy': 0.7642986152919927, 'selected_test_score': 0.7717740317078066}\n"
     ]
    },
    {
     "name": "stderr",
     "output_type": "stream",
     "text": [
      " 66%|██████▌   | 164/250 [03:36<01:56,  1.36s/it]"
     ]
    },
    {
     "name": "stdout",
     "output_type": "stream",
     "text": [
      "{'epoch': 164, 'valid_accuracy': 0.7571997190353548, 'best_valid_epoch': 162, 'best_valid_score': 0.7732381175368767, 'test_accuracy': 0.7587798514950833, 'selected_test_score': 0.7717740317078066}\n"
     ]
    },
    {
     "name": "stderr",
     "output_type": "stream",
     "text": [
      " 66%|██████▌   | 165/250 [03:38<01:54,  1.35s/it]"
     ]
    },
    {
     "name": "stdout",
     "output_type": "stream",
     "text": [
      "{'epoch': 165, 'valid_accuracy': 0.7582533364551627, 'best_valid_epoch': 162, 'best_valid_score': 0.7732381175368767, 'test_accuracy': 0.758930363234999, 'selected_test_score': 0.7717740317078066}\n"
     ]
    },
    {
     "name": "stderr",
     "output_type": "stream",
     "text": [
      " 66%|██████▋   | 166/250 [03:39<01:53,  1.35s/it]"
     ]
    },
    {
     "name": "stdout",
     "output_type": "stream",
     "text": [
      "{'epoch': 166, 'valid_accuracy': 0.7723015687192695, 'best_valid_epoch': 162, 'best_valid_score': 0.7732381175368767, 'test_accuracy': 0.7709713024282561, 'selected_test_score': 0.7717740317078066}\n"
     ]
    },
    {
     "name": "stderr",
     "output_type": "stream",
     "text": [
      " 67%|██████▋   | 167/250 [03:40<01:51,  1.35s/it]"
     ]
    },
    {
     "name": "stdout",
     "output_type": "stream",
     "text": [
      "{'epoch': 167, 'valid_accuracy': 0.7703114024818544, 'best_valid_epoch': 162, 'best_valid_score': 0.7732381175368767, 'test_accuracy': 0.7700180614087899, 'selected_test_score': 0.7717740317078066}\n"
     ]
    },
    {
     "name": "stderr",
     "output_type": "stream",
     "text": [
      " 67%|██████▋   | 168/250 [03:42<01:50,  1.34s/it]"
     ]
    },
    {
     "name": "stdout",
     "output_type": "stream",
     "text": [
      "{'epoch': 168, 'valid_accuracy': 0.7679700304378366, 'best_valid_epoch': 162, 'best_valid_score': 0.7732381175368767, 'test_accuracy': 0.7679610676299418, 'selected_test_score': 0.7717740317078066}\n"
     ]
    },
    {
     "name": "stderr",
     "output_type": "stream",
     "text": [
      " 68%|██████▊   | 169/250 [03:43<01:48,  1.34s/it]"
     ]
    },
    {
     "name": "stdout",
     "output_type": "stream",
     "text": [
      "{'epoch': 169, 'valid_accuracy': 0.7694919222664481, 'best_valid_epoch': 162, 'best_valid_score': 0.7732381175368767, 'test_accuracy': 0.7698173790889022, 'selected_test_score': 0.7717740317078066}\n"
     ]
    },
    {
     "name": "stderr",
     "output_type": "stream",
     "text": [
      " 68%|██████▊   | 170/250 [03:44<01:47,  1.34s/it]"
     ]
    },
    {
     "name": "stdout",
     "output_type": "stream",
     "text": [
      "{'epoch': 170, 'valid_accuracy': 0.7715991571060642, 'best_valid_epoch': 162, 'best_valid_score': 0.7732381175368767, 'test_accuracy': 0.7708709612683122, 'selected_test_score': 0.7717740317078066}\n"
     ]
    },
    {
     "name": "stderr",
     "output_type": "stream",
     "text": [
      " 68%|██████▊   | 171/250 [03:46<01:46,  1.35s/it]"
     ]
    },
    {
     "name": "stdout",
     "output_type": "stream",
     "text": [
      "{'epoch': 171, 'valid_accuracy': 0.7732381175368767, 'best_valid_epoch': 162, 'best_valid_score': 0.7732381175368767, 'test_accuracy': 0.7726269315673289, 'selected_test_score': 0.7717740317078066}\n"
     ]
    },
    {
     "name": "stderr",
     "output_type": "stream",
     "text": [
      " 69%|██████▉   | 172/250 [03:47<01:44,  1.35s/it]"
     ]
    },
    {
     "name": "stdout",
     "output_type": "stream",
     "text": [
      "{'epoch': 172, 'valid_accuracy': 0.7684383048466401, 'best_valid_epoch': 162, 'best_valid_score': 0.7732381175368767, 'test_accuracy': 0.7679108970499698, 'selected_test_score': 0.7717740317078066}\n"
     ]
    },
    {
     "name": "stderr",
     "output_type": "stream",
     "text": [
      " 69%|██████▉   | 173/250 [03:48<01:43,  1.34s/it]"
     ]
    },
    {
     "name": "stdout",
     "output_type": "stream",
     "text": [
      "{'epoch': 173, 'valid_accuracy': 0.765394521189417, 'best_valid_epoch': 162, 'best_valid_score': 0.7732381175368767, 'test_accuracy': 0.7648504916716837, 'selected_test_score': 0.7717740317078066}\n"
     ]
    },
    {
     "name": "stderr",
     "output_type": "stream",
     "text": [
      " 70%|██████▉   | 174/250 [03:50<01:43,  1.36s/it]"
     ]
    },
    {
     "name": "stdout",
     "output_type": "stream",
     "text": [
      "{'epoch': 174, 'valid_accuracy': 0.7703114024818544, 'best_valid_epoch': 162, 'best_valid_score': 0.7732381175368767, 'test_accuracy': 0.7695163556090708, 'selected_test_score': 0.7717740317078066}\n"
     ]
    },
    {
     "name": "stderr",
     "output_type": "stream",
     "text": [
      " 70%|███████   | 175/250 [03:51<01:41,  1.36s/it]"
     ]
    },
    {
     "name": "stdout",
     "output_type": "stream",
     "text": [
      "{'epoch': 175, 'valid_accuracy': 0.7662140014048232, 'best_valid_epoch': 162, 'best_valid_score': 0.7732381175368767, 'test_accuracy': 0.7672085089303632, 'selected_test_score': 0.7717740317078066}\n"
     ]
    },
    {
     "name": "stderr",
     "output_type": "stream",
     "text": [
      " 70%|███████   | 176/250 [03:52<01:38,  1.33s/it]"
     ]
    },
    {
     "name": "stdout",
     "output_type": "stream",
     "text": [
      "{'epoch': 176, 'valid_accuracy': 0.7755794895808944, 'best_valid_epoch': 176, 'best_valid_score': 0.7755794895808944, 'test_accuracy': 0.7754364840457556, 'selected_test_score': 0.7754364840457556}\n"
     ]
    },
    {
     "name": "stderr",
     "output_type": "stream",
     "text": [
      " 71%|███████   | 177/250 [03:54<01:37,  1.34s/it]"
     ]
    },
    {
     "name": "stdout",
     "output_type": "stream",
     "text": [
      "{'epoch': 177, 'valid_accuracy': 0.7710138140950598, 'best_valid_epoch': 176, 'best_valid_score': 0.7755794895808944, 'test_accuracy': 0.7698173790889022, 'selected_test_score': 0.7754364840457556}\n"
     ]
    },
    {
     "name": "stderr",
     "output_type": "stream",
     "text": [
      " 71%|███████   | 178/250 [03:55<01:36,  1.34s/it]"
     ]
    },
    {
     "name": "stdout",
     "output_type": "stream",
     "text": [
      "{'epoch': 178, 'valid_accuracy': 0.7724186373214704, 'best_valid_epoch': 176, 'best_valid_score': 0.7755794895808944, 'test_accuracy': 0.7716736905478627, 'selected_test_score': 0.7754364840457556}\n"
     ]
    },
    {
     "name": "stderr",
     "output_type": "stream",
     "text": [
      " 72%|███████▏  | 179/250 [03:56<01:35,  1.34s/it]"
     ]
    },
    {
     "name": "stdout",
     "output_type": "stream",
     "text": [
      "{'epoch': 179, 'valid_accuracy': 0.7656286583938188, 'best_valid_epoch': 176, 'best_valid_score': 0.7755794895808944, 'test_accuracy': 0.7651013445715432, 'selected_test_score': 0.7754364840457556}\n"
     ]
    },
    {
     "name": "stderr",
     "output_type": "stream",
     "text": [
      " 72%|███████▏  | 180/250 [03:58<01:33,  1.34s/it]"
     ]
    },
    {
     "name": "stdout",
     "output_type": "stream",
     "text": [
      "{'epoch': 180, 'valid_accuracy': 0.7730039803324749, 'best_valid_epoch': 176, 'best_valid_score': 0.7755794895808944, 'test_accuracy': 0.7712723259080875, 'selected_test_score': 0.7754364840457556}\n"
     ]
    },
    {
     "name": "stderr",
     "output_type": "stream",
     "text": [
      " 72%|███████▏  | 181/250 [03:59<01:32,  1.34s/it]"
     ]
    },
    {
     "name": "stdout",
     "output_type": "stream",
     "text": [
      "{'epoch': 181, 'valid_accuracy': 0.7637555607586045, 'best_valid_epoch': 176, 'best_valid_score': 0.7755794895808944, 'test_accuracy': 0.7627934978928357, 'selected_test_score': 0.7754364840457556}\n"
     ]
    },
    {
     "name": "stderr",
     "output_type": "stream",
     "text": [
      " 73%|███████▎  | 182/250 [04:01<01:30,  1.34s/it]"
     ]
    },
    {
     "name": "stdout",
     "output_type": "stream",
     "text": [
      "{'epoch': 182, 'valid_accuracy': 0.7728869117302739, 'best_valid_epoch': 176, 'best_valid_score': 0.7755794895808944, 'test_accuracy': 0.7713224964880594, 'selected_test_score': 0.7754364840457556}\n"
     ]
    },
    {
     "name": "stderr",
     "output_type": "stream",
     "text": [
      " 73%|███████▎  | 183/250 [04:02<01:29,  1.34s/it]"
     ]
    },
    {
     "name": "stdout",
     "output_type": "stream",
     "text": [
      "{'epoch': 183, 'valid_accuracy': 0.7733551861390775, 'best_valid_epoch': 176, 'best_valid_score': 0.7755794895808944, 'test_accuracy': 0.7727774433072446, 'selected_test_score': 0.7754364840457556}\n"
     ]
    },
    {
     "name": "stderr",
     "output_type": "stream",
     "text": [
      " 74%|███████▎  | 184/250 [04:03<01:28,  1.34s/it]"
     ]
    },
    {
     "name": "stdout",
     "output_type": "stream",
     "text": [
      "{'epoch': 184, 'valid_accuracy': 0.770662608288457, 'best_valid_epoch': 176, 'best_valid_score': 0.7755794895808944, 'test_accuracy': 0.769967890828818, 'selected_test_score': 0.7754364840457556}\n"
     ]
    },
    {
     "name": "stderr",
     "output_type": "stream",
     "text": [
      " 74%|███████▍  | 185/250 [04:05<01:27,  1.34s/it]"
     ]
    },
    {
     "name": "stdout",
     "output_type": "stream",
     "text": [
      "{'epoch': 185, 'valid_accuracy': 0.7755794895808944, 'best_valid_epoch': 176, 'best_valid_score': 0.7755794895808944, 'test_accuracy': 0.7745334136062613, 'selected_test_score': 0.7754364840457556}\n"
     ]
    },
    {
     "name": "stderr",
     "output_type": "stream",
     "text": [
      " 74%|███████▍  | 186/250 [04:06<01:27,  1.37s/it]"
     ]
    },
    {
     "name": "stdout",
     "output_type": "stream",
     "text": [
      "{'epoch': 186, 'valid_accuracy': 0.7768672442051042, 'best_valid_epoch': 186, 'best_valid_score': 0.7768672442051042, 'test_accuracy': 0.7755869957856713, 'selected_test_score': 0.7755869957856713}\n"
     ]
    },
    {
     "name": "stderr",
     "output_type": "stream",
     "text": [
      " 75%|███████▍  | 187/250 [04:07<01:26,  1.37s/it]"
     ]
    },
    {
     "name": "stdout",
     "output_type": "stream",
     "text": [
      "{'epoch': 187, 'valid_accuracy': 0.775930695387497, 'best_valid_epoch': 186, 'best_valid_score': 0.7768672442051042, 'test_accuracy': 0.7750852899859523, 'selected_test_score': 0.7755869957856713}\n"
     ]
    },
    {
     "name": "stderr",
     "output_type": "stream",
     "text": [
      " 75%|███████▌  | 188/250 [04:09<01:24,  1.36s/it]"
     ]
    },
    {
     "name": "stdout",
     "output_type": "stream",
     "text": [
      "{'epoch': 188, 'valid_accuracy': 0.7708967454928588, 'best_valid_epoch': 186, 'best_valid_score': 0.7768672442051042, 'test_accuracy': 0.7704194260485652, 'selected_test_score': 0.7755869957856713}\n"
     ]
    },
    {
     "name": "stderr",
     "output_type": "stream",
     "text": [
      " 76%|███████▌  | 189/250 [04:10<01:22,  1.36s/it]"
     ]
    },
    {
     "name": "stdout",
     "output_type": "stream",
     "text": [
      "{'epoch': 189, 'valid_accuracy': 0.7667993444158276, 'best_valid_epoch': 186, 'best_valid_score': 0.7768672442051042, 'test_accuracy': 0.7655027092113185, 'selected_test_score': 0.7755869957856713}\n"
     ]
    },
    {
     "name": "stderr",
     "output_type": "stream",
     "text": [
      " 76%|███████▌  | 190/250 [04:11<01:21,  1.36s/it]"
     ]
    },
    {
     "name": "stdout",
     "output_type": "stream",
     "text": [
      "{'epoch': 190, 'valid_accuracy': 0.7713650199016624, 'best_valid_epoch': 186, 'best_valid_score': 0.7768672442051042, 'test_accuracy': 0.7697672085089303, 'selected_test_score': 0.7755869957856713}\n"
     ]
    },
    {
     "name": "stderr",
     "output_type": "stream",
     "text": [
      " 76%|███████▋  | 191/250 [04:13<01:19,  1.35s/it]"
     ]
    },
    {
     "name": "stdout",
     "output_type": "stream",
     "text": [
      "{'epoch': 191, 'valid_accuracy': 0.7767501756029033, 'best_valid_epoch': 186, 'best_valid_score': 0.7768672442051042, 'test_accuracy': 0.7776941601444912, 'selected_test_score': 0.7755869957856713}\n"
     ]
    },
    {
     "name": "stderr",
     "output_type": "stream",
     "text": [
      " 77%|███████▋  | 192/250 [04:14<01:17,  1.34s/it]"
     ]
    },
    {
     "name": "stdout",
     "output_type": "stream",
     "text": [
      "{'epoch': 192, 'valid_accuracy': 0.777101381409506, 'best_valid_epoch': 192, 'best_valid_score': 0.777101381409506, 'test_accuracy': 0.7768412602849689, 'selected_test_score': 0.7768412602849689}\n"
     ]
    },
    {
     "name": "stderr",
     "output_type": "stream",
     "text": [
      " 77%|███████▋  | 193/250 [04:15<01:15,  1.33s/it]"
     ]
    },
    {
     "name": "stdout",
     "output_type": "stream",
     "text": [
      "{'epoch': 193, 'valid_accuracy': 0.7786232732381175, 'best_valid_epoch': 193, 'best_valid_score': 0.7786232732381175, 'test_accuracy': 0.7774934778246037, 'selected_test_score': 0.7774934778246037}\n"
     ]
    },
    {
     "name": "stderr",
     "output_type": "stream",
     "text": [
      " 78%|███████▊  | 194/250 [04:17<01:14,  1.33s/it]"
     ]
    },
    {
     "name": "stdout",
     "output_type": "stream",
     "text": [
      "{'epoch': 194, 'valid_accuracy': 0.7787403418403184, 'best_valid_epoch': 194, 'best_valid_score': 0.7787403418403184, 'test_accuracy': 0.7776439895645194, 'selected_test_score': 0.7776439895645194}\n"
     ]
    },
    {
     "name": "stderr",
     "output_type": "stream",
     "text": [
      " 78%|███████▊  | 195/250 [04:18<01:13,  1.34s/it]"
     ]
    },
    {
     "name": "stdout",
     "output_type": "stream",
     "text": [
      "{'epoch': 195, 'valid_accuracy': 0.7785062046359167, 'best_valid_epoch': 194, 'best_valid_score': 0.7787403418403184, 'test_accuracy': 0.7779951836243227, 'selected_test_score': 0.7776439895645194}\n"
     ]
    },
    {
     "name": "stderr",
     "output_type": "stream",
     "text": [
      " 78%|███████▊  | 196/250 [04:19<01:12,  1.34s/it]"
     ]
    },
    {
     "name": "stdout",
     "output_type": "stream",
     "text": [
      "{'epoch': 196, 'valid_accuracy': 0.7754624209786936, 'best_valid_epoch': 194, 'best_valid_score': 0.7787403418403184, 'test_accuracy': 0.7765402368051375, 'selected_test_score': 0.7776439895645194}\n"
     ]
    },
    {
     "name": "stderr",
     "output_type": "stream",
     "text": [
      " 79%|███████▉  | 197/250 [04:21<01:11,  1.34s/it]"
     ]
    },
    {
     "name": "stdout",
     "output_type": "stream",
     "text": [
      "{'epoch': 197, 'valid_accuracy': 0.7787403418403184, 'best_valid_epoch': 194, 'best_valid_score': 0.7787403418403184, 'test_accuracy': 0.7774433072446317, 'selected_test_score': 0.7776439895645194}\n"
     ]
    },
    {
     "name": "stderr",
     "output_type": "stream",
     "text": [
      " 79%|███████▉  | 198/250 [04:22<01:10,  1.36s/it]"
     ]
    },
    {
     "name": "stdout",
     "output_type": "stream",
     "text": [
      "{'epoch': 198, 'valid_accuracy': 0.779208616249122, 'best_valid_epoch': 198, 'best_valid_score': 0.779208616249122, 'test_accuracy': 0.7782962071041541, 'selected_test_score': 0.7782962071041541}\n"
     ]
    },
    {
     "name": "stderr",
     "output_type": "stream",
     "text": [
      " 80%|███████▉  | 199/250 [04:23<01:04,  1.27s/it]"
     ]
    },
    {
     "name": "stdout",
     "output_type": "stream",
     "text": [
      "{'epoch': 199, 'valid_accuracy': 0.7794427534535238, 'best_valid_epoch': 199, 'best_valid_score': 0.7794427534535238, 'test_accuracy': 0.778898254063817, 'selected_test_score': 0.778898254063817}\n"
     ]
    },
    {
     "name": "stderr",
     "output_type": "stream",
     "text": [
      " 80%|████████  | 200/250 [04:24<00:55,  1.11s/it]"
     ]
    },
    {
     "name": "stdout",
     "output_type": "stream",
     "text": [
      "{'epoch': 200, 'valid_accuracy': 0.7747600093654882, 'best_valid_epoch': 199, 'best_valid_score': 0.7794427534535238, 'test_accuracy': 0.7718743728677504, 'selected_test_score': 0.778898254063817}\n"
     ]
    },
    {
     "name": "stderr",
     "output_type": "stream",
     "text": [
      " 80%|████████  | 201/250 [04:25<00:49,  1.00s/it]"
     ]
    },
    {
     "name": "stdout",
     "output_type": "stream",
     "text": [
      "{'epoch': 201, 'valid_accuracy': 0.7785062046359167, 'best_valid_epoch': 199, 'best_valid_score': 0.7794427534535238, 'test_accuracy': 0.7775938189845475, 'selected_test_score': 0.778898254063817}\n"
     ]
    },
    {
     "name": "stderr",
     "output_type": "stream",
     "text": [
      " 81%|████████  | 202/250 [04:25<00:44,  1.07it/s]"
     ]
    },
    {
     "name": "stdout",
     "output_type": "stream",
     "text": [
      "{'epoch': 202, 'valid_accuracy': 0.77499414656989, 'best_valid_epoch': 199, 'best_valid_score': 0.7794427534535238, 'test_accuracy': 0.7745835841862332, 'selected_test_score': 0.778898254063817}\n"
     ]
    },
    {
     "name": "stderr",
     "output_type": "stream",
     "text": [
      " 81%|████████  | 203/250 [04:26<00:41,  1.14it/s]"
     ]
    },
    {
     "name": "stdout",
     "output_type": "stream",
     "text": [
      "{'epoch': 203, 'valid_accuracy': 0.7753453523764926, 'best_valid_epoch': 199, 'best_valid_score': 0.7794427534535238, 'test_accuracy': 0.773128637367048, 'selected_test_score': 0.778898254063817}\n"
     ]
    },
    {
     "name": "stderr",
     "output_type": "stream",
     "text": [
      " 82%|████████▏ | 204/250 [04:27<00:38,  1.20it/s]"
     ]
    },
    {
     "name": "stdout",
     "output_type": "stream",
     "text": [
      "{'epoch': 204, 'valid_accuracy': 0.7756965581830952, 'best_valid_epoch': 199, 'best_valid_score': 0.7794427534535238, 'test_accuracy': 0.773078466787076, 'selected_test_score': 0.778898254063817}\n"
     ]
    },
    {
     "name": "stderr",
     "output_type": "stream",
     "text": [
      " 82%|████████▏ | 205/250 [04:28<00:36,  1.23it/s]"
     ]
    },
    {
     "name": "stdout",
     "output_type": "stream",
     "text": [
      "{'epoch': 205, 'valid_accuracy': 0.7800280964645282, 'best_valid_epoch': 205, 'best_valid_score': 0.7800280964645282, 'test_accuracy': 0.7795003010234798, 'selected_test_score': 0.7795003010234798}\n"
     ]
    },
    {
     "name": "stderr",
     "output_type": "stream",
     "text": [
      " 82%|████████▏ | 206/250 [04:29<00:42,  1.03it/s]"
     ]
    },
    {
     "name": "stdout",
     "output_type": "stream",
     "text": [
      "{'epoch': 206, 'valid_accuracy': 0.7730039803324749, 'best_valid_epoch': 205, 'best_valid_score': 0.7800280964645282, 'test_accuracy': 0.7699177202488461, 'selected_test_score': 0.7795003010234798}\n"
     ]
    },
    {
     "name": "stderr",
     "output_type": "stream",
     "text": [
      " 83%|████████▎ | 207/250 [04:30<00:47,  1.10s/it]"
     ]
    },
    {
     "name": "stdout",
     "output_type": "stream",
     "text": [
      "{'epoch': 207, 'valid_accuracy': 0.7761648325918988, 'best_valid_epoch': 205, 'best_valid_score': 0.7800280964645282, 'test_accuracy': 0.7752358017258679, 'selected_test_score': 0.7795003010234798}\n"
     ]
    },
    {
     "name": "stderr",
     "output_type": "stream",
     "text": [
      " 83%|████████▎ | 208/250 [04:32<00:49,  1.18s/it]"
     ]
    },
    {
     "name": "stdout",
     "output_type": "stream",
     "text": [
      "{'epoch': 208, 'valid_accuracy': 0.775930695387497, 'best_valid_epoch': 205, 'best_valid_score': 0.7800280964645282, 'test_accuracy': 0.7739815372265704, 'selected_test_score': 0.7795003010234798}\n"
     ]
    },
    {
     "name": "stderr",
     "output_type": "stream",
     "text": [
      " 84%|████████▎ | 209/250 [04:33<00:51,  1.24s/it]"
     ]
    },
    {
     "name": "stdout",
     "output_type": "stream",
     "text": [
      "{'epoch': 209, 'valid_accuracy': 0.7755794895808944, 'best_valid_epoch': 205, 'best_valid_score': 0.7800280964645282, 'test_accuracy': 0.7721252257676099, 'selected_test_score': 0.7795003010234798}\n"
     ]
    },
    {
     "name": "stderr",
     "output_type": "stream",
     "text": [
      " 84%|████████▍ | 210/250 [04:35<00:52,  1.30s/it]"
     ]
    },
    {
     "name": "stdout",
     "output_type": "stream",
     "text": [
      "{'epoch': 210, 'valid_accuracy': 0.7787403418403184, 'best_valid_epoch': 205, 'best_valid_score': 0.7800280964645282, 'test_accuracy': 0.778848083483845, 'selected_test_score': 0.7795003010234798}\n"
     ]
    },
    {
     "name": "stderr",
     "output_type": "stream",
     "text": [
      " 84%|████████▍ | 211/250 [04:36<00:51,  1.32s/it]"
     ]
    },
    {
     "name": "stdout",
     "output_type": "stream",
     "text": [
      "{'epoch': 211, 'valid_accuracy': 0.781315851088738, 'best_valid_epoch': 211, 'best_valid_score': 0.781315851088738, 'test_accuracy': 0.7800020068231989, 'selected_test_score': 0.7800020068231989}\n"
     ]
    },
    {
     "name": "stderr",
     "output_type": "stream",
     "text": [
      " 85%|████████▍ | 212/250 [04:37<00:51,  1.34s/it]"
     ]
    },
    {
     "name": "stdout",
     "output_type": "stream",
     "text": [
      "{'epoch': 212, 'valid_accuracy': 0.7820182627019433, 'best_valid_epoch': 212, 'best_valid_score': 0.7820182627019433, 'test_accuracy': 0.7805538832028899, 'selected_test_score': 0.7805538832028899}\n"
     ]
    },
    {
     "name": "stderr",
     "output_type": "stream",
     "text": [
      " 85%|████████▌ | 213/250 [04:39<00:50,  1.36s/it]"
     ]
    },
    {
     "name": "stdout",
     "output_type": "stream",
     "text": [
      "{'epoch': 213, 'valid_accuracy': 0.7658627955982206, 'best_valid_epoch': 212, 'best_valid_score': 0.7820182627019433, 'test_accuracy': 0.7665562913907285, 'selected_test_score': 0.7805538832028899}\n"
     ]
    },
    {
     "name": "stderr",
     "output_type": "stream",
     "text": [
      " 86%|████████▌ | 214/250 [04:40<00:49,  1.36s/it]"
     ]
    },
    {
     "name": "stdout",
     "output_type": "stream",
     "text": [
      "{'epoch': 214, 'valid_accuracy': 0.7775696558183095, 'best_valid_epoch': 212, 'best_valid_score': 0.7820182627019433, 'test_accuracy': 0.7753361428858118, 'selected_test_score': 0.7805538832028899}\n"
     ]
    },
    {
     "name": "stderr",
     "output_type": "stream",
     "text": [
      " 86%|████████▌ | 215/250 [04:42<00:47,  1.37s/it]"
     ]
    },
    {
     "name": "stdout",
     "output_type": "stream",
     "text": [
      "{'epoch': 215, 'valid_accuracy': 0.7685553734488411, 'best_valid_epoch': 212, 'best_valid_score': 0.7820182627019433, 'test_accuracy': 0.7691149909692956, 'selected_test_score': 0.7805538832028899}\n"
     ]
    },
    {
     "name": "stderr",
     "output_type": "stream",
     "text": [
      " 86%|████████▋ | 216/250 [04:43<00:46,  1.37s/it]"
     ]
    },
    {
     "name": "stdout",
     "output_type": "stream",
     "text": [
      "{'epoch': 216, 'valid_accuracy': 0.7789744790447202, 'best_valid_epoch': 212, 'best_valid_score': 0.7820182627019433, 'test_accuracy': 0.7797511539233394, 'selected_test_score': 0.7805538832028899}\n"
     ]
    },
    {
     "name": "stderr",
     "output_type": "stream",
     "text": [
      " 87%|████████▋ | 217/250 [04:44<00:45,  1.37s/it]"
     ]
    },
    {
     "name": "stdout",
     "output_type": "stream",
     "text": [
      "{'epoch': 217, 'valid_accuracy': 0.7786232732381175, 'best_valid_epoch': 212, 'best_valid_score': 0.7820182627019433, 'test_accuracy': 0.7770419426048565, 'selected_test_score': 0.7805538832028899}\n"
     ]
    },
    {
     "name": "stderr",
     "output_type": "stream",
     "text": [
      " 87%|████████▋ | 218/250 [04:46<00:43,  1.37s/it]"
     ]
    },
    {
     "name": "stdout",
     "output_type": "stream",
     "text": [
      "{'epoch': 218, 'valid_accuracy': 0.7804963708733318, 'best_valid_epoch': 212, 'best_valid_score': 0.7820182627019433, 'test_accuracy': 0.7798013245033113, 'selected_test_score': 0.7805538832028899}\n"
     ]
    },
    {
     "name": "stderr",
     "output_type": "stream",
     "text": [
      " 88%|████████▊ | 219/250 [04:47<00:42,  1.36s/it]"
     ]
    },
    {
     "name": "stdout",
     "output_type": "stream",
     "text": [
      "{'epoch': 219, 'valid_accuracy': 0.7776867244205105, 'best_valid_epoch': 212, 'best_valid_score': 0.7820182627019433, 'test_accuracy': 0.7728777844671885, 'selected_test_score': 0.7805538832028899}\n"
     ]
    },
    {
     "name": "stderr",
     "output_type": "stream",
     "text": [
      " 88%|████████▊ | 220/250 [04:48<00:40,  1.36s/it]"
     ]
    },
    {
     "name": "stdout",
     "output_type": "stream",
     "text": [
      "{'epoch': 220, 'valid_accuracy': 0.7774525872161087, 'best_valid_epoch': 212, 'best_valid_score': 0.7820182627019433, 'test_accuracy': 0.7743327312863737, 'selected_test_score': 0.7805538832028899}\n"
     ]
    },
    {
     "name": "stderr",
     "output_type": "stream",
     "text": [
      " 88%|████████▊ | 221/250 [04:50<00:39,  1.37s/it]"
     ]
    },
    {
     "name": "stdout",
     "output_type": "stream",
     "text": [
      "{'epoch': 221, 'valid_accuracy': 0.7774525872161087, 'best_valid_epoch': 212, 'best_valid_score': 0.7820182627019433, 'test_accuracy': 0.7734798314268513, 'selected_test_score': 0.7805538832028899}\n"
     ]
    },
    {
     "name": "stderr",
     "output_type": "stream",
     "text": [
      " 89%|████████▉ | 222/250 [04:51<00:39,  1.40s/it]"
     ]
    },
    {
     "name": "stdout",
     "output_type": "stream",
     "text": [
      "{'epoch': 222, 'valid_accuracy': 0.7778037930227113, 'best_valid_epoch': 212, 'best_valid_score': 0.7820182627019433, 'test_accuracy': 0.7758378486855309, 'selected_test_score': 0.7805538832028899}\n"
     ]
    },
    {
     "name": "stderr",
     "output_type": "stream",
     "text": [
      " 89%|████████▉ | 223/250 [04:53<00:37,  1.39s/it]"
     ]
    },
    {
     "name": "stdout",
     "output_type": "stream",
     "text": [
      "{'epoch': 223, 'valid_accuracy': 0.7819011940997425, 'best_valid_epoch': 212, 'best_valid_score': 0.7820182627019433, 'test_accuracy': 0.7811057595825808, 'selected_test_score': 0.7805538832028899}\n"
     ]
    },
    {
     "name": "stderr",
     "output_type": "stream",
     "text": [
      " 90%|████████▉ | 224/250 [04:54<00:35,  1.38s/it]"
     ]
    },
    {
     "name": "stdout",
     "output_type": "stream",
     "text": [
      "{'epoch': 224, 'valid_accuracy': 0.779208616249122, 'best_valid_epoch': 212, 'best_valid_score': 0.7820182627019433, 'test_accuracy': 0.779951836243227, 'selected_test_score': 0.7805538832028899}\n"
     ]
    },
    {
     "name": "stderr",
     "output_type": "stream",
     "text": [
      " 90%|█████████ | 225/250 [04:55<00:34,  1.38s/it]"
     ]
    },
    {
     "name": "stdout",
     "output_type": "stream",
     "text": [
      "{'epoch': 225, 'valid_accuracy': 0.7800280964645282, 'best_valid_epoch': 212, 'best_valid_score': 0.7820182627019433, 'test_accuracy': 0.7800020068231989, 'selected_test_score': 0.7805538832028899}\n"
     ]
    },
    {
     "name": "stderr",
     "output_type": "stream",
     "text": [
      " 90%|█████████ | 226/250 [04:57<00:33,  1.38s/it]"
     ]
    },
    {
     "name": "stdout",
     "output_type": "stream",
     "text": [
      "{'epoch': 226, 'valid_accuracy': 0.7794427534535238, 'best_valid_epoch': 212, 'best_valid_score': 0.7820182627019433, 'test_accuracy': 0.7798514950832831, 'selected_test_score': 0.7805538832028899}\n"
     ]
    },
    {
     "name": "stderr",
     "output_type": "stream",
     "text": [
      " 91%|█████████ | 227/250 [04:58<00:31,  1.38s/it]"
     ]
    },
    {
     "name": "stdout",
     "output_type": "stream",
     "text": [
      "{'epoch': 227, 'valid_accuracy': 0.7830718801217513, 'best_valid_epoch': 227, 'best_valid_score': 0.7830718801217513, 'test_accuracy': 0.7822596829219346, 'selected_test_score': 0.7822596829219346}\n"
     ]
    },
    {
     "name": "stderr",
     "output_type": "stream",
     "text": [
      " 91%|█████████ | 228/250 [04:59<00:30,  1.38s/it]"
     ]
    },
    {
     "name": "stdout",
     "output_type": "stream",
     "text": [
      "{'epoch': 228, 'valid_accuracy': 0.7719503629126668, 'best_valid_epoch': 227, 'best_valid_score': 0.7830718801217513, 'test_accuracy': 0.7711218141681718, 'selected_test_score': 0.7822596829219346}\n"
     ]
    },
    {
     "name": "stderr",
     "output_type": "stream",
     "text": [
      " 92%|█████████▏| 229/250 [05:01<00:28,  1.38s/it]"
     ]
    },
    {
     "name": "stdout",
     "output_type": "stream",
     "text": [
      "{'epoch': 229, 'valid_accuracy': 0.783423085928354, 'best_valid_epoch': 229, 'best_valid_score': 0.783423085928354, 'test_accuracy': 0.7816576359622717, 'selected_test_score': 0.7816576359622717}\n"
     ]
    },
    {
     "name": "stderr",
     "output_type": "stream",
     "text": [
      " 92%|█████████▏| 230/250 [05:02<00:27,  1.38s/it]"
     ]
    },
    {
     "name": "stdout",
     "output_type": "stream",
     "text": [
      "{'epoch': 230, 'valid_accuracy': 0.7810817138843362, 'best_valid_epoch': 229, 'best_valid_score': 0.783423085928354, 'test_accuracy': 0.780453542042946, 'selected_test_score': 0.7816576359622717}\n"
     ]
    },
    {
     "name": "stderr",
     "output_type": "stream",
     "text": [
      " 92%|█████████▏| 231/250 [05:04<00:26,  1.38s/it]"
     ]
    },
    {
     "name": "stdout",
     "output_type": "stream",
     "text": [
      "{'epoch': 231, 'valid_accuracy': 0.7836572231327558, 'best_valid_epoch': 231, 'best_valid_score': 0.7836572231327558, 'test_accuracy': 0.7823098535019065, 'selected_test_score': 0.7823098535019065}\n"
     ]
    },
    {
     "name": "stderr",
     "output_type": "stream",
     "text": [
      " 93%|█████████▎| 232/250 [05:05<00:24,  1.37s/it]"
     ]
    },
    {
     "name": "stdout",
     "output_type": "stream",
     "text": [
      "{'epoch': 232, 'valid_accuracy': 0.7775696558183095, 'best_valid_epoch': 231, 'best_valid_score': 0.7836572231327558, 'test_accuracy': 0.7739313666465985, 'selected_test_score': 0.7823098535019065}\n"
     ]
    },
    {
     "name": "stderr",
     "output_type": "stream",
     "text": [
      " 93%|█████████▎| 233/250 [05:06<00:23,  1.37s/it]"
     ]
    },
    {
     "name": "stdout",
     "output_type": "stream",
     "text": [
      "{'epoch': 233, 'valid_accuracy': 0.7829548115195505, 'best_valid_epoch': 231, 'best_valid_score': 0.7836572231327558, 'test_accuracy': 0.7824603652418222, 'selected_test_score': 0.7823098535019065}\n"
     ]
    },
    {
     "name": "stderr",
     "output_type": "stream",
     "text": [
      " 94%|█████████▎| 234/250 [05:08<00:22,  1.40s/it]"
     ]
    },
    {
     "name": "stdout",
     "output_type": "stream",
     "text": [
      "{'epoch': 234, 'valid_accuracy': 0.7698431280730508, 'best_valid_epoch': 231, 'best_valid_score': 0.7836572231327558, 'test_accuracy': 0.7704194260485652, 'selected_test_score': 0.7823098535019065}\n"
     ]
    },
    {
     "name": "stderr",
     "output_type": "stream",
     "text": [
      " 94%|█████████▍| 235/250 [05:09<00:20,  1.39s/it]"
     ]
    },
    {
     "name": "stdout",
     "output_type": "stream",
     "text": [
      "{'epoch': 235, 'valid_accuracy': 0.7827206743151487, 'best_valid_epoch': 231, 'best_valid_score': 0.7836572231327558, 'test_accuracy': 0.7829620710415413, 'selected_test_score': 0.7823098535019065}\n"
     ]
    },
    {
     "name": "stderr",
     "output_type": "stream",
     "text": [
      " 94%|█████████▍| 236/250 [05:10<00:19,  1.37s/it]"
     ]
    },
    {
     "name": "stdout",
     "output_type": "stream",
     "text": [
      "{'epoch': 236, 'valid_accuracy': 0.7803793022711308, 'best_valid_epoch': 231, 'best_valid_score': 0.7836572231327558, 'test_accuracy': 0.7783463776841261, 'selected_test_score': 0.7823098535019065}\n"
     ]
    },
    {
     "name": "stderr",
     "output_type": "stream",
     "text": [
      " 95%|█████████▍| 237/250 [05:12<00:17,  1.37s/it]"
     ]
    },
    {
     "name": "stdout",
     "output_type": "stream",
     "text": [
      "{'epoch': 237, 'valid_accuracy': 0.7848279091547647, 'best_valid_epoch': 237, 'best_valid_score': 0.7848279091547647, 'test_accuracy': 0.7824101946618502, 'selected_test_score': 0.7824101946618502}\n"
     ]
    },
    {
     "name": "stderr",
     "output_type": "stream",
     "text": [
      " 95%|█████████▌| 238/250 [05:13<00:16,  1.38s/it]"
     ]
    },
    {
     "name": "stdout",
     "output_type": "stream",
     "text": [
      "{'epoch': 238, 'valid_accuracy': 0.7793256848513229, 'best_valid_epoch': 237, 'best_valid_score': 0.7848279091547647, 'test_accuracy': 0.7747842665061208, 'selected_test_score': 0.7824101946618502}\n"
     ]
    },
    {
     "name": "stderr",
     "output_type": "stream",
     "text": [
      " 96%|█████████▌| 239/250 [05:15<00:15,  1.37s/it]"
     ]
    },
    {
     "name": "stdout",
     "output_type": "stream",
     "text": [
      "{'epoch': 239, 'valid_accuracy': 0.7801451650667292, 'best_valid_epoch': 237, 'best_valid_score': 0.7848279091547647, 'test_accuracy': 0.7779951836243227, 'selected_test_score': 0.7824101946618502}\n"
     ]
    },
    {
     "name": "stderr",
     "output_type": "stream",
     "text": [
      " 96%|█████████▌| 240/250 [05:16<00:13,  1.37s/it]"
     ]
    },
    {
     "name": "stdout",
     "output_type": "stream",
     "text": [
      "{'epoch': 240, 'valid_accuracy': 0.779208616249122, 'best_valid_epoch': 237, 'best_valid_score': 0.7848279091547647, 'test_accuracy': 0.7791992775436484, 'selected_test_score': 0.7824101946618502}\n"
     ]
    },
    {
     "name": "stderr",
     "output_type": "stream",
     "text": [
      " 96%|█████████▋| 241/250 [05:17<00:12,  1.37s/it]"
     ]
    },
    {
     "name": "stdout",
     "output_type": "stream",
     "text": [
      "{'epoch': 241, 'valid_accuracy': 0.7807305080777336, 'best_valid_epoch': 237, 'best_valid_score': 0.7848279091547647, 'test_accuracy': 0.7801023479831427, 'selected_test_score': 0.7824101946618502}\n"
     ]
    },
    {
     "name": "stderr",
     "output_type": "stream",
     "text": [
      " 97%|█████████▋| 242/250 [05:19<00:11,  1.38s/it]"
     ]
    },
    {
     "name": "stdout",
     "output_type": "stream",
     "text": [
      "{'epoch': 242, 'valid_accuracy': 0.7744088035588855, 'best_valid_epoch': 237, 'best_valid_score': 0.7848279091547647, 'test_accuracy': 0.7718743728677504, 'selected_test_score': 0.7824101946618502}\n"
     ]
    },
    {
     "name": "stderr",
     "output_type": "stream",
     "text": [
      " 97%|█████████▋| 243/250 [05:20<00:09,  1.38s/it]"
     ]
    },
    {
     "name": "stdout",
     "output_type": "stream",
     "text": [
      "{'epoch': 243, 'valid_accuracy': 0.7801451650667292, 'best_valid_epoch': 237, 'best_valid_score': 0.7848279091547647, 'test_accuracy': 0.7790989363837046, 'selected_test_score': 0.7824101946618502}\n"
     ]
    },
    {
     "name": "stderr",
     "output_type": "stream",
     "text": [
      " 98%|█████████▊| 244/250 [05:22<00:08,  1.38s/it]"
     ]
    },
    {
     "name": "stdout",
     "output_type": "stream",
     "text": [
      "{'epoch': 244, 'valid_accuracy': 0.7815499882931398, 'best_valid_epoch': 237, 'best_valid_score': 0.7848279091547647, 'test_accuracy': 0.7816074653822999, 'selected_test_score': 0.7824101946618502}\n"
     ]
    },
    {
     "name": "stderr",
     "output_type": "stream",
     "text": [
      " 98%|█████████▊| 245/250 [05:23<00:06,  1.38s/it]"
     ]
    },
    {
     "name": "stdout",
     "output_type": "stream",
     "text": [
      "{'epoch': 245, 'valid_accuracy': 0.7849449777569656, 'best_valid_epoch': 245, 'best_valid_score': 0.7849449777569656, 'test_accuracy': 0.7835641180012041, 'selected_test_score': 0.7835641180012041}\n"
     ]
    },
    {
     "name": "stderr",
     "output_type": "stream",
     "text": [
      " 98%|█████████▊| 246/250 [05:24<00:05,  1.39s/it]"
     ]
    },
    {
     "name": "stdout",
     "output_type": "stream",
     "text": [
      "{'epoch': 246, 'valid_accuracy': 0.7816670568953407, 'best_valid_epoch': 245, 'best_valid_score': 0.7849449777569656, 'test_accuracy': 0.7813566124824403, 'selected_test_score': 0.7835641180012041}\n"
     ]
    },
    {
     "name": "stderr",
     "output_type": "stream",
     "text": [
      " 99%|█████████▉| 247/250 [05:26<00:04,  1.39s/it]"
     ]
    },
    {
     "name": "stdout",
     "output_type": "stream",
     "text": [
      "{'epoch': 247, 'valid_accuracy': 0.7848279091547647, 'best_valid_epoch': 245, 'best_valid_score': 0.7849449777569656, 'test_accuracy': 0.7838149709010637, 'selected_test_score': 0.7835641180012041}\n"
     ]
    },
    {
     "name": "stderr",
     "output_type": "stream",
     "text": [
      " 99%|█████████▉| 248/250 [05:27<00:02,  1.39s/it]"
     ]
    },
    {
     "name": "stdout",
     "output_type": "stream",
     "text": [
      "{'epoch': 248, 'valid_accuracy': 0.7793256848513229, 'best_valid_epoch': 245, 'best_valid_score': 0.7849449777569656, 'test_accuracy': 0.779951836243227, 'selected_test_score': 0.7835641180012041}\n"
     ]
    },
    {
     "name": "stderr",
     "output_type": "stream",
     "text": [
      "100%|█████████▉| 249/250 [05:28<00:01,  1.39s/it]"
     ]
    },
    {
     "name": "stdout",
     "output_type": "stream",
     "text": [
      "{'epoch': 249, 'valid_accuracy': 0.7800280964645282, 'best_valid_epoch': 245, 'best_valid_score': 0.7849449777569656, 'test_accuracy': 0.7798013245033113, 'selected_test_score': 0.7835641180012041}\n"
     ]
    },
    {
     "name": "stderr",
     "output_type": "stream",
     "text": [
      "100%|██████████| 250/250 [05:30<00:00,  1.32s/it]"
     ]
    },
    {
     "name": "stdout",
     "output_type": "stream",
     "text": [
      "{'epoch': 250, 'valid_accuracy': 0.7811987824865371, 'best_valid_epoch': 245, 'best_valid_score': 0.7849449777569656, 'test_accuracy': 0.7798514950832831, 'selected_test_score': 0.7835641180012041}\n"
     ]
    },
    {
     "name": "stderr",
     "output_type": "stream",
     "text": [
      "\n"
     ]
    }
   ],
   "source": [
    "args = Config()\n",
    "set_random_seed()\n",
    "\n",
    "data_dict = load_pkl_data(Path(args.data_dir, args.data_id, '0.pkl'))\n",
    "n_class = data_dict['label_cat_count']\n",
    "task = 'r' if n_class == -1 else 'c'\n",
    "\n",
    "target_transform = args.target_transform if task == 'r' else False\n",
    "train_X = data_dict['x_train']\n",
    "train_y = data_dict['y_train' if not target_transform else 'y_train_transform']\n",
    "valid_X = data_dict['x_val']\n",
    "valid_y = data_dict['y_val' if not target_transform else 'y_val_transform']\n",
    "test_X = data_dict['x_test']\n",
    "test_y = data_dict['y_test' if not target_transform else 'y_test_transform']\n",
    "\n",
    "data_args = {\n",
    "    'n_feature': train_X.shape[1],\n",
    "    'n_train': train_X.shape[0],\n",
    "    'n_valid': valid_X.shape[0],\n",
    "    'n_test': test_X.shape[0],\n",
    "}\n",
    "\n",
    "model_params = {\n",
    "    'category_column_count': data_dict['col_cat_count'],\n",
    "}\n",
    "if n_class != -1:\n",
    "    model_params['n_class'] = n_class\n",
    "\n",
    "\n",
    "model = DOFENClassifier(**model_params)\n",
    "eval_funs = cls_eval_funs\n",
    "metrics = 'accuracy'\n",
    "\n",
    "wandb = None\n",
    "trainer = Trainer(\n",
    "    model,\n",
    "    batch_size=args.batch_size,\n",
    "    n_epoch=args.n_epoch,\n",
    "    eval_funs=eval_funs,\n",
    "    metric=metrics,\n",
    "    logger=wandb,\n",
    ")\n",
    "trainer.fit(\n",
    "    train_X=train_X, train_y=train_y,\n",
    "    valid_X=valid_X, valid_y=valid_y,\n",
    "    test_X=test_X, test_y=test_y,\n",
    ")"
   ]
  },
  {
   "cell_type": "code",
   "execution_count": 87,
   "metadata": {},
   "outputs": [
    {
     "data": {
      "text/plain": [
       "DOFENClassifier(\n",
       "  (condition_generation): ConditionGeneration(\n",
       "    (phi_1): ModuleDict(\n",
       "      (num): Sequential(\n",
       "        (0): Reshape()\n",
       "        (1): FastGroupConv1d(7, 448, kernel_size=(1,), stride=(1,), groups=7)\n",
       "        (2): Sigmoid()\n",
       "        (3): Reshape()\n",
       "      )\n",
       "    )\n",
       "  )\n",
       "  (proj): Linear(in_features=1, out_features=16, bias=True)\n",
       "  (rodt_construction): rODTConstruction()\n",
       "  (norm): LayerNorm((16,), eps=1e-05, elementwise_affine=True)\n",
       "  (attn): MultiheadAttention(\n",
       "    (qw_proj): Linear(in_features=16, out_features=16, bias=True)\n",
       "    (kw_proj): Linear(in_features=16, out_features=16, bias=True)\n",
       "    (vw_proj): Linear(in_features=16, out_features=16, bias=True)\n",
       "    (ow_proj): Linear(in_features=16, out_features=1, bias=True)\n",
       "    (qE_proj): Linear(in_features=16, out_features=16, bias=True)\n",
       "    (kE_proj): Linear(in_features=16, out_features=16, bias=True)\n",
       "    (vE_proj): Linear(in_features=16, out_features=16, bias=True)\n",
       "    (oE_proj): Linear(in_features=16, out_features=16, bias=True)\n",
       "    (dropout): Dropout(p=0.2, inplace=False)\n",
       "  )\n",
       "  (rodt_forest_construction): rODTForestConstruction()\n",
       "  (rodt_forest_bagging): rODTForestBagging(\n",
       "    (phi_3): Sequential(\n",
       "      (0): LayerNorm((16,), eps=1e-05, elementwise_affine=True)\n",
       "      (1): Dropout(p=0.0, inplace=False)\n",
       "      (2): Linear(in_features=16, out_features=16, bias=True)\n",
       "      (3): ReLU()\n",
       "      (4): LayerNorm((16,), eps=1e-05, elementwise_affine=True)\n",
       "      (5): Dropout(p=0.0, inplace=False)\n",
       "      (6): Linear(in_features=16, out_features=2, bias=True)\n",
       "    )\n",
       "  )\n",
       "  (act): ReGLU()\n",
       ")"
      ]
     },
     "execution_count": 87,
     "metadata": {},
     "output_type": "execute_result"
    }
   ],
   "source": [
    "model"
   ]
  },
  {
   "cell_type": "code",
   "execution_count": 88,
   "metadata": {},
   "outputs": [
    {
     "data": {
      "text/plain": [
       "MultiheadAttention(\n",
       "  (qw_proj): Linear(in_features=16, out_features=16, bias=True)\n",
       "  (kw_proj): Linear(in_features=16, out_features=16, bias=True)\n",
       "  (vw_proj): Linear(in_features=16, out_features=16, bias=True)\n",
       "  (ow_proj): Linear(in_features=16, out_features=1, bias=True)\n",
       "  (qE_proj): Linear(in_features=16, out_features=16, bias=True)\n",
       "  (kE_proj): Linear(in_features=16, out_features=16, bias=True)\n",
       "  (vE_proj): Linear(in_features=16, out_features=16, bias=True)\n",
       "  (oE_proj): Linear(in_features=16, out_features=16, bias=True)\n",
       "  (dropout): Dropout(p=0.2, inplace=False)\n",
       ")"
      ]
     },
     "execution_count": 88,
     "metadata": {},
     "output_type": "execute_result"
    }
   ],
   "source": [
    "model.attn"
   ]
  },
  {
   "cell_type": "code",
   "execution_count": 89,
   "metadata": {},
   "outputs": [
    {
     "data": {
      "text/plain": [
       "{'pred': tensor([[ 0.2512, -0.0253],\n",
       "         [-0.4203,  0.9439],\n",
       "         [ 0.0696,  0.2283],\n",
       "         [ 0.4746, -0.3041],\n",
       "         [ 0.8893, -0.8632],\n",
       "         [ 0.7030, -0.6088],\n",
       "         [ 0.8161, -0.7506],\n",
       "         [ 1.2206, -1.3292],\n",
       "         [ 0.3068, -0.0989],\n",
       "         [ 1.1070, -1.1566],\n",
       "         [ 0.4825, -0.3156],\n",
       "         [-0.3567,  0.8564],\n",
       "         [ 1.0180, -1.0287],\n",
       "         [-0.9935,  1.7610],\n",
       "         [ 0.0696,  0.2234],\n",
       "         [ 0.2868, -0.0663],\n",
       "         [ 0.5032, -0.3719],\n",
       "         [ 0.3093, -0.1194],\n",
       "         [ 0.2660, -0.0410],\n",
       "         [-0.8812,  1.6197],\n",
       "         [-0.9912,  1.7624],\n",
       "         [ 1.0766, -1.1170],\n",
       "         [ 0.6953, -0.6056],\n",
       "         [-0.7315,  1.4160],\n",
       "         [ 0.2244,  0.0132],\n",
       "         [ 1.1348, -1.2020],\n",
       "         [ 0.0075,  0.3226],\n",
       "         [-0.6082,  1.2394],\n",
       "         [-0.1344,  0.5107],\n",
       "         [ 0.6661, -0.5536],\n",
       "         [ 0.6013, -0.4703],\n",
       "         [-0.0216,  0.3661],\n",
       "         [ 1.0307, -1.0517],\n",
       "         [ 1.4218, -1.6203],\n",
       "         [-0.3553,  0.8504],\n",
       "         [-0.5660,  1.1812],\n",
       "         [-0.0118,  0.3200],\n",
       "         [-0.4880,  1.0431],\n",
       "         [ 0.8306, -0.7822],\n",
       "         [ 0.5203, -0.3675],\n",
       "         [ 0.4584, -0.2813],\n",
       "         [ 0.5205, -0.3749],\n",
       "         [ 0.5161, -0.3815],\n",
       "         [ 0.7211, -0.6411],\n",
       "         [-0.1393,  0.5257],\n",
       "         [ 0.3181, -0.1062],\n",
       "         [ 1.1020, -1.1533],\n",
       "         [ 0.1300,  0.1440],\n",
       "         [-0.5726,  1.1788],\n",
       "         [ 1.3320, -1.4901],\n",
       "         [ 0.3957, -0.2071],\n",
       "         [-0.3881,  0.8896],\n",
       "         [-0.8754,  1.6088],\n",
       "         [ 0.7582, -0.6812],\n",
       "         [-0.9783,  1.7386],\n",
       "         [ 0.8490, -0.8020],\n",
       "         [ 0.4243, -0.2430],\n",
       "         [-0.2990,  0.7726],\n",
       "         [-0.8894,  1.6250],\n",
       "         [-0.9179,  1.6606],\n",
       "         [ 0.6115, -0.4753],\n",
       "         [ 0.2356, -0.0029],\n",
       "         [ 0.3694, -0.1753],\n",
       "         [ 0.3081, -0.0889],\n",
       "         [ 0.6404, -0.5409],\n",
       "         [-0.6260,  1.2692],\n",
       "         [ 0.3536, -0.1721],\n",
       "         [-0.7988,  1.5142],\n",
       "         [ 0.6024, -0.4683],\n",
       "         [ 0.3795, -0.1957],\n",
       "         [ 0.0512,  0.2412],\n",
       "         [ 0.1492,  0.1078],\n",
       "         [ 0.6769, -0.5767],\n",
       "         [-0.0667,  0.4384],\n",
       "         [-0.1039,  0.4853],\n",
       "         [ 1.3920, -1.5789],\n",
       "         [-0.8203,  1.5439],\n",
       "         [ 0.8659, -0.8228],\n",
       "         [-0.9053,  1.6475],\n",
       "         [-0.9219,  1.6642],\n",
       "         [ 0.8710, -0.8230],\n",
       "         [ 0.0228,  0.2973],\n",
       "         [-0.0650,  0.3981],\n",
       "         [ 0.3682, -0.1764],\n",
       "         [ 1.3652, -1.5377],\n",
       "         [-0.2201,  0.6368],\n",
       "         [ 0.9247, -0.8975],\n",
       "         [ 0.1654,  0.0950],\n",
       "         [-0.1358,  0.5329],\n",
       "         [-0.9639,  1.7188],\n",
       "         [ 0.4664, -0.3146],\n",
       "         [ 0.8770, -0.8374],\n",
       "         [ 0.0138,  0.3006],\n",
       "         [-0.3235,  0.8033],\n",
       "         [ 1.0665, -1.1019],\n",
       "         [-0.8372,  1.5514],\n",
       "         [-0.9072,  1.6536],\n",
       "         [ 0.2184,  0.0155],\n",
       "         [-0.7496,  1.4448],\n",
       "         [-0.3773,  0.8766],\n",
       "         [ 0.1580,  0.1131],\n",
       "         [-0.8291,  1.5477],\n",
       "         [-0.9257,  1.6691],\n",
       "         [-0.2572,  0.7007],\n",
       "         [ 0.5212, -0.3621],\n",
       "         [ 0.7670, -0.6925],\n",
       "         [ 0.4578, -0.2828],\n",
       "         [ 1.2794, -1.4119],\n",
       "         [ 0.4844, -0.3351],\n",
       "         [ 1.0698, -1.1087],\n",
       "         [ 0.7304, -0.6474],\n",
       "         [-0.9037,  1.6388],\n",
       "         [ 0.5967, -0.4861],\n",
       "         [-0.3622,  0.8633],\n",
       "         [ 0.0072,  0.3131],\n",
       "         [ 0.5871, -0.4504],\n",
       "         [-0.1652,  0.5559],\n",
       "         [ 0.0174,  0.3170],\n",
       "         [-0.6717,  1.3199],\n",
       "         [-0.2541,  0.7042],\n",
       "         [-0.6779,  1.3474],\n",
       "         [ 0.7389, -0.6570],\n",
       "         [ 0.3055, -0.0968],\n",
       "         [ 0.2545, -0.0131],\n",
       "         [ 0.1920,  0.0566],\n",
       "         [-0.3051,  0.7744],\n",
       "         [-0.3578,  0.8551],\n",
       "         [-0.0817,  0.4373],\n",
       "         [ 0.7933, -0.7291],\n",
       "         [-0.7715,  1.4781],\n",
       "         [-0.9895,  1.7547],\n",
       "         [ 0.2706, -0.0554],\n",
       "         [ 1.3594, -1.5299],\n",
       "         [ 0.9365, -0.9190],\n",
       "         [ 0.2002,  0.0616],\n",
       "         [-0.0484,  0.4054],\n",
       "         [ 1.4923, -1.7127],\n",
       "         [ 1.1836, -1.2716],\n",
       "         [ 0.9744, -0.9685],\n",
       "         [-0.8264,  1.5461],\n",
       "         [-0.6346,  1.2815],\n",
       "         [-0.9095,  1.6464],\n",
       "         [ 1.1330, -1.1996],\n",
       "         [-0.2712,  0.7069],\n",
       "         [ 0.9849, -0.9809],\n",
       "         [ 0.2319,  0.0131],\n",
       "         [-0.7854,  1.4950],\n",
       "         [ 0.8133, -0.7556],\n",
       "         [-0.9625,  1.7204],\n",
       "         [ 1.0101, -1.0251],\n",
       "         [ 0.1946,  0.0615],\n",
       "         [ 0.0392,  0.2824],\n",
       "         [-0.6782,  1.3349],\n",
       "         [ 0.2921, -0.0974],\n",
       "         [ 0.4481, -0.2748],\n",
       "         [-0.1608,  0.5578],\n",
       "         [ 1.1100, -1.1698],\n",
       "         [-0.0779,  0.4242],\n",
       "         [ 0.3269, -0.1336],\n",
       "         [ 0.4950, -0.3285],\n",
       "         [ 1.4564, -1.6650],\n",
       "         [-0.8770,  1.6116],\n",
       "         [-0.7591,  1.4633],\n",
       "         [ 0.1608,  0.0943],\n",
       "         [ 0.4421, -0.2620],\n",
       "         [-0.3288,  0.8002],\n",
       "         [ 0.5027, -0.3613],\n",
       "         [-0.7109,  1.3868],\n",
       "         [ 0.2813, -0.0535],\n",
       "         [ 1.4023, -1.5940],\n",
       "         [ 0.3359, -0.1475],\n",
       "         [-0.8539,  1.5745],\n",
       "         [-0.8402,  1.5530],\n",
       "         [ 0.7742, -0.6883],\n",
       "         [ 0.6717, -0.5552],\n",
       "         [-0.6487,  1.2961],\n",
       "         [ 0.3741, -0.2115],\n",
       "         [ 0.8549, -0.8044],\n",
       "         [ 0.8890, -0.8535],\n",
       "         [-0.7797,  1.4672],\n",
       "         [ 0.4465, -0.2838],\n",
       "         [ 0.4592, -0.3082],\n",
       "         [ 1.2756, -1.4099],\n",
       "         [ 0.1304,  0.1350],\n",
       "         [ 0.2820, -0.0529],\n",
       "         [-0.2364,  0.6732],\n",
       "         [-0.0241,  0.3721],\n",
       "         [ 1.0936, -1.1390],\n",
       "         [ 0.6246, -0.5097],\n",
       "         [-0.8764,  1.6030],\n",
       "         [-0.3471,  0.8432],\n",
       "         [ 0.4264, -0.2614],\n",
       "         [ 0.8552, -0.8181],\n",
       "         [ 0.4984, -0.3493],\n",
       "         [-0.6823,  1.3527],\n",
       "         [-0.8948,  1.6304],\n",
       "         [ 1.4042, -1.5974],\n",
       "         [-0.8767,  1.6078],\n",
       "         [ 0.0961,  0.1931],\n",
       "         [ 0.7870, -0.7181],\n",
       "         [ 0.7747, -0.6899],\n",
       "         [-0.4014,  0.9235],\n",
       "         [ 0.8826, -0.8455],\n",
       "         [ 0.5526, -0.4075],\n",
       "         [-0.1293,  0.5018],\n",
       "         [ 0.1492,  0.1380],\n",
       "         [ 1.2394, -1.3541],\n",
       "         [-0.6477,  1.3042],\n",
       "         [ 0.1344,  0.1401],\n",
       "         [ 0.9790, -0.9785],\n",
       "         [ 0.6962, -0.5917],\n",
       "         [ 0.8675, -0.8196],\n",
       "         [ 0.3207, -0.1195],\n",
       "         [ 1.3169, -1.4687],\n",
       "         [ 0.3839, -0.2057],\n",
       "         [ 0.2722, -0.0626],\n",
       "         [ 0.6866, -0.5857],\n",
       "         [-0.8415,  1.5613],\n",
       "         [ 0.4445, -0.2718],\n",
       "         [ 0.5328, -0.3986],\n",
       "         [ 0.2599, -0.0573],\n",
       "         [ 0.7702, -0.7019],\n",
       "         [ 1.2233, -1.3331],\n",
       "         [ 0.1334,  0.1184],\n",
       "         [ 0.1701,  0.0904],\n",
       "         [-0.7210,  1.4044],\n",
       "         [ 0.4881, -0.3412],\n",
       "         [ 0.2434, -0.0063],\n",
       "         [ 0.0724,  0.2262],\n",
       "         [ 0.2864, -0.0666],\n",
       "         [-0.7072,  1.3890],\n",
       "         [-1.0076,  1.7774],\n",
       "         [ 0.4151, -0.2425],\n",
       "         [ 0.8139, -0.7567],\n",
       "         [ 0.1465,  0.1251],\n",
       "         [-0.6882,  1.3568],\n",
       "         [ 0.1454,  0.1219],\n",
       "         [ 0.1919,  0.0533],\n",
       "         [-0.6931,  1.3655],\n",
       "         [ 0.0268,  0.3050],\n",
       "         [ 0.1751,  0.0997],\n",
       "         [ 0.7503, -0.6741],\n",
       "         [-0.4778,  1.0402],\n",
       "         [ 0.1512,  0.1343],\n",
       "         [ 1.2224, -1.3313],\n",
       "         [ 0.4920, -0.3303],\n",
       "         [ 0.2122,  0.0324],\n",
       "         [-0.7922,  1.5041],\n",
       "         [-0.7485,  1.4433],\n",
       "         [-0.7505,  1.4413],\n",
       "         [-0.9397,  1.6892],\n",
       "         [ 1.1194, -1.1800],\n",
       "         [ 0.2351,  0.0135],\n",
       "         [ 0.6065, -0.4841],\n",
       "         [-0.3313,  0.8201],\n",
       "         [ 0.2620, -0.0344]], device='cuda:0', grad_fn=<MeanBackward1>)}"
      ]
     },
     "execution_count": 89,
     "metadata": {},
     "output_type": "execute_result"
    }
   ],
   "source": [
    "model.cuda()(torch.tensor(train_X[:256]).cuda())"
   ]
  },
  {
   "cell_type": "code",
   "execution_count": 90,
   "metadata": {},
   "outputs": [],
   "source": [
    "activations = {}\n",
    "\n",
    "def get_activation(name):\n",
    "    def hook(model, input, output):\n",
    "        activations[name] = output.detach()\n",
    "    return hook\n",
    "\n",
    "handle = model.get_submodule(\"attn.oE_proj\").register_forward_hook(get_activation(\"oE_proj\"))"
   ]
  },
  {
   "cell_type": "code",
   "execution_count": 91,
   "metadata": {},
   "outputs": [
    {
     "data": {
      "text/plain": [
       "{'pred': tensor([[ 0.2512, -0.0253],\n",
       "         [-0.4203,  0.9439],\n",
       "         [ 0.0696,  0.2283],\n",
       "         [ 0.4746, -0.3041],\n",
       "         [ 0.8893, -0.8632],\n",
       "         [ 0.7030, -0.6088],\n",
       "         [ 0.8161, -0.7506],\n",
       "         [ 1.2206, -1.3292],\n",
       "         [ 0.3068, -0.0989],\n",
       "         [ 1.1070, -1.1566],\n",
       "         [ 0.4825, -0.3156],\n",
       "         [-0.3567,  0.8564],\n",
       "         [ 1.0180, -1.0287],\n",
       "         [-0.9935,  1.7610],\n",
       "         [ 0.0696,  0.2234],\n",
       "         [ 0.2868, -0.0663],\n",
       "         [ 0.5032, -0.3719],\n",
       "         [ 0.3093, -0.1194],\n",
       "         [ 0.2660, -0.0410],\n",
       "         [-0.8812,  1.6197],\n",
       "         [-0.9912,  1.7624],\n",
       "         [ 1.0766, -1.1170],\n",
       "         [ 0.6953, -0.6056],\n",
       "         [-0.7315,  1.4160],\n",
       "         [ 0.2244,  0.0132],\n",
       "         [ 1.1348, -1.2020],\n",
       "         [ 0.0075,  0.3226],\n",
       "         [-0.6082,  1.2394],\n",
       "         [-0.1344,  0.5107],\n",
       "         [ 0.6661, -0.5536],\n",
       "         [ 0.6013, -0.4703],\n",
       "         [-0.0216,  0.3661],\n",
       "         [ 1.0307, -1.0517],\n",
       "         [ 1.4218, -1.6203],\n",
       "         [-0.3553,  0.8504],\n",
       "         [-0.5660,  1.1812],\n",
       "         [-0.0118,  0.3200],\n",
       "         [-0.4880,  1.0431],\n",
       "         [ 0.8306, -0.7822],\n",
       "         [ 0.5203, -0.3675],\n",
       "         [ 0.4584, -0.2813],\n",
       "         [ 0.5205, -0.3749],\n",
       "         [ 0.5161, -0.3815],\n",
       "         [ 0.7211, -0.6411],\n",
       "         [-0.1393,  0.5257],\n",
       "         [ 0.3181, -0.1062],\n",
       "         [ 1.1020, -1.1533],\n",
       "         [ 0.1300,  0.1440],\n",
       "         [-0.5726,  1.1788],\n",
       "         [ 1.3320, -1.4901],\n",
       "         [ 0.3957, -0.2071],\n",
       "         [-0.3881,  0.8896],\n",
       "         [-0.8754,  1.6088],\n",
       "         [ 0.7582, -0.6812],\n",
       "         [-0.9783,  1.7386],\n",
       "         [ 0.8490, -0.8020],\n",
       "         [ 0.4243, -0.2430],\n",
       "         [-0.2990,  0.7726],\n",
       "         [-0.8894,  1.6250],\n",
       "         [-0.9179,  1.6606],\n",
       "         [ 0.6115, -0.4753],\n",
       "         [ 0.2356, -0.0029],\n",
       "         [ 0.3694, -0.1753],\n",
       "         [ 0.3081, -0.0889],\n",
       "         [ 0.6404, -0.5409],\n",
       "         [-0.6260,  1.2692],\n",
       "         [ 0.3536, -0.1721],\n",
       "         [-0.7988,  1.5142],\n",
       "         [ 0.6024, -0.4683],\n",
       "         [ 0.3795, -0.1957],\n",
       "         [ 0.0512,  0.2412],\n",
       "         [ 0.1492,  0.1078],\n",
       "         [ 0.6769, -0.5767],\n",
       "         [-0.0667,  0.4384],\n",
       "         [-0.1039,  0.4853],\n",
       "         [ 1.3920, -1.5789],\n",
       "         [-0.8203,  1.5439],\n",
       "         [ 0.8659, -0.8228],\n",
       "         [-0.9053,  1.6475],\n",
       "         [-0.9219,  1.6642],\n",
       "         [ 0.8710, -0.8230],\n",
       "         [ 0.0228,  0.2973],\n",
       "         [-0.0650,  0.3981],\n",
       "         [ 0.3682, -0.1764],\n",
       "         [ 1.3652, -1.5377],\n",
       "         [-0.2201,  0.6368],\n",
       "         [ 0.9247, -0.8975],\n",
       "         [ 0.1654,  0.0950],\n",
       "         [-0.1358,  0.5329],\n",
       "         [-0.9639,  1.7188],\n",
       "         [ 0.4664, -0.3146],\n",
       "         [ 0.8770, -0.8374],\n",
       "         [ 0.0138,  0.3006],\n",
       "         [-0.3235,  0.8033],\n",
       "         [ 1.0665, -1.1019],\n",
       "         [-0.8372,  1.5514],\n",
       "         [-0.9072,  1.6536],\n",
       "         [ 0.2184,  0.0155],\n",
       "         [-0.7496,  1.4448],\n",
       "         [-0.3773,  0.8766],\n",
       "         [ 0.1580,  0.1131],\n",
       "         [-0.8291,  1.5477],\n",
       "         [-0.9257,  1.6691],\n",
       "         [-0.2572,  0.7007],\n",
       "         [ 0.5212, -0.3621],\n",
       "         [ 0.7670, -0.6925],\n",
       "         [ 0.4578, -0.2828],\n",
       "         [ 1.2794, -1.4119],\n",
       "         [ 0.4844, -0.3351],\n",
       "         [ 1.0698, -1.1087],\n",
       "         [ 0.7304, -0.6474],\n",
       "         [-0.9037,  1.6388],\n",
       "         [ 0.5967, -0.4861],\n",
       "         [-0.3622,  0.8633],\n",
       "         [ 0.0072,  0.3131],\n",
       "         [ 0.5871, -0.4504],\n",
       "         [-0.1652,  0.5559],\n",
       "         [ 0.0174,  0.3170],\n",
       "         [-0.6717,  1.3199],\n",
       "         [-0.2541,  0.7042],\n",
       "         [-0.6779,  1.3474],\n",
       "         [ 0.7389, -0.6570],\n",
       "         [ 0.3055, -0.0968],\n",
       "         [ 0.2545, -0.0131],\n",
       "         [ 0.1920,  0.0566],\n",
       "         [-0.3051,  0.7744],\n",
       "         [-0.3578,  0.8551],\n",
       "         [-0.0817,  0.4373],\n",
       "         [ 0.7933, -0.7291],\n",
       "         [-0.7715,  1.4781],\n",
       "         [-0.9895,  1.7547],\n",
       "         [ 0.2706, -0.0554],\n",
       "         [ 1.3594, -1.5299],\n",
       "         [ 0.9365, -0.9190],\n",
       "         [ 0.2002,  0.0616],\n",
       "         [-0.0484,  0.4054],\n",
       "         [ 1.4923, -1.7127],\n",
       "         [ 1.1836, -1.2716],\n",
       "         [ 0.9744, -0.9685],\n",
       "         [-0.8264,  1.5461],\n",
       "         [-0.6346,  1.2815],\n",
       "         [-0.9095,  1.6464],\n",
       "         [ 1.1330, -1.1996],\n",
       "         [-0.2712,  0.7069],\n",
       "         [ 0.9849, -0.9809],\n",
       "         [ 0.2319,  0.0131],\n",
       "         [-0.7854,  1.4950],\n",
       "         [ 0.8133, -0.7556],\n",
       "         [-0.9625,  1.7204],\n",
       "         [ 1.0101, -1.0251],\n",
       "         [ 0.1946,  0.0615],\n",
       "         [ 0.0392,  0.2824],\n",
       "         [-0.6782,  1.3349],\n",
       "         [ 0.2921, -0.0974],\n",
       "         [ 0.4481, -0.2748],\n",
       "         [-0.1608,  0.5578],\n",
       "         [ 1.1100, -1.1698],\n",
       "         [-0.0779,  0.4242],\n",
       "         [ 0.3269, -0.1336],\n",
       "         [ 0.4950, -0.3285],\n",
       "         [ 1.4564, -1.6650],\n",
       "         [-0.8770,  1.6116],\n",
       "         [-0.7591,  1.4633],\n",
       "         [ 0.1608,  0.0943],\n",
       "         [ 0.4421, -0.2620],\n",
       "         [-0.3288,  0.8002],\n",
       "         [ 0.5027, -0.3613],\n",
       "         [-0.7109,  1.3868],\n",
       "         [ 0.2813, -0.0535],\n",
       "         [ 1.4023, -1.5940],\n",
       "         [ 0.3359, -0.1475],\n",
       "         [-0.8539,  1.5745],\n",
       "         [-0.8402,  1.5530],\n",
       "         [ 0.7742, -0.6883],\n",
       "         [ 0.6717, -0.5552],\n",
       "         [-0.6487,  1.2961],\n",
       "         [ 0.3741, -0.2115],\n",
       "         [ 0.8549, -0.8044],\n",
       "         [ 0.8890, -0.8535],\n",
       "         [-0.7797,  1.4672],\n",
       "         [ 0.4465, -0.2838],\n",
       "         [ 0.4592, -0.3082],\n",
       "         [ 1.2756, -1.4099],\n",
       "         [ 0.1304,  0.1350],\n",
       "         [ 0.2820, -0.0529],\n",
       "         [-0.2364,  0.6732],\n",
       "         [-0.0241,  0.3721],\n",
       "         [ 1.0936, -1.1390],\n",
       "         [ 0.6246, -0.5097],\n",
       "         [-0.8764,  1.6030],\n",
       "         [-0.3471,  0.8432],\n",
       "         [ 0.4264, -0.2614],\n",
       "         [ 0.8552, -0.8181],\n",
       "         [ 0.4984, -0.3493],\n",
       "         [-0.6823,  1.3527],\n",
       "         [-0.8948,  1.6304],\n",
       "         [ 1.4042, -1.5974],\n",
       "         [-0.8767,  1.6078],\n",
       "         [ 0.0961,  0.1931],\n",
       "         [ 0.7870, -0.7181],\n",
       "         [ 0.7747, -0.6899],\n",
       "         [-0.4014,  0.9235],\n",
       "         [ 0.8826, -0.8455],\n",
       "         [ 0.5526, -0.4075],\n",
       "         [-0.1293,  0.5018],\n",
       "         [ 0.1492,  0.1380],\n",
       "         [ 1.2394, -1.3541],\n",
       "         [-0.6477,  1.3042],\n",
       "         [ 0.1344,  0.1401],\n",
       "         [ 0.9790, -0.9785],\n",
       "         [ 0.6962, -0.5917],\n",
       "         [ 0.8675, -0.8196],\n",
       "         [ 0.3207, -0.1195],\n",
       "         [ 1.3169, -1.4687],\n",
       "         [ 0.3839, -0.2057],\n",
       "         [ 0.2722, -0.0626],\n",
       "         [ 0.6866, -0.5857],\n",
       "         [-0.8415,  1.5613],\n",
       "         [ 0.4445, -0.2718],\n",
       "         [ 0.5328, -0.3986],\n",
       "         [ 0.2599, -0.0573],\n",
       "         [ 0.7702, -0.7019],\n",
       "         [ 1.2233, -1.3331],\n",
       "         [ 0.1334,  0.1184],\n",
       "         [ 0.1701,  0.0904],\n",
       "         [-0.7210,  1.4044],\n",
       "         [ 0.4881, -0.3412],\n",
       "         [ 0.2434, -0.0063],\n",
       "         [ 0.0724,  0.2262],\n",
       "         [ 0.2864, -0.0666],\n",
       "         [-0.7072,  1.3890],\n",
       "         [-1.0076,  1.7774],\n",
       "         [ 0.4151, -0.2425],\n",
       "         [ 0.8139, -0.7567],\n",
       "         [ 0.1465,  0.1251],\n",
       "         [-0.6882,  1.3568],\n",
       "         [ 0.1454,  0.1219],\n",
       "         [ 0.1919,  0.0533],\n",
       "         [-0.6931,  1.3655],\n",
       "         [ 0.0268,  0.3050],\n",
       "         [ 0.1751,  0.0997],\n",
       "         [ 0.7503, -0.6741],\n",
       "         [-0.4778,  1.0402],\n",
       "         [ 0.1512,  0.1343],\n",
       "         [ 1.2224, -1.3313],\n",
       "         [ 0.4920, -0.3303],\n",
       "         [ 0.2122,  0.0324],\n",
       "         [-0.7922,  1.5041],\n",
       "         [-0.7485,  1.4433],\n",
       "         [-0.7505,  1.4413],\n",
       "         [-0.9397,  1.6892],\n",
       "         [ 1.1194, -1.1800],\n",
       "         [ 0.2351,  0.0135],\n",
       "         [ 0.6065, -0.4841],\n",
       "         [-0.3313,  0.8201],\n",
       "         [ 0.2620, -0.0344]], device='cuda:0', grad_fn=<MeanBackward1>)}"
      ]
     },
     "execution_count": 91,
     "metadata": {},
     "output_type": "execute_result"
    }
   ],
   "source": [
    "model.cuda()(torch.tensor(train_X[:256]).cuda())"
   ]
  },
  {
   "cell_type": "code",
   "execution_count": 92,
   "metadata": {},
   "outputs": [
    {
     "name": "stdout",
     "output_type": "stream",
     "text": [
      "torch.Size([28672, 4, 16])\n"
     ]
    }
   ],
   "source": [
    "oE_proj_output = activations[\"oE_proj\"]\n",
    "print(oE_proj_output.shape)"
   ]
  },
  {
   "cell_type": "code",
   "execution_count": 93,
   "metadata": {},
   "outputs": [],
   "source": [
    "oE_proj_output = oE_proj_output.reshape(256, -1, 4, 16)"
   ]
  },
  {
   "cell_type": "code",
   "execution_count": 94,
   "metadata": {},
   "outputs": [
    {
     "data": {
      "text/plain": [
       "torch.Size([256, 112, 4, 16])"
      ]
     },
     "execution_count": 94,
     "metadata": {},
     "output_type": "execute_result"
    }
   ],
   "source": [
    "oE_proj_output.shape"
   ]
  },
  {
   "cell_type": "code",
   "execution_count": 95,
   "metadata": {},
   "outputs": [],
   "source": [
    "x = oE_proj_output[0].view(112, -1)"
   ]
  },
  {
   "cell_type": "code",
   "execution_count": 96,
   "metadata": {},
   "outputs": [
    {
     "data": {
      "text/plain": [
       "tensor([[1.0000, 0.9864, 0.9966,  ..., 0.8331, 0.9967, 0.9446],\n",
       "        [0.9864, 1.0000, 0.9699,  ..., 0.7317, 0.9705, 0.8786],\n",
       "        [0.9966, 0.9699, 1.0000,  ..., 0.8756, 1.0000, 0.9684],\n",
       "        ...,\n",
       "        [0.8331, 0.7317, 0.8756,  ..., 1.0000, 0.8742, 0.9683],\n",
       "        [0.9967, 0.9705, 1.0000,  ..., 0.8742, 1.0000, 0.9677],\n",
       "        [0.9446, 0.8786, 0.9684,  ..., 0.9683, 0.9677, 1.0000]],\n",
       "       device='cuda:0')"
      ]
     },
     "execution_count": 96,
     "metadata": {},
     "output_type": "execute_result"
    }
   ],
   "source": [
    "x_ = x / ((x ** 2).sum(dim=1) ** 0.5)[:, None]\n",
    "sim = x_ @ x_.T\n",
    "sim"
   ]
  },
  {
   "cell_type": "code",
   "execution_count": 97,
   "metadata": {},
   "outputs": [
    {
     "data": {
      "text/plain": [
       "tensor([1.0000, 0.9864, 0.9966, 0.9950, 0.9987, 0.9916, 0.8117, 0.9820, 0.8812,\n",
       "        0.9980, 0.8736, 0.9975, 0.9953, 0.7756, 0.8760, 0.9834, 0.8134, 0.9957,\n",
       "        0.9969, 0.9995, 0.9883, 0.9851, 0.9917, 0.9916, 0.9787, 0.8838, 0.9921,\n",
       "        0.9646, 0.9666, 0.9698, 0.9916, 0.9912, 0.9725, 0.8803, 0.8372, 0.9318,\n",
       "        0.9742, 0.8234, 0.9980, 0.9429, 0.9838, 0.9895, 0.8261, 0.9684, 0.9800,\n",
       "        0.7999, 0.8236, 0.7952, 0.7878, 0.9967, 0.9602, 0.9996, 0.9560, 0.8429,\n",
       "        0.9823, 0.9934, 0.9196, 0.9720, 0.8384, 0.9974, 0.9914, 0.9196, 0.9915,\n",
       "        0.9987, 0.9260, 0.9399, 0.9613, 0.9955, 0.9972, 0.9868, 0.8621, 0.9961,\n",
       "        0.9988, 0.9552, 0.9926, 0.9950, 0.9754, 0.8788, 0.9974, 0.8764, 0.9973,\n",
       "        0.8756, 0.7560, 0.9939, 0.9600, 0.9306, 0.9128, 0.9945, 0.9986, 0.9579,\n",
       "        0.8050, 0.8734, 0.8130, 0.9218, 0.9924, 0.9981, 0.9805, 0.8486, 0.9330,\n",
       "        0.9673, 0.8925, 0.9559, 0.9933, 0.9302, 0.8561, 0.8310, 0.8679, 0.9961,\n",
       "        0.9639, 0.8331, 0.9967, 0.9446], device='cuda:0')"
      ]
     },
     "execution_count": 97,
     "metadata": {},
     "output_type": "execute_result"
    }
   ],
   "source": [
    "sim[0]"
   ]
  },
  {
   "cell_type": "code",
   "execution_count": null,
   "metadata": {},
   "outputs": [],
   "source": []
  },
  {
   "cell_type": "code",
   "execution_count": null,
   "metadata": {},
   "outputs": [],
   "source": []
  }
 ],
 "metadata": {
  "kernelspec": {
   "display_name": "dftt",
   "language": "python",
   "name": "python3"
  },
  "language_info": {
   "codemirror_mode": {
    "name": "ipython",
    "version": 3
   },
   "file_extension": ".py",
   "mimetype": "text/x-python",
   "name": "python",
   "nbconvert_exporter": "python",
   "pygments_lexer": "ipython3",
   "version": "3.10.14"
  }
 },
 "nbformat": 4,
 "nbformat_minor": 2
}
