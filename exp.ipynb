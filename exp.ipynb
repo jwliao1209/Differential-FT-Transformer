{
 "cells": [
  {
   "cell_type": "code",
   "execution_count": 1,
   "metadata": {},
   "outputs": [],
   "source": [
    "from pathlib import Path\n",
    "\n",
    "from src.metric import cls_eval_funs, reg_eval_funs\n",
    "from src.trainer import Trainer\n",
    "from src.utils import load_pkl_data, set_random_seed"
   ]
  },
  {
   "cell_type": "code",
   "execution_count": 13,
   "metadata": {},
   "outputs": [],
   "source": [
    "class Config:\n",
    "    data_dir = '/home/jiawei/Desktop/github/DOFEN/tabular-benchmark/tabular_benchmark_data'\n",
    "    data_id = '361060'\n",
    "    n_epoch = 250\n",
    "    batch_size = 256\n",
    "    target_transform = False"
   ]
  },
  {
   "cell_type": "code",
   "execution_count": 73,
   "metadata": {},
   "outputs": [],
   "source": [
    "from typing import Dict, List, Optional\n",
    "\n",
    "import numpy as np\n",
    "import torch\n",
    "from torch import nn\n",
    "import torch.nn.functional as F\n",
    "\n",
    "from src.models.base import BaseClassifier, BaseRegressor\n",
    "from src.models.layers import ResidualLayer, ReGLU\n",
    "\n",
    "\n",
    "class Reshape(nn.Module):\n",
    "    def __init__(self, *args: int) -> None:\n",
    "        super(Reshape, self).__init__()\n",
    "        self.shape = args\n",
    "\n",
    "    def forward(self, x: torch.Tensor) -> torch.Tensor:\n",
    "        return x.reshape(self.shape)\n",
    "\n",
    "\n",
    "class FastGroupConv1d(nn.Conv1d):\n",
    "    def __init__(self, *args, **kwargs):\n",
    "        self.fast_mode = kwargs.pop('fast_mode')\n",
    "        nn.Conv1d.__init__(self, *args, **kwargs)\n",
    "        if self.groups > self.fast_mode:\n",
    "            self.weight = nn.Parameter(\n",
    "                self.weight.reshape(\n",
    "                    self.groups, self.out_channels // self.groups, self.in_channels // self.groups, 1\n",
    "                ).permute(3, 0, 2, 1)\n",
    "            )\n",
    "            self.bias = nn.Parameter(\n",
    "                self.bias.unsqueeze(0).unsqueeze(-1)\n",
    "            )\n",
    "\n",
    "    def forward(self, x: torch.Tensor) -> torch.Tensor:\n",
    "        if self.groups > self.fast_mode:\n",
    "            x = x.reshape(-1, self.groups, self.in_channels // self.groups, 1)\n",
    "            return (x * self.weight).sum(2, keepdims=True).permute(0, 1, 3, 2).reshape(-1, self.out_channels, 1) + self.bias\n",
    "        else:\n",
    "            return self._conv_forward(x, self.weight, self.bias)\n",
    "\n",
    "\n",
    "class ConditionGeneration(nn.Module):\n",
    "    def __init__(\n",
    "        self,\n",
    "        category_column_count: List[int],\n",
    "        n_cond: int = 128,\n",
    "        categorical_optimized: bool = False,\n",
    "        fast_mode: int = 64,\n",
    "    ):\n",
    "        super(ConditionGeneration, self).__init__()\n",
    "        self.fast_mode = fast_mode\n",
    "        self.categorical_optimized = categorical_optimized\n",
    "\n",
    "        index_info = self.extract_feature_metadata(category_column_count)\n",
    "        self.numerical_index = index_info['numerical_index']\n",
    "        self.categorical_index = index_info['categorical_index']\n",
    "        self.categorical_count = index_info['categorical_count']\n",
    "\n",
    "        categorical_offset = torch.tensor([0] + np.cumsum(self.categorical_count).tolist()[:-1]).long()\n",
    "        self.register_buffer('categorical_offset', categorical_offset)\n",
    "\n",
    "        self.n_cond = n_cond\n",
    "        self.phi_1 = self.get_phi_1()\n",
    "\n",
    "    def extract_feature_metadata(self, category_column_count: List[int]) -> Dict[str, List[int]]:\n",
    "        numerical_index = [i for i, count in enumerate(category_column_count) if count == -1]\n",
    "        categorical_index = [i for i, count in enumerate(category_column_count) if count != -1]\n",
    "        categorical_count = [count for count in category_column_count if count != -1]\n",
    "        return {\n",
    "            'numerical_index': numerical_index,\n",
    "            'categorical_index': categorical_index,\n",
    "            'categorical_count': categorical_count,\n",
    "        }\n",
    "\n",
    "    def get_phi_1(self) -> nn.ModuleDict:\n",
    "        phi_1 = nn.ModuleDict()\n",
    "        if len(self.numerical_index):\n",
    "            phi_1['num'] = nn.Sequential(\n",
    "                # input = (b, n_num_col)\n",
    "                # output = (b, n_num_col, n_cond)\n",
    "                Reshape(-1, len(self.numerical_index), 1),\n",
    "                FastGroupConv1d(\n",
    "                    len(self.numerical_index),\n",
    "                    len(self.numerical_index) * self.n_cond,\n",
    "                    kernel_size=1,\n",
    "                    groups=len(self.numerical_index),\n",
    "                    fast_mode=self.fast_mode\n",
    "                ), # (b, n_num_col, 1) -> (b, n_num_col * n_cond, 1)\n",
    "                nn.Sigmoid(),\n",
    "                Reshape(-1, len(self.numerical_index), self.n_cond)\n",
    "            )\n",
    "        if len(self.categorical_index):\n",
    "            phi_1['cat'] = nn.ModuleDict()\n",
    "            phi_1['cat']['embedder'] = nn.Embedding(sum(self.categorical_count), self.n_cond)            \n",
    "            phi_1['cat']['mapper'] = nn.Sequential(\n",
    "                # input = (b, n_cat_col, n_cond)\n",
    "                # output = (b, n_cat_col, n_cond)\n",
    "                Reshape(-1, len(self.categorical_index) * self.n_cond, 1),\n",
    "                nn.GroupNorm(len(self.categorical_index), len(self.categorical_index) * self.n_cond),\n",
    "                FastGroupConv1d(len(self.categorical_index) * self.n_cond, len(self.categorical_index)*self.n_cond, kernel_size=1, groups=len(self.categorical_index)*self.n_cond if self.categorical_optimized else len(self.categorical_index), fast_mode=self.fast_mode),                \n",
    "                nn.Sigmoid(),\n",
    "                Reshape(-1, len(self.categorical_index), self.n_cond)\n",
    "            )\n",
    "        return phi_1\n",
    "\n",
    "    def forward(self, x: torch.Tensor) -> torch.Tensor:\n",
    "        M = []\n",
    "\n",
    "        if len(self.numerical_index):\n",
    "            num_x = x[:, self.numerical_index].float()\n",
    "            num_sample_emb = self.phi_1['num'](num_x)\n",
    "            M.append(num_sample_emb)\n",
    "\n",
    "        if len(self.categorical_index):\n",
    "            cat_x = x[:, self.categorical_index].long() + self.cat_offset\n",
    "            cat_sample_emb = self.phi_1['cat']['mapper'](self.phi_1['cat']['embedder'](cat_x))\n",
    "            M.append(cat_sample_emb)\n",
    "\n",
    "        M = torch.cat(M, dim=1) # (b, n_col, n_cond)\n",
    "        M = M.permute(0, 2, 1) # (b, n_cond, n_col)\n",
    "        return M\n",
    "\n",
    "\n",
    "class rODTConstruction(nn.Module):\n",
    "    def __init__(self, n_cond: int, n_col: int, d: int) -> None:\n",
    "        super().__init__()\n",
    "        self.permutator = torch.rand(n_cond * n_col).argsort(-1)\n",
    "        self.d = d\n",
    "\n",
    "    def forward(self, M: torch.Tensor) -> torch.Tensor:\n",
    "        b, _, _, embed_dim = M.shape\n",
    "        return M.reshape(b, -1, embed_dim)[:, self.permutator, :].reshape(b, -1, self.d, embed_dim)\n",
    "\n",
    "\n",
    "class rODTForestConstruction(nn.Module):\n",
    "    def __init__(\n",
    "        self,\n",
    "        n_col: int,\n",
    "        n_rodt: int,\n",
    "        n_cond: int,\n",
    "        n_estimator: int,\n",
    "        n_head: int = 1,\n",
    "        n_hidden: int = 128,\n",
    "        n_forest: int = 100,\n",
    "        dropout: float = 0.0,\n",
    "        fast_mode: int = 64,\n",
    "        device = torch.device('cuda')\n",
    "    ) -> None:\n",
    "\n",
    "        super().__init__()\n",
    "        self.device = device\n",
    "        self.n_estimator = n_estimator\n",
    "        self.n_forest = n_forest\n",
    "        self.n_rodt = n_rodt\n",
    "        self.n_head = n_head\n",
    "        self.n_hidden = n_hidden\n",
    "\n",
    "        self.sample_without_replacement_eval = self.get_sample_without_replacement()\n",
    "\n",
    "    def get_sample_without_replacement(self) -> torch.Tensor:\n",
    "        return torch.rand(self.n_forest, self.n_rodt, device=self.device).argsort(-1)[:, :self.n_estimator]\n",
    "\n",
    "    def forward(self, w, E) -> torch.Tensor:\n",
    "        # w: (b, n_rodt, 1)\n",
    "        # E: (b, n_rodt, n_hidden)\n",
    "    \n",
    "        sample_without_replacement = self.get_sample_without_replacement() if self.training else self.sample_without_replacement_eval\n",
    "\n",
    "        w_prime = w[:, sample_without_replacement].softmax(-2) # (b, n_forest, n_rodt, 1)\n",
    "        E_prime = E[:, sample_without_replacement].reshape(\n",
    "            E.shape[0], self.n_forest, self.n_estimator, self.n_hidden\n",
    "        ) # (b, n_forest, n_rodt, n_hidden)\n",
    "\n",
    "        F = (w_prime * E_prime).sum(-2).reshape(\n",
    "            E.shape[0], self.n_forest, self.n_hidden\n",
    "        ) # (b, n_forest, n_hidden)\n",
    "        return F\n",
    "\n",
    "\n",
    "class rODTForestBagging(nn.Module):\n",
    "    def __init__(self, n_hidden: int, dropout: float, n_class: int) -> None:\n",
    "        super().__init__()\n",
    "        self.phi_3 = nn.Sequential(\n",
    "            nn.LayerNorm(n_hidden),\n",
    "            nn.Dropout(dropout),\n",
    "            nn.Linear(n_hidden, n_hidden),\n",
    "            nn.ReLU(),\n",
    "            nn.LayerNorm(n_hidden),\n",
    "            nn.Dropout(dropout),\n",
    "            nn.Linear(n_hidden, n_class)\n",
    "        )\n",
    "\n",
    "    def forward(self, F: torch.Tensor) -> torch.Tensor:\n",
    "        return self.phi_3(F) # (b, n_forest, n_class)\n",
    "\n",
    "\n",
    "class MultiheadAttention(nn.Module):\n",
    "    def __init__(self, embed_dim: int, num_heads: int, dropout: float = 0.):\n",
    "        super().__init__()\n",
    "        self.embed_dim = embed_dim\n",
    "        self.num_heads = num_heads\n",
    "        self.head_dim = embed_dim // num_heads\n",
    "        self.scaling = self.head_dim ** -0.5\n",
    "        assert self.head_dim * num_heads == embed_dim, \"embed_dim must be divisible by num_heads\"\n",
    "\n",
    "        self.qw_proj = self.create_linear(embed_dim, embed_dim)\n",
    "        self.kw_proj = self.create_linear(embed_dim, embed_dim)\n",
    "        self.vw_proj = self.create_linear(embed_dim, embed_dim)\n",
    "        self.ow_proj = self.create_linear(embed_dim, 1)\n",
    "\n",
    "        self.qE_proj = self.create_linear(embed_dim, embed_dim)\n",
    "        self.kE_proj = self.create_linear(embed_dim, embed_dim)\n",
    "        self.vE_proj = self.create_linear(embed_dim, embed_dim)\n",
    "        self.oE_proj = self.create_linear(embed_dim, embed_dim)\n",
    "\n",
    "        self.dropout = nn.Dropout(dropout)\n",
    "\n",
    "    def create_linear(self, in_features: int, out_features: int):\n",
    "        linear = nn.Linear(in_features, out_features)\n",
    "        nn.init.xavier_uniform_(linear.weight, gain=1 / 2 ** 0.5)\n",
    "        return linear\n",
    "\n",
    "    def forward(self, query: torch.Tensor, key: torch.Tensor, value: torch.Tensor) -> torch.Tensor:\n",
    "        \"\"\"\n",
    "        query: Tensor of shape (batch_size, tgt_len, embed_dim)\n",
    "        key: Tensor of shape (batch_size, src_len, embed_dim)\n",
    "        value: Tensor of shape (batch_size, src_len, embed_dim)\n",
    "        attn_mask: Optional[Tensor] of shape (tgt_len, src_len) or (batch_size, tgt_len, src_len)\n",
    "        \"\"\"\n",
    "        batch_size, tgt_len, _ = query.size()\n",
    "        src_len = key.size(1)\n",
    "\n",
    "        # Compute w\n",
    "        qw = self.qw_proj(query)  # shape: (batch_size, tgt_len, embed_dim)\n",
    "        kw = self.kw_proj(key)    # shape: (batch_size, src_len, embed_dim)\n",
    "        vw = self.vw_proj(value)  # shape: (batch_size, src_len, 1)\n",
    "\n",
    "        # Reshape into multihead format\n",
    "        qw = qw.view(batch_size, tgt_len, self.num_heads, self.head_dim).transpose(1, 2) # shape: (batch_size, num_heads, tgt_len, head_dim)\n",
    "        kw = kw.view(batch_size, src_len, self.num_heads, self.head_dim).transpose(1, 2) # shape: (batch_size, num_heads, src_len, head_dim)\n",
    "        vw = vw.view(batch_size, src_len, self.num_heads, self.head_dim).transpose(1, 2) # shape: (batch_size, num_heads, src_len, 1)\n",
    "\n",
    "        attn_w = F.softmax(torch.matmul(qw, kw.transpose(-2, -1)) / self.scaling, dim=-1) # shape: (batch_size, num_heads, tgt_len, src_len)\n",
    "        attn_w = self.dropout(attn_w) \n",
    "        attn_w_output = torch.matmul(attn_w, vw) # shape: (batch_size, num_heads, tgt_len, head_dim)\n",
    "\n",
    "        # Reshape back to original dimensions\n",
    "        attn_w_output = attn_w_output.transpose(1, 2).contiguous().view(batch_size, tgt_len, self.embed_dim) # shape: (batch_size, tgt_len, embed_dim)\n",
    "        w_output = self.ow_proj(attn_w_output) # shape: (batch_size, tgt_len, 1)\n",
    "        w_output = w_output.mean(1)\n",
    "\n",
    "        # Compute w\n",
    "        qE = self.qE_proj(query)  # shape: (batch_size, tgt_len, embed_dim)\n",
    "        kE = self.kE_proj(key)    # shape: (batch_size, src_len, embed_dim)\n",
    "        vE = self.vE_proj(value)  # shape: (batch_size, src_len, embed_dim)\n",
    "\n",
    "        # Reshape into multihead format\n",
    "        qE = qE.view(batch_size, tgt_len, self.num_heads, self.head_dim).transpose(1, 2) # shape: (batch_size, num_heads, tgt_len, head_dim)\n",
    "        kE = kE.view(batch_size, src_len, self.num_heads, self.head_dim).transpose(1, 2) # shape: (batch_size, num_heads, src_len, head_dim)\n",
    "        vE = vE.view(batch_size, src_len, self.num_heads, self.head_dim).transpose(1, 2) # shape: (batch_size, num_heads, src_len, 1)\n",
    "\n",
    "        attn_E = F.softmax(torch.matmul(qE, kE.transpose(-2, -1)) / self.scaling, dim=-1) # shape: (batch_size, num_heads, tgt_len, src_len)\n",
    "        attn_E = self.dropout(attn_E) \n",
    "        attn_E_output = torch.matmul(attn_E, vE) # shape: (batch_size, num_heads, tgt_len, head_dim)\n",
    "\n",
    "        # Reshape back to original dimensions\n",
    "        attn_E_output = attn_E_output.transpose(1, 2).contiguous().view(batch_size, tgt_len, self.embed_dim) # shape: (batch_size, tgt_len, embed_dim)\n",
    "        E_output = self.oE_proj(attn_E_output) # shape: (batch_size, tgt_len, embed_dim)\n",
    "        E_output = E_output.mean(1)\n",
    "\n",
    "        return w_output, E_output\n",
    "\n",
    "\n",
    "class DOFEN(nn.Module):\n",
    "    def __init__(\n",
    "        self,\n",
    "        category_column_count: List[int],\n",
    "        n_class: int, \n",
    "        m: int = 16, \n",
    "        d: int = 4, \n",
    "        n_head: int = 1,\n",
    "        n_forest: int = 100,\n",
    "        n_hidden: int = 128,\n",
    "        dropout: float = 0.0, \n",
    "        categorical_optimized: bool = False,\n",
    "        fast_mode: int = 2048,\n",
    "        use_bagging_loss: bool = False,\n",
    "        device=torch.device('cuda'),\n",
    "    ):\n",
    "        super().__init__()\n",
    "\n",
    "        self.device = device\n",
    "        self.n_class = 1 if n_class == -1 else n_class\n",
    "        self.is_rgr = True if n_class == -1 else False\n",
    "\n",
    "        self.m = m\n",
    "        self.d = d\n",
    "        self.n_head = n_head\n",
    "        self.n_forest = n_forest\n",
    "        self.n_hidden = n_hidden\n",
    "        self.dropout = dropout\n",
    "        self.use_bagging_loss = use_bagging_loss\n",
    "\n",
    "        self.n_cond = self.d * self.m\n",
    "        self.n_col = len(category_column_count)\n",
    "        self.n_rodt = self.n_cond * self.n_col // self.d\n",
    "        self.n_estimator = max(2, int(self.n_col ** 0.5)) * self.n_cond // self.d\n",
    "\n",
    "        self.condition_generation = ConditionGeneration(            \n",
    "            category_column_count, \n",
    "            n_cond=self.n_cond, \n",
    "            categorical_optimized=categorical_optimized, \n",
    "            fast_mode=fast_mode,\n",
    "        )\n",
    "\n",
    "        self.proj = nn.Linear(1, self.n_hidden)\n",
    "        self.rodt_construction = rODTConstruction(\n",
    "            self.n_cond,\n",
    "            self.n_col,\n",
    "            self.d,\n",
    "        )\n",
    "\n",
    "        self.norm = nn.LayerNorm(n_hidden)\n",
    "        self.attn = MultiheadAttention(\n",
    "            embed_dim=self.n_hidden,\n",
    "            num_heads=n_head,\n",
    "            dropout=0.2,\n",
    "        )\n",
    "\n",
    "        self.rodt_forest_construction = rODTForestConstruction(\n",
    "            self.n_col, \n",
    "            self.n_rodt, \n",
    "            self.n_cond,\n",
    "            self.n_estimator,\n",
    "            n_head=self.n_head, \n",
    "            n_hidden=self.n_hidden,\n",
    "            n_forest=self.n_forest,\n",
    "            dropout=self.dropout,\n",
    "            fast_mode=fast_mode,\n",
    "            device=self.device\n",
    "        )\n",
    "        self.rodt_forest_bagging = rODTForestBagging(\n",
    "            self.n_hidden,\n",
    "            self.dropout,\n",
    "            self.n_class\n",
    "        )\n",
    "\n",
    "        self.ffn_dropout_rate = 0.1\n",
    "        self.act = ReGLU()\n",
    "\n",
    "    def compute_loss(self, y_hat: torch.Tensor, y: torch.Tensor) -> torch.Tensor:\n",
    "        raise NotImplementedError\n",
    "\n",
    "    def evaluate(self, X: torch.Tensor, y: torch.Tensor) -> Dict[str, torch.Tensor]:\n",
    "        raise NotImplementedError\n",
    "\n",
    "    def forward(self, x: torch.Tensor, y: Optional[torch.Tensor] = None):\n",
    "        M = self.condition_generation(x)           # (b, n_cond, n_col)\n",
    "        M = M.unsqueeze(-1)                        # (b, n_cond, n_col, 1)\n",
    "        M = self.proj(M)                           # (b, n_cond, n_col, n_hidden)\n",
    "        O = self.rodt_construction(M)              # (b, n_rodt, d, n_hidden)\n",
    "        O = O.reshape(-1, self.d, self.n_hidden)   # (b * n_rodt, d, n_hidden)\n",
    "        O = self.norm(O)\n",
    "        w, E = self.attn(O, O, O)\n",
    "\n",
    "        w = w.reshape(-1, self.n_rodt, 1)\n",
    "        E = E.reshape(-1, self.n_rodt, self.n_hidden)\n",
    "\n",
    "        E_norm = E / E.norm(dim=-1, keepdim=True)\n",
    "        sim_loss = torch.einsum('bij,bjk->bik', E_norm, E_norm.permute(0, 2, 1))\n",
    "\n",
    "        F = self.rodt_forest_construction(w, E) # (b, n_forest, n_hidden)\n",
    "        y_hats = self.rodt_forest_bagging(F)    # (b, n_rodt, n_class)\n",
    "        y_hat = y_hats.mean(1)                  # (b, n_class)\n",
    "\n",
    "        if y is not None:\n",
    "            loss = self.compute_loss(\n",
    "                y_hats.permute(0, 2, 1) if not self.is_rgr else y_hats, \n",
    "                y.unsqueeze(-1).expand(-1, self.n_forest)\n",
    "            ) +  sim_loss.abs().mean()\n",
    "            if self.n_forest > 1 and self.training and self.use_bagging_loss:\n",
    "                loss += self.compute_loss(y_hat, y)\n",
    "            return {'pred': y_hat, 'loss': loss}\n",
    "        return {'pred': y_hat}\n",
    "\n",
    "    def predict(self, x: torch.Tensor) -> torch.Tensor:\n",
    "        return self.forward(x)['pred']\n",
    "\n",
    "\n",
    "class DOFENClassifier(BaseClassifier, DOFEN):\n",
    "    def __init__(\n",
    "        self,\n",
    "        category_column_count: List[int],\n",
    "        n_class: int, \n",
    "        m: int = 16,\n",
    "        d: int = 4,\n",
    "        n_head: int = 4,\n",
    "        n_forest: int = 100,\n",
    "        n_hidden: int = 16,\n",
    "        dropout: float = 0.0, \n",
    "        categorical_optimized: bool = False,\n",
    "        fast_mode: int = 2048,\n",
    "        use_bagging_loss: bool = False,\n",
    "        device=torch.device('cuda'),\n",
    "    ) -> None:\n",
    "\n",
    "        super().__init__(\n",
    "            category_column_count=category_column_count, \n",
    "            n_class=n_class, \n",
    "            m=m, \n",
    "            d=d, \n",
    "            n_head=n_head,\n",
    "            n_forest=n_forest,\n",
    "            n_hidden=n_hidden,\n",
    "            dropout=dropout, \n",
    "            categorical_optimized=categorical_optimized,\n",
    "            fast_mode=fast_mode,\n",
    "            use_bagging_loss=use_bagging_loss,\n",
    "            device=device,\n",
    "        )"
   ]
  },
  {
   "cell_type": "code",
   "execution_count": 74,
   "metadata": {},
   "outputs": [
    {
     "name": "stderr",
     "output_type": "stream",
     "text": [
      "  0%|          | 0/250 [00:00<?, ?it/s]"
     ]
    },
    {
     "name": "stderr",
     "output_type": "stream",
     "text": [
      "  0%|          | 1/250 [00:00<03:03,  1.36it/s]"
     ]
    },
    {
     "name": "stdout",
     "output_type": "stream",
     "text": [
      "{'epoch': 1, 'valid_accuracy': 0.501053617419808, 'best_valid_epoch': 1, 'best_valid_score': 0.501053617419808, 'test_accuracy': 0.503712622917921, 'selected_test_score': 0.503712622917921}\n"
     ]
    },
    {
     "name": "stderr",
     "output_type": "stream",
     "text": [
      "  1%|          | 2/250 [00:01<03:01,  1.37it/s]"
     ]
    },
    {
     "name": "stdout",
     "output_type": "stream",
     "text": [
      "{'epoch': 2, 'valid_accuracy': 0.49929758838679467, 'best_valid_epoch': 1, 'best_valid_score': 0.501053617419808, 'test_accuracy': 0.5011539233393538, 'selected_test_score': 0.503712622917921}\n"
     ]
    },
    {
     "name": "stderr",
     "output_type": "stream",
     "text": [
      "  1%|          | 3/250 [00:02<03:00,  1.37it/s]"
     ]
    },
    {
     "name": "stdout",
     "output_type": "stream",
     "text": [
      "{'epoch': 3, 'valid_accuracy': 0.5204870053851557, 'best_valid_epoch': 3, 'best_valid_score': 0.5204870053851557, 'test_accuracy': 0.5209211318482841, 'selected_test_score': 0.5209211318482841}\n"
     ]
    },
    {
     "name": "stderr",
     "output_type": "stream",
     "text": [
      "  2%|▏         | 4/250 [00:02<02:59,  1.37it/s]"
     ]
    },
    {
     "name": "stdout",
     "output_type": "stream",
     "text": [
      "{'epoch': 4, 'valid_accuracy': 0.49906345118239287, 'best_valid_epoch': 3, 'best_valid_score': 0.5204870053851557, 'test_accuracy': 0.5009532410194661, 'selected_test_score': 0.5209211318482841}\n"
     ]
    },
    {
     "name": "stderr",
     "output_type": "stream",
     "text": [
      "  2%|▏         | 5/250 [00:03<02:58,  1.37it/s]"
     ]
    },
    {
     "name": "stdout",
     "output_type": "stream",
     "text": [
      "{'epoch': 5, 'valid_accuracy': 0.5539686256146101, 'best_valid_epoch': 5, 'best_valid_score': 0.5539686256146101, 'test_accuracy': 0.5542343969496287, 'selected_test_score': 0.5542343969496287}\n"
     ]
    },
    {
     "name": "stderr",
     "output_type": "stream",
     "text": [
      "  2%|▏         | 6/250 [00:04<02:58,  1.37it/s]"
     ]
    },
    {
     "name": "stdout",
     "output_type": "stream",
     "text": [
      "{'epoch': 6, 'valid_accuracy': 0.5029267150550223, 'best_valid_epoch': 5, 'best_valid_score': 0.5539686256146101, 'test_accuracy': 0.5043648404575557, 'selected_test_score': 0.5542343969496287}\n"
     ]
    },
    {
     "name": "stderr",
     "output_type": "stream",
     "text": [
      "  3%|▎         | 7/250 [00:05<03:02,  1.33it/s]"
     ]
    },
    {
     "name": "stdout",
     "output_type": "stream",
     "text": [
      "{'epoch': 7, 'valid_accuracy': 0.556192929056427, 'best_valid_epoch': 7, 'best_valid_score': 0.556192929056427, 'test_accuracy': 0.556191049568533, 'selected_test_score': 0.556191049568533}\n"
     ]
    },
    {
     "name": "stderr",
     "output_type": "stream",
     "text": [
      "  3%|▎         | 8/250 [00:05<03:00,  1.34it/s]"
     ]
    },
    {
     "name": "stdout",
     "output_type": "stream",
     "text": [
      "{'epoch': 8, 'valid_accuracy': 0.5523296651837977, 'best_valid_epoch': 7, 'best_valid_score': 0.556192929056427, 'test_accuracy': 0.5469596628537026, 'selected_test_score': 0.556191049568533}\n"
     ]
    },
    {
     "name": "stderr",
     "output_type": "stream",
     "text": [
      "  4%|▎         | 9/250 [00:06<02:58,  1.35it/s]"
     ]
    },
    {
     "name": "stdout",
     "output_type": "stream",
     "text": [
      "{'epoch': 9, 'valid_accuracy': 0.5687192694919223, 'best_valid_epoch': 9, 'best_valid_score': 0.5687192694919223, 'test_accuracy': 0.562010836845274, 'selected_test_score': 0.562010836845274}\n"
     ]
    },
    {
     "name": "stderr",
     "output_type": "stream",
     "text": [
      "  4%|▍         | 10/250 [00:07<02:56,  1.36it/s]"
     ]
    },
    {
     "name": "stdout",
     "output_type": "stream",
     "text": [
      "{'epoch': 10, 'valid_accuracy': 0.5916647155232967, 'best_valid_epoch': 10, 'best_valid_score': 0.5916647155232967, 'test_accuracy': 0.5991872366044552, 'selected_test_score': 0.5991872366044552}\n"
     ]
    },
    {
     "name": "stderr",
     "output_type": "stream",
     "text": [
      "  4%|▍         | 11/250 [00:08<02:55,  1.36it/s]"
     ]
    },
    {
     "name": "stdout",
     "output_type": "stream",
     "text": [
      "{'epoch': 11, 'valid_accuracy': 0.6123858581128542, 'best_valid_epoch': 11, 'best_valid_score': 0.6123858581128542, 'test_accuracy': 0.6088199879590608, 'selected_test_score': 0.6088199879590608}\n"
     ]
    },
    {
     "name": "stderr",
     "output_type": "stream",
     "text": [
      "  5%|▍         | 12/250 [00:08<02:54,  1.36it/s]"
     ]
    },
    {
     "name": "stdout",
     "output_type": "stream",
     "text": [
      "{'epoch': 12, 'valid_accuracy': 0.5887380004682744, 'best_valid_epoch': 11, 'best_valid_score': 0.6123858581128542, 'test_accuracy': 0.5932671081677704, 'selected_test_score': 0.6088199879590608}\n"
     ]
    },
    {
     "name": "stderr",
     "output_type": "stream",
     "text": [
      "  5%|▌         | 13/250 [00:09<02:53,  1.37it/s]"
     ]
    },
    {
     "name": "stdout",
     "output_type": "stream",
     "text": [
      "{'epoch': 13, 'valid_accuracy': 0.6753687660969327, 'best_valid_epoch': 13, 'best_valid_score': 0.6753687660969327, 'test_accuracy': 0.6751956652618905, 'selected_test_score': 0.6751956652618905}\n"
     ]
    },
    {
     "name": "stderr",
     "output_type": "stream",
     "text": [
      "  6%|▌         | 14/250 [00:10<02:52,  1.37it/s]"
     ]
    },
    {
     "name": "stdout",
     "output_type": "stream",
     "text": [
      "{'epoch': 14, 'valid_accuracy': 0.6966752516974948, 'best_valid_epoch': 14, 'best_valid_score': 0.6966752516974948, 'test_accuracy': 0.696969696969697, 'selected_test_score': 0.696969696969697}\n"
     ]
    },
    {
     "name": "stderr",
     "output_type": "stream",
     "text": [
      "  6%|▌         | 15/250 [00:11<02:51,  1.37it/s]"
     ]
    },
    {
     "name": "stdout",
     "output_type": "stream",
     "text": [
      "{'epoch': 15, 'valid_accuracy': 0.6499648794193398, 'best_valid_epoch': 14, 'best_valid_score': 0.6966752516974948, 'test_accuracy': 0.6485049167168373, 'selected_test_score': 0.696969696969697}\n"
     ]
    },
    {
     "name": "stderr",
     "output_type": "stream",
     "text": [
      "  6%|▋         | 16/250 [00:11<02:51,  1.37it/s]"
     ]
    },
    {
     "name": "stdout",
     "output_type": "stream",
     "text": [
      "{'epoch': 16, 'valid_accuracy': 0.7012409271833294, 'best_valid_epoch': 16, 'best_valid_score': 0.7012409271833294, 'test_accuracy': 0.699076861328517, 'selected_test_score': 0.699076861328517}\n"
     ]
    },
    {
     "name": "stderr",
     "output_type": "stream",
     "text": [
      "  7%|▋         | 17/250 [00:12<02:50,  1.37it/s]"
     ]
    },
    {
     "name": "stdout",
     "output_type": "stream",
     "text": [
      "{'epoch': 17, 'valid_accuracy': 0.7019433387965348, 'best_valid_epoch': 17, 'best_valid_score': 0.7019433387965348, 'test_accuracy': 0.7018362432269717, 'selected_test_score': 0.7018362432269717}\n"
     ]
    },
    {
     "name": "stderr",
     "output_type": "stream",
     "text": [
      "  7%|▋         | 18/250 [00:13<02:49,  1.37it/s]"
     ]
    },
    {
     "name": "stdout",
     "output_type": "stream",
     "text": [
      "{'epoch': 18, 'valid_accuracy': 0.7163427768672442, 'best_valid_epoch': 18, 'best_valid_score': 0.7163427768672442, 'test_accuracy': 0.7177904876580373, 'selected_test_score': 0.7177904876580373}\n"
     ]
    },
    {
     "name": "stderr",
     "output_type": "stream",
     "text": [
      "  8%|▊         | 19/250 [00:14<02:53,  1.33it/s]"
     ]
    },
    {
     "name": "stdout",
     "output_type": "stream",
     "text": [
      "{'epoch': 19, 'valid_accuracy': 0.6676422383516741, 'best_valid_epoch': 18, 'best_valid_score': 0.7163427768672442, 'test_accuracy': 0.6682721252257676, 'selected_test_score': 0.7177904876580373}\n"
     ]
    },
    {
     "name": "stderr",
     "output_type": "stream",
     "text": [
      "  8%|▊         | 20/250 [00:14<02:51,  1.34it/s]"
     ]
    },
    {
     "name": "stdout",
     "output_type": "stream",
     "text": [
      "{'epoch': 20, 'valid_accuracy': 0.7132989932100211, 'best_valid_epoch': 18, 'best_valid_score': 0.7163427768672442, 'test_accuracy': 0.7128236002408188, 'selected_test_score': 0.7177904876580373}\n"
     ]
    },
    {
     "name": "stderr",
     "output_type": "stream",
     "text": [
      "  8%|▊         | 21/250 [00:15<02:49,  1.35it/s]"
     ]
    },
    {
     "name": "stdout",
     "output_type": "stream",
     "text": [
      "{'epoch': 21, 'valid_accuracy': 0.6520721142589557, 'best_valid_epoch': 18, 'best_valid_score': 0.7163427768672442, 'test_accuracy': 0.6505619104956853, 'selected_test_score': 0.7177904876580373}\n"
     ]
    },
    {
     "name": "stderr",
     "output_type": "stream",
     "text": [
      "  9%|▉         | 22/250 [00:16<02:47,  1.36it/s]"
     ]
    },
    {
     "name": "stdout",
     "output_type": "stream",
     "text": [
      "{'epoch': 22, 'valid_accuracy': 0.7128307188012175, 'best_valid_epoch': 18, 'best_valid_score': 0.7163427768672442, 'test_accuracy': 0.7140276941601444, 'selected_test_score': 0.7177904876580373}\n"
     ]
    },
    {
     "name": "stderr",
     "output_type": "stream",
     "text": [
      "  9%|▉         | 23/250 [00:16<02:46,  1.36it/s]"
     ]
    },
    {
     "name": "stdout",
     "output_type": "stream",
     "text": [
      "{'epoch': 23, 'valid_accuracy': 0.6985483493327089, 'best_valid_epoch': 18, 'best_valid_score': 0.7163427768672442, 'test_accuracy': 0.6958659442103151, 'selected_test_score': 0.7177904876580373}\n"
     ]
    },
    {
     "name": "stderr",
     "output_type": "stream",
     "text": [
      " 10%|▉         | 24/250 [00:17<02:45,  1.36it/s]"
     ]
    },
    {
     "name": "stdout",
     "output_type": "stream",
     "text": [
      "{'epoch': 24, 'valid_accuracy': 0.6799344415827675, 'best_valid_epoch': 18, 'best_valid_score': 0.7163427768672442, 'test_accuracy': 0.68176801123821, 'selected_test_score': 0.7177904876580373}\n"
     ]
    },
    {
     "name": "stderr",
     "output_type": "stream",
     "text": [
      " 10%|█         | 25/250 [00:18<02:44,  1.37it/s]"
     ]
    },
    {
     "name": "stdout",
     "output_type": "stream",
     "text": [
      "{'epoch': 25, 'valid_accuracy': 0.7109576211660033, 'best_valid_epoch': 18, 'best_valid_score': 0.7163427768672442, 'test_accuracy': 0.713726670680313, 'selected_test_score': 0.7177904876580373}\n"
     ]
    },
    {
     "name": "stderr",
     "output_type": "stream",
     "text": [
      " 10%|█         | 26/250 [00:19<02:43,  1.37it/s]"
     ]
    },
    {
     "name": "stdout",
     "output_type": "stream",
     "text": [
      "{'epoch': 26, 'valid_accuracy': 0.6271365019901662, 'best_valid_epoch': 18, 'best_valid_score': 0.7163427768672442, 'test_accuracy': 0.6245233794902669, 'selected_test_score': 0.7177904876580373}\n"
     ]
    },
    {
     "name": "stderr",
     "output_type": "stream",
     "text": [
      " 11%|█         | 27/250 [00:19<02:42,  1.37it/s]"
     ]
    },
    {
     "name": "stdout",
     "output_type": "stream",
     "text": [
      "{'epoch': 27, 'valid_accuracy': 0.7088503863263873, 'best_valid_epoch': 18, 'best_valid_score': 0.7163427768672442, 'test_accuracy': 0.7075055187637969, 'selected_test_score': 0.7177904876580373}\n"
     ]
    },
    {
     "name": "stderr",
     "output_type": "stream",
     "text": [
      " 11%|█         | 28/250 [00:20<02:42,  1.37it/s]"
     ]
    },
    {
     "name": "stdout",
     "output_type": "stream",
     "text": [
      "{'epoch': 28, 'valid_accuracy': 0.7024116132053383, 'best_valid_epoch': 18, 'best_valid_score': 0.7163427768672442, 'test_accuracy': 0.6990266907485451, 'selected_test_score': 0.7177904876580373}\n"
     ]
    },
    {
     "name": "stderr",
     "output_type": "stream",
     "text": [
      " 12%|█▏        | 29/250 [00:21<02:41,  1.37it/s]"
     ]
    },
    {
     "name": "stdout",
     "output_type": "stream",
     "text": [
      "{'epoch': 29, 'valid_accuracy': 0.7067431514867712, 'best_valid_epoch': 18, 'best_valid_score': 0.7163427768672442, 'test_accuracy': 0.7064017660044151, 'selected_test_score': 0.7177904876580373}\n"
     ]
    },
    {
     "name": "stderr",
     "output_type": "stream",
     "text": [
      " 12%|█▏        | 30/250 [00:22<02:40,  1.37it/s]"
     ]
    },
    {
     "name": "stdout",
     "output_type": "stream",
     "text": [
      "{'epoch': 30, 'valid_accuracy': 0.6912900959962538, 'best_valid_epoch': 18, 'best_valid_score': 0.7163427768672442, 'test_accuracy': 0.688591210114389, 'selected_test_score': 0.7177904876580373}\n"
     ]
    },
    {
     "name": "stderr",
     "output_type": "stream",
     "text": [
      " 12%|█▏        | 31/250 [00:22<02:44,  1.33it/s]"
     ]
    },
    {
     "name": "stdout",
     "output_type": "stream",
     "text": [
      "{'epoch': 31, 'valid_accuracy': 0.7129477874034184, 'best_valid_epoch': 18, 'best_valid_score': 0.7163427768672442, 'test_accuracy': 0.7157334938791893, 'selected_test_score': 0.7177904876580373}\n"
     ]
    },
    {
     "name": "stderr",
     "output_type": "stream",
     "text": [
      " 13%|█▎        | 32/250 [00:23<02:42,  1.34it/s]"
     ]
    },
    {
     "name": "stdout",
     "output_type": "stream",
     "text": [
      "{'epoch': 32, 'valid_accuracy': 0.6994848981503161, 'best_valid_epoch': 18, 'best_valid_score': 0.7163427768672442, 'test_accuracy': 0.6973710616094722, 'selected_test_score': 0.7177904876580373}\n"
     ]
    },
    {
     "name": "stderr",
     "output_type": "stream",
     "text": [
      " 13%|█▎        | 33/250 [00:24<02:40,  1.35it/s]"
     ]
    },
    {
     "name": "stdout",
     "output_type": "stream",
     "text": [
      "{'epoch': 33, 'valid_accuracy': 0.7127136501990167, 'best_valid_epoch': 18, 'best_valid_score': 0.7163427768672442, 'test_accuracy': 0.7144792293798916, 'selected_test_score': 0.7177904876580373}\n"
     ]
    },
    {
     "name": "stderr",
     "output_type": "stream",
     "text": [
      " 14%|█▎        | 34/250 [00:25<02:39,  1.36it/s]"
     ]
    },
    {
     "name": "stdout",
     "output_type": "stream",
     "text": [
      "{'epoch': 34, 'valid_accuracy': 0.7257082650433154, 'best_valid_epoch': 34, 'best_valid_score': 0.7257082650433154, 'test_accuracy': 0.7233092514549468, 'selected_test_score': 0.7233092514549468}\n"
     ]
    },
    {
     "name": "stderr",
     "output_type": "stream",
     "text": [
      " 14%|█▍        | 35/250 [00:25<02:38,  1.36it/s]"
     ]
    },
    {
     "name": "stdout",
     "output_type": "stream",
     "text": [
      "{'epoch': 35, 'valid_accuracy': 0.7066260828845704, 'best_valid_epoch': 34, 'best_valid_score': 0.7257082650433154, 'test_accuracy': 0.7056492073048365, 'selected_test_score': 0.7233092514549468}\n"
     ]
    },
    {
     "name": "stderr",
     "output_type": "stream",
     "text": [
      " 14%|█▍        | 36/250 [00:26<02:36,  1.36it/s]"
     ]
    },
    {
     "name": "stdout",
     "output_type": "stream",
     "text": [
      "{'epoch': 36, 'valid_accuracy': 0.7116600327792086, 'best_valid_epoch': 34, 'best_valid_score': 0.7257082650433154, 'test_accuracy': 0.7103150712422236, 'selected_test_score': 0.7233092514549468}\n"
     ]
    },
    {
     "name": "stderr",
     "output_type": "stream",
     "text": [
      " 15%|█▍        | 37/250 [00:27<02:35,  1.37it/s]"
     ]
    },
    {
     "name": "stdout",
     "output_type": "stream",
     "text": [
      "{'epoch': 37, 'valid_accuracy': 0.6976118005151019, 'best_valid_epoch': 34, 'best_valid_score': 0.7257082650433154, 'test_accuracy': 0.6962171382701184, 'selected_test_score': 0.7233092514549468}\n"
     ]
    },
    {
     "name": "stderr",
     "output_type": "stream",
     "text": [
      " 15%|█▌        | 38/250 [00:27<02:35,  1.37it/s]"
     ]
    },
    {
     "name": "stdout",
     "output_type": "stream",
     "text": [
      "{'epoch': 38, 'valid_accuracy': 0.6985483493327089, 'best_valid_epoch': 34, 'best_valid_score': 0.7257082650433154, 'test_accuracy': 0.6956150913104555, 'selected_test_score': 0.7233092514549468}\n"
     ]
    },
    {
     "name": "stderr",
     "output_type": "stream",
     "text": [
      " 16%|█▌        | 39/250 [00:28<02:34,  1.37it/s]"
     ]
    },
    {
     "name": "stdout",
     "output_type": "stream",
     "text": [
      "{'epoch': 39, 'valid_accuracy': 0.7268789510653243, 'best_valid_epoch': 39, 'best_valid_score': 0.7268789510653243, 'test_accuracy': 0.725316074653823, 'selected_test_score': 0.725316074653823}\n"
     ]
    },
    {
     "name": "stderr",
     "output_type": "stream",
     "text": [
      " 16%|█▌        | 40/250 [00:29<02:33,  1.37it/s]"
     ]
    },
    {
     "name": "stdout",
     "output_type": "stream",
     "text": [
      "{'epoch': 40, 'valid_accuracy': 0.7132989932100211, 'best_valid_epoch': 39, 'best_valid_score': 0.7268789510653243, 'test_accuracy': 0.715833835039133, 'selected_test_score': 0.725316074653823}\n"
     ]
    },
    {
     "name": "stderr",
     "output_type": "stream",
     "text": [
      " 16%|█▋        | 41/250 [00:30<02:32,  1.37it/s]"
     ]
    },
    {
     "name": "stdout",
     "output_type": "stream",
     "text": [
      "{'epoch': 41, 'valid_accuracy': 0.6970264575040974, 'best_valid_epoch': 39, 'best_valid_score': 0.7268789510653243, 'test_accuracy': 0.6946116797110174, 'selected_test_score': 0.725316074653823}\n"
     ]
    },
    {
     "name": "stderr",
     "output_type": "stream",
     "text": [
      " 17%|█▋        | 42/250 [00:30<02:31,  1.37it/s]"
     ]
    },
    {
     "name": "stdout",
     "output_type": "stream",
     "text": [
      "{'epoch': 42, 'valid_accuracy': 0.7159915710606415, 'best_valid_epoch': 39, 'best_valid_score': 0.7268789510653243, 'test_accuracy': 0.7188942404174192, 'selected_test_score': 0.725316074653823}\n"
     ]
    },
    {
     "name": "stderr",
     "output_type": "stream",
     "text": [
      " 17%|█▋        | 43/250 [00:31<02:35,  1.33it/s]"
     ]
    },
    {
     "name": "stdout",
     "output_type": "stream",
     "text": [
      "{'epoch': 43, 'valid_accuracy': 0.6848513228752049, 'best_valid_epoch': 39, 'best_valid_score': 0.7268789510653243, 'test_accuracy': 0.682771422837648, 'selected_test_score': 0.725316074653823}\n"
     ]
    },
    {
     "name": "stderr",
     "output_type": "stream",
     "text": [
      " 18%|█▊        | 44/250 [00:32<02:33,  1.34it/s]"
     ]
    },
    {
     "name": "stdout",
     "output_type": "stream",
     "text": [
      "{'epoch': 44, 'valid_accuracy': 0.7013579957855304, 'best_valid_epoch': 39, 'best_valid_score': 0.7268789510653243, 'test_accuracy': 0.6994782259682922, 'selected_test_score': 0.725316074653823}\n"
     ]
    },
    {
     "name": "stderr",
     "output_type": "stream",
     "text": [
      " 18%|█▊        | 45/250 [00:33<02:31,  1.35it/s]"
     ]
    },
    {
     "name": "stdout",
     "output_type": "stream",
     "text": [
      "{'epoch': 45, 'valid_accuracy': 0.7224303441816905, 'best_valid_epoch': 39, 'best_valid_score': 0.7268789510653243, 'test_accuracy': 0.7246638571141882, 'selected_test_score': 0.725316074653823}\n"
     ]
    },
    {
     "name": "stderr",
     "output_type": "stream",
     "text": [
      " 18%|█▊        | 46/250 [00:33<02:30,  1.36it/s]"
     ]
    },
    {
     "name": "stdout",
     "output_type": "stream",
     "text": [
      "{'epoch': 46, 'valid_accuracy': 0.6994848981503161, 'best_valid_epoch': 39, 'best_valid_score': 0.7268789510653243, 'test_accuracy': 0.6973710616094722, 'selected_test_score': 0.725316074653823}\n"
     ]
    },
    {
     "name": "stderr",
     "output_type": "stream",
     "text": [
      " 19%|█▉        | 47/250 [00:34<02:29,  1.36it/s]"
     ]
    },
    {
     "name": "stdout",
     "output_type": "stream",
     "text": [
      "{'epoch': 47, 'valid_accuracy': 0.7248887848279092, 'best_valid_epoch': 39, 'best_valid_score': 0.7268789510653243, 'test_accuracy': 0.726871362632952, 'selected_test_score': 0.725316074653823}\n"
     ]
    },
    {
     "name": "stderr",
     "output_type": "stream",
     "text": [
      " 19%|█▉        | 48/250 [00:35<02:28,  1.36it/s]"
     ]
    },
    {
     "name": "stdout",
     "output_type": "stream",
     "text": [
      "{'epoch': 48, 'valid_accuracy': 0.6712713650199017, 'best_valid_epoch': 39, 'best_valid_score': 0.7268789510653243, 'test_accuracy': 0.669626730885009, 'selected_test_score': 0.725316074653823}\n"
     ]
    },
    {
     "name": "stderr",
     "output_type": "stream",
     "text": [
      " 20%|█▉        | 49/250 [00:36<02:27,  1.37it/s]"
     ]
    },
    {
     "name": "stdout",
     "output_type": "stream",
     "text": [
      "{'epoch': 49, 'valid_accuracy': 0.7137672676188246, 'best_valid_epoch': 39, 'best_valid_score': 0.7268789510653243, 'test_accuracy': 0.7189945815773631, 'selected_test_score': 0.725316074653823}\n"
     ]
    },
    {
     "name": "stderr",
     "output_type": "stream",
     "text": [
      " 20%|██        | 50/250 [00:36<02:26,  1.37it/s]"
     ]
    },
    {
     "name": "stdout",
     "output_type": "stream",
     "text": [
      "{'epoch': 50, 'valid_accuracy': 0.7121283071880121, 'best_valid_epoch': 39, 'best_valid_score': 0.7268789510653243, 'test_accuracy': 0.7149809351796107, 'selected_test_score': 0.725316074653823}\n"
     ]
    },
    {
     "name": "stderr",
     "output_type": "stream",
     "text": [
      " 20%|██        | 51/250 [00:37<02:25,  1.37it/s]"
     ]
    },
    {
     "name": "stdout",
     "output_type": "stream",
     "text": [
      "{'epoch': 51, 'valid_accuracy': 0.7140014048232264, 'best_valid_epoch': 39, 'best_valid_score': 0.7268789510653243, 'test_accuracy': 0.7176399759181216, 'selected_test_score': 0.725316074653823}\n"
     ]
    },
    {
     "name": "stderr",
     "output_type": "stream",
     "text": [
      " 21%|██        | 52/250 [00:38<02:24,  1.37it/s]"
     ]
    },
    {
     "name": "stdout",
     "output_type": "stream",
     "text": [
      "{'epoch': 52, 'valid_accuracy': 0.7123624443924139, 'best_valid_epoch': 39, 'best_valid_score': 0.7268789510653243, 'test_accuracy': 0.7157836644591612, 'selected_test_score': 0.725316074653823}\n"
     ]
    },
    {
     "name": "stderr",
     "output_type": "stream",
     "text": [
      " 21%|██        | 53/250 [00:38<02:23,  1.37it/s]"
     ]
    },
    {
     "name": "stdout",
     "output_type": "stream",
     "text": [
      "{'epoch': 53, 'valid_accuracy': 0.7308592835401545, 'best_valid_epoch': 53, 'best_valid_score': 0.7308592835401545, 'test_accuracy': 0.7307344972907887, 'selected_test_score': 0.7307344972907887}\n"
     ]
    },
    {
     "name": "stderr",
     "output_type": "stream",
     "text": [
      " 22%|██▏       | 54/250 [00:39<02:23,  1.37it/s]"
     ]
    },
    {
     "name": "stdout",
     "output_type": "stream",
     "text": [
      "{'epoch': 54, 'valid_accuracy': 0.7247717162257082, 'best_valid_epoch': 53, 'best_valid_score': 0.7308592835401545, 'test_accuracy': 0.7273228978526992, 'selected_test_score': 0.7307344972907887}\n"
     ]
    },
    {
     "name": "stderr",
     "output_type": "stream",
     "text": [
      " 22%|██▏       | 55/250 [00:40<02:26,  1.33it/s]"
     ]
    },
    {
     "name": "stdout",
     "output_type": "stream",
     "text": [
      "{'epoch': 55, 'valid_accuracy': 0.7026457504097401, 'best_valid_epoch': 53, 'best_valid_score': 0.7308592835401545, 'test_accuracy': 0.7014850491671684, 'selected_test_score': 0.7307344972907887}\n"
     ]
    },
    {
     "name": "stderr",
     "output_type": "stream",
     "text": [
      " 22%|██▏       | 56/250 [00:41<02:24,  1.34it/s]"
     ]
    },
    {
     "name": "stdout",
     "output_type": "stream",
     "text": [
      "{'epoch': 56, 'valid_accuracy': 0.7307422149379537, 'best_valid_epoch': 53, 'best_valid_score': 0.7308592835401545, 'test_accuracy': 0.7304334738109572, 'selected_test_score': 0.7307344972907887}\n"
     ]
    },
    {
     "name": "stderr",
     "output_type": "stream",
     "text": [
      " 23%|██▎       | 57/250 [00:41<02:22,  1.35it/s]"
     ]
    },
    {
     "name": "stdout",
     "output_type": "stream",
     "text": [
      "{'epoch': 57, 'valid_accuracy': 0.7116600327792086, 'best_valid_epoch': 53, 'best_valid_score': 0.7308592835401545, 'test_accuracy': 0.7139775235801726, 'selected_test_score': 0.7307344972907887}\n"
     ]
    },
    {
     "name": "stderr",
     "output_type": "stream",
     "text": [
      " 23%|██▎       | 58/250 [00:42<02:21,  1.36it/s]"
     ]
    },
    {
     "name": "stdout",
     "output_type": "stream",
     "text": [
      "{'epoch': 58, 'valid_accuracy': 0.722898618590494, 'best_valid_epoch': 53, 'best_valid_score': 0.7308592835401545, 'test_accuracy': 0.7251153923339354, 'selected_test_score': 0.7307344972907887}\n"
     ]
    },
    {
     "name": "stderr",
     "output_type": "stream",
     "text": [
      " 24%|██▎       | 59/250 [00:43<02:20,  1.36it/s]"
     ]
    },
    {
     "name": "stdout",
     "output_type": "stream",
     "text": [
      "{'epoch': 59, 'valid_accuracy': 0.7310934207445563, 'best_valid_epoch': 59, 'best_valid_score': 0.7310934207445563, 'test_accuracy': 0.7314870559903672, 'selected_test_score': 0.7314870559903672}\n"
     ]
    },
    {
     "name": "stderr",
     "output_type": "stream",
     "text": [
      " 24%|██▍       | 60/250 [00:44<02:19,  1.36it/s]"
     ]
    },
    {
     "name": "stdout",
     "output_type": "stream",
     "text": [
      "{'epoch': 60, 'valid_accuracy': 0.7321470381643643, 'best_valid_epoch': 60, 'best_valid_score': 0.7321470381643643, 'test_accuracy': 0.732139273530002, 'selected_test_score': 0.732139273530002}\n"
     ]
    },
    {
     "name": "stderr",
     "output_type": "stream",
     "text": [
      " 24%|██▍       | 61/250 [00:44<02:18,  1.37it/s]"
     ]
    },
    {
     "name": "stdout",
     "output_type": "stream",
     "text": [
      "{'epoch': 61, 'valid_accuracy': 0.7122453757902131, 'best_valid_epoch': 60, 'best_valid_score': 0.7321470381643643, 'test_accuracy': 0.7117198474814369, 'selected_test_score': 0.732139273530002}\n"
     ]
    },
    {
     "name": "stderr",
     "output_type": "stream",
     "text": [
      " 25%|██▍       | 62/250 [00:45<02:17,  1.37it/s]"
     ]
    },
    {
     "name": "stdout",
     "output_type": "stream",
     "text": [
      "{'epoch': 62, 'valid_accuracy': 0.7261765394521189, 'best_valid_epoch': 60, 'best_valid_score': 0.7321470381643643, 'test_accuracy': 0.7286273329319687, 'selected_test_score': 0.732139273530002}\n"
     ]
    },
    {
     "name": "stderr",
     "output_type": "stream",
     "text": [
      " 25%|██▌       | 63/250 [00:46<02:16,  1.37it/s]"
     ]
    },
    {
     "name": "stdout",
     "output_type": "stream",
     "text": [
      "{'epoch': 63, 'valid_accuracy': 0.7326153125731679, 'best_valid_epoch': 63, 'best_valid_score': 0.7326153125731679, 'test_accuracy': 0.7332931968693558, 'selected_test_score': 0.7332931968693558}\n"
     ]
    },
    {
     "name": "stderr",
     "output_type": "stream",
     "text": [
      " 26%|██▌       | 64/250 [00:47<02:15,  1.37it/s]"
     ]
    },
    {
     "name": "stdout",
     "output_type": "stream",
     "text": [
      "{'epoch': 64, 'valid_accuracy': 0.7147038164364318, 'best_valid_epoch': 63, 'best_valid_score': 0.7326153125731679, 'test_accuracy': 0.7173891230182621, 'selected_test_score': 0.7332931968693558}\n"
     ]
    },
    {
     "name": "stderr",
     "output_type": "stream",
     "text": [
      " 26%|██▌       | 65/250 [00:47<02:15,  1.37it/s]"
     ]
    },
    {
     "name": "stdout",
     "output_type": "stream",
     "text": [
      "{'epoch': 65, 'valid_accuracy': 0.7156403652540388, 'best_valid_epoch': 63, 'best_valid_score': 0.7326153125731679, 'test_accuracy': 0.7192956050571945, 'selected_test_score': 0.7332931968693558}\n"
     ]
    },
    {
     "name": "stderr",
     "output_type": "stream",
     "text": [
      " 26%|██▋       | 66/250 [00:48<02:14,  1.37it/s]"
     ]
    },
    {
     "name": "stdout",
     "output_type": "stream",
     "text": [
      "{'epoch': 66, 'valid_accuracy': 0.7189182861156638, 'best_valid_epoch': 63, 'best_valid_score': 0.7326153125731679, 'test_accuracy': 0.7226068633353402, 'selected_test_score': 0.7332931968693558}\n"
     ]
    },
    {
     "name": "stderr",
     "output_type": "stream",
     "text": [
      " 27%|██▋       | 67/250 [00:49<02:17,  1.33it/s]"
     ]
    },
    {
     "name": "stdout",
     "output_type": "stream",
     "text": [
      "{'epoch': 67, 'valid_accuracy': 0.7344884102083821, 'best_valid_epoch': 67, 'best_valid_score': 0.7344884102083821, 'test_accuracy': 0.7352498494882601, 'selected_test_score': 0.7352498494882601}\n"
     ]
    },
    {
     "name": "stderr",
     "output_type": "stream",
     "text": [
      " 27%|██▋       | 68/250 [00:50<02:15,  1.34it/s]"
     ]
    },
    {
     "name": "stdout",
     "output_type": "stream",
     "text": [
      "{'epoch': 68, 'valid_accuracy': 0.7347225474127839, 'best_valid_epoch': 68, 'best_valid_score': 0.7347225474127839, 'test_accuracy': 0.735300020068232, 'selected_test_score': 0.735300020068232}\n"
     ]
    },
    {
     "name": "stderr",
     "output_type": "stream",
     "text": [
      " 28%|██▊       | 69/250 [00:50<02:13,  1.35it/s]"
     ]
    },
    {
     "name": "stdout",
     "output_type": "stream",
     "text": [
      "{'epoch': 69, 'valid_accuracy': 0.7253570592367127, 'best_valid_epoch': 68, 'best_valid_score': 0.7347225474127839, 'test_accuracy': 0.7285269917720248, 'selected_test_score': 0.735300020068232}\n"
     ]
    },
    {
     "name": "stderr",
     "output_type": "stream",
     "text": [
      " 28%|██▊       | 70/250 [00:51<02:12,  1.36it/s]"
     ]
    },
    {
     "name": "stdout",
     "output_type": "stream",
     "text": [
      "{'epoch': 70, 'valid_accuracy': 0.7344884102083821, 'best_valid_epoch': 68, 'best_valid_score': 0.7347225474127839, 'test_accuracy': 0.735300020068232, 'selected_test_score': 0.735300020068232}\n"
     ]
    },
    {
     "name": "stderr",
     "output_type": "stream",
     "text": [
      " 28%|██▊       | 71/250 [00:52<02:11,  1.36it/s]"
     ]
    },
    {
     "name": "stdout",
     "output_type": "stream",
     "text": [
      "{'epoch': 71, 'valid_accuracy': 0.7344884102083821, 'best_valid_epoch': 68, 'best_valid_score': 0.7347225474127839, 'test_accuracy': 0.7354003612281758, 'selected_test_score': 0.735300020068232}\n"
     ]
    },
    {
     "name": "stderr",
     "output_type": "stream",
     "text": [
      " 29%|██▉       | 72/250 [00:52<02:10,  1.36it/s]"
     ]
    },
    {
     "name": "stdout",
     "output_type": "stream",
     "text": [
      "{'epoch': 72, 'valid_accuracy': 0.7209084523530789, 'best_valid_epoch': 68, 'best_valid_score': 0.7347225474127839, 'test_accuracy': 0.7240116395745535, 'selected_test_score': 0.735300020068232}\n"
     ]
    },
    {
     "name": "stderr",
     "output_type": "stream",
     "text": [
      " 29%|██▉       | 73/250 [00:53<02:09,  1.37it/s]"
     ]
    },
    {
     "name": "stdout",
     "output_type": "stream",
     "text": [
      "{'epoch': 73, 'valid_accuracy': 0.7188012175134629, 'best_valid_epoch': 68, 'best_valid_score': 0.7347225474127839, 'test_accuracy': 0.7218543046357616, 'selected_test_score': 0.735300020068232}\n"
     ]
    },
    {
     "name": "stderr",
     "output_type": "stream",
     "text": [
      " 30%|██▉       | 74/250 [00:54<02:08,  1.37it/s]"
     ]
    },
    {
     "name": "stdout",
     "output_type": "stream",
     "text": [
      "{'epoch': 74, 'valid_accuracy': 0.7233668929992976, 'best_valid_epoch': 68, 'best_valid_score': 0.7347225474127839, 'test_accuracy': 0.7292795504716034, 'selected_test_score': 0.735300020068232}\n"
     ]
    },
    {
     "name": "stderr",
     "output_type": "stream",
     "text": [
      " 30%|███       | 75/250 [00:55<02:07,  1.37it/s]"
     ]
    },
    {
     "name": "stdout",
     "output_type": "stream",
     "text": [
      "{'epoch': 75, 'valid_accuracy': 0.7363615078435963, 'best_valid_epoch': 75, 'best_valid_score': 0.7363615078435963, 'test_accuracy': 0.7372566726871362, 'selected_test_score': 0.7372566726871362}\n"
     ]
    },
    {
     "name": "stderr",
     "output_type": "stream",
     "text": [
      " 30%|███       | 76/250 [00:55<02:07,  1.37it/s]"
     ]
    },
    {
     "name": "stdout",
     "output_type": "stream",
     "text": [
      "{'epoch': 76, 'valid_accuracy': 0.7341372044017794, 'best_valid_epoch': 75, 'best_valid_score': 0.7363615078435963, 'test_accuracy': 0.7348484848484849, 'selected_test_score': 0.7372566726871362}\n"
     ]
    },
    {
     "name": "stderr",
     "output_type": "stream",
     "text": [
      " 31%|███       | 77/250 [00:56<02:06,  1.37it/s]"
     ]
    },
    {
     "name": "stdout",
     "output_type": "stream",
     "text": [
      "{'epoch': 77, 'valid_accuracy': 0.7353078904237883, 'best_valid_epoch': 75, 'best_valid_score': 0.7363615078435963, 'test_accuracy': 0.7377082079068834, 'selected_test_score': 0.7372566726871362}\n"
     ]
    },
    {
     "name": "stderr",
     "output_type": "stream",
     "text": [
      " 31%|███       | 78/250 [00:57<02:09,  1.33it/s]"
     ]
    },
    {
     "name": "stdout",
     "output_type": "stream",
     "text": [
      "{'epoch': 78, 'valid_accuracy': 0.7280496370873332, 'best_valid_epoch': 75, 'best_valid_score': 0.7363615078435963, 'test_accuracy': 0.7317379088902267, 'selected_test_score': 0.7372566726871362}\n"
     ]
    },
    {
     "name": "stderr",
     "output_type": "stream",
     "text": [
      " 32%|███▏      | 79/250 [00:58<02:07,  1.34it/s]"
     ]
    },
    {
     "name": "stdout",
     "output_type": "stream",
     "text": [
      "{'epoch': 79, 'valid_accuracy': 0.7319129009599625, 'best_valid_epoch': 75, 'best_valid_score': 0.7363615078435963, 'test_accuracy': 0.7339454144089905, 'selected_test_score': 0.7372566726871362}\n"
     ]
    },
    {
     "name": "stderr",
     "output_type": "stream",
     "text": [
      " 32%|███▏      | 80/250 [00:58<02:05,  1.35it/s]"
     ]
    },
    {
     "name": "stdout",
     "output_type": "stream",
     "text": [
      "{'epoch': 80, 'valid_accuracy': 0.7316787637555607, 'best_valid_epoch': 75, 'best_valid_score': 0.7363615078435963, 'test_accuracy': 0.7332931968693558, 'selected_test_score': 0.7372566726871362}\n"
     ]
    },
    {
     "name": "stderr",
     "output_type": "stream",
     "text": [
      " 32%|███▏      | 81/250 [00:59<02:04,  1.36it/s]"
     ]
    },
    {
     "name": "stdout",
     "output_type": "stream",
     "text": [
      "{'epoch': 81, 'valid_accuracy': 0.7336689299929758, 'best_valid_epoch': 75, 'best_valid_score': 0.7363615078435963, 'test_accuracy': 0.7354505318081477, 'selected_test_score': 0.7372566726871362}\n"
     ]
    },
    {
     "name": "stderr",
     "output_type": "stream",
     "text": [
      " 33%|███▎      | 82/250 [01:00<02:03,  1.36it/s]"
     ]
    },
    {
     "name": "stdout",
     "output_type": "stream",
     "text": [
      "{'epoch': 82, 'valid_accuracy': 0.7260594708499181, 'best_valid_epoch': 75, 'best_valid_score': 0.7363615078435963, 'test_accuracy': 0.7302327914910697, 'selected_test_score': 0.7372566726871362}\n"
     ]
    },
    {
     "name": "stderr",
     "output_type": "stream",
     "text": [
      " 33%|███▎      | 83/250 [01:01<02:02,  1.36it/s]"
     ]
    },
    {
     "name": "stdout",
     "output_type": "stream",
     "text": [
      "{'epoch': 83, 'valid_accuracy': 0.7231327557948958, 'best_valid_epoch': 75, 'best_valid_score': 0.7363615078435963, 'test_accuracy': 0.7277242624924745, 'selected_test_score': 0.7372566726871362}\n"
     ]
    },
    {
     "name": "stderr",
     "output_type": "stream",
     "text": [
      " 34%|███▎      | 84/250 [01:01<02:01,  1.37it/s]"
     ]
    },
    {
     "name": "stdout",
     "output_type": "stream",
     "text": [
      "{'epoch': 84, 'valid_accuracy': 0.7381175368766097, 'best_valid_epoch': 84, 'best_valid_score': 0.7381175368766097, 'test_accuracy': 0.7376580373269115, 'selected_test_score': 0.7376580373269115}\n"
     ]
    },
    {
     "name": "stderr",
     "output_type": "stream",
     "text": [
      " 34%|███▍      | 85/250 [01:02<02:00,  1.37it/s]"
     ]
    },
    {
     "name": "stdout",
     "output_type": "stream",
     "text": [
      "{'epoch': 85, 'valid_accuracy': 0.7334347927885742, 'best_valid_epoch': 84, 'best_valid_score': 0.7381175368766097, 'test_accuracy': 0.7354003612281758, 'selected_test_score': 0.7376580373269115}\n"
     ]
    },
    {
     "name": "stderr",
     "output_type": "stream",
     "text": [
      " 34%|███▍      | 86/250 [01:03<01:59,  1.37it/s]"
     ]
    },
    {
     "name": "stdout",
     "output_type": "stream",
     "text": [
      "{'epoch': 86, 'valid_accuracy': 0.7391711542964177, 'best_valid_epoch': 86, 'best_valid_score': 0.7391711542964177, 'test_accuracy': 0.7389123018262092, 'selected_test_score': 0.7389123018262092}\n"
     ]
    },
    {
     "name": "stderr",
     "output_type": "stream",
     "text": [
      " 35%|███▍      | 87/250 [01:03<01:59,  1.37it/s]"
     ]
    },
    {
     "name": "stdout",
     "output_type": "stream",
     "text": [
      "{'epoch': 87, 'valid_accuracy': 0.7369468508546008, 'best_valid_epoch': 86, 'best_valid_score': 0.7391711542964177, 'test_accuracy': 0.7380092313867148, 'selected_test_score': 0.7389123018262092}\n"
     ]
    },
    {
     "name": "stderr",
     "output_type": "stream",
     "text": [
      " 35%|███▌      | 88/250 [01:04<01:58,  1.37it/s]"
     ]
    },
    {
     "name": "stdout",
     "output_type": "stream",
     "text": [
      "{'epoch': 88, 'valid_accuracy': 0.7372980566612035, 'best_valid_epoch': 86, 'best_valid_score': 0.7391711542964177, 'test_accuracy': 0.7385109371864339, 'selected_test_score': 0.7389123018262092}\n"
     ]
    },
    {
     "name": "stderr",
     "output_type": "stream",
     "text": [
      " 36%|███▌      | 89/250 [01:05<01:57,  1.37it/s]"
     ]
    },
    {
     "name": "stdout",
     "output_type": "stream",
     "text": [
      "{'epoch': 89, 'valid_accuracy': 0.7182158745024585, 'best_valid_epoch': 86, 'best_valid_score': 0.7391711542964177, 'test_accuracy': 0.7207505518763797, 'selected_test_score': 0.7389123018262092}\n"
     ]
    },
    {
     "name": "stderr",
     "output_type": "stream",
     "text": [
      " 36%|███▌      | 90/250 [01:06<02:00,  1.33it/s]"
     ]
    },
    {
     "name": "stdout",
     "output_type": "stream",
     "text": [
      "{'epoch': 90, 'valid_accuracy': 0.7397564973074221, 'best_valid_epoch': 90, 'best_valid_score': 0.7397564973074221, 'test_accuracy': 0.7400662251655629, 'selected_test_score': 0.7400662251655629}\n"
     ]
    },
    {
     "name": "stderr",
     "output_type": "stream",
     "text": [
      " 36%|███▋      | 91/250 [01:06<01:58,  1.34it/s]"
     ]
    },
    {
     "name": "stdout",
     "output_type": "stream",
     "text": [
      "{'epoch': 91, 'valid_accuracy': 0.7384687426832124, 'best_valid_epoch': 90, 'best_valid_score': 0.7397564973074221, 'test_accuracy': 0.7392133253060406, 'selected_test_score': 0.7400662251655629}\n"
     ]
    },
    {
     "name": "stderr",
     "output_type": "stream",
     "text": [
      " 37%|███▋      | 92/250 [01:07<01:56,  1.35it/s]"
     ]
    },
    {
     "name": "stdout",
     "output_type": "stream",
     "text": [
      "{'epoch': 92, 'valid_accuracy': 0.7257082650433154, 'best_valid_epoch': 90, 'best_valid_score': 0.7397564973074221, 'test_accuracy': 0.727975115392334, 'selected_test_score': 0.7400662251655629}\n"
     ]
    },
    {
     "name": "stderr",
     "output_type": "stream",
     "text": [
      " 37%|███▋      | 93/250 [01:08<01:55,  1.36it/s]"
     ]
    },
    {
     "name": "stdout",
     "output_type": "stream",
     "text": [
      "{'epoch': 93, 'valid_accuracy': 0.7392882228986186, 'best_valid_epoch': 90, 'best_valid_score': 0.7397564973074221, 'test_accuracy': 0.7413204896648605, 'selected_test_score': 0.7400662251655629}\n"
     ]
    },
    {
     "name": "stderr",
     "output_type": "stream",
     "text": [
      " 38%|███▊      | 94/250 [01:09<01:54,  1.36it/s]"
     ]
    },
    {
     "name": "stdout",
     "output_type": "stream",
     "text": [
      "{'epoch': 94, 'valid_accuracy': 0.7375321938656052, 'best_valid_epoch': 90, 'best_valid_score': 0.7397564973074221, 'test_accuracy': 0.7374573550070239, 'selected_test_score': 0.7400662251655629}\n"
     ]
    },
    {
     "name": "stderr",
     "output_type": "stream",
     "text": [
      " 38%|███▊      | 95/250 [01:09<01:53,  1.36it/s]"
     ]
    },
    {
     "name": "stdout",
     "output_type": "stream",
     "text": [
      "{'epoch': 95, 'valid_accuracy': 0.7402247717162257, 'best_valid_epoch': 95, 'best_valid_score': 0.7402247717162257, 'test_accuracy': 0.7413204896648605, 'selected_test_score': 0.7413204896648605}\n"
     ]
    },
    {
     "name": "stderr",
     "output_type": "stream",
     "text": [
      " 38%|███▊      | 96/250 [01:10<01:52,  1.37it/s]"
     ]
    },
    {
     "name": "stdout",
     "output_type": "stream",
     "text": [
      "{'epoch': 96, 'valid_accuracy': 0.7401077031140249, 'best_valid_epoch': 95, 'best_valid_score': 0.7402247717162257, 'test_accuracy': 0.7416215131446919, 'selected_test_score': 0.7413204896648605}\n"
     ]
    },
    {
     "name": "stderr",
     "output_type": "stream",
     "text": [
      " 39%|███▉      | 97/250 [01:11<01:51,  1.37it/s]"
     ]
    },
    {
     "name": "stdout",
     "output_type": "stream",
     "text": [
      "{'epoch': 97, 'valid_accuracy': 0.7402247717162257, 'best_valid_epoch': 95, 'best_valid_score': 0.7402247717162257, 'test_accuracy': 0.7419727072044953, 'selected_test_score': 0.7413204896648605}\n"
     ]
    },
    {
     "name": "stderr",
     "output_type": "stream",
     "text": [
      " 39%|███▉      | 98/250 [01:12<01:51,  1.37it/s]"
     ]
    },
    {
     "name": "stdout",
     "output_type": "stream",
     "text": [
      "{'epoch': 98, 'valid_accuracy': 0.7408101147272301, 'best_valid_epoch': 98, 'best_valid_score': 0.7408101147272301, 'test_accuracy': 0.7423740718442705, 'selected_test_score': 0.7423740718442705}\n"
     ]
    },
    {
     "name": "stderr",
     "output_type": "stream",
     "text": [
      " 40%|███▉      | 99/250 [01:12<01:50,  1.37it/s]"
     ]
    },
    {
     "name": "stdout",
     "output_type": "stream",
     "text": [
      "{'epoch': 99, 'valid_accuracy': 0.7376492624678062, 'best_valid_epoch': 98, 'best_valid_score': 0.7408101147272301, 'test_accuracy': 0.7388621312462372, 'selected_test_score': 0.7423740718442705}\n"
     ]
    },
    {
     "name": "stderr",
     "output_type": "stream",
     "text": [
      " 40%|████      | 100/250 [01:13<01:49,  1.37it/s]"
     ]
    },
    {
     "name": "stdout",
     "output_type": "stream",
     "text": [
      "{'epoch': 100, 'valid_accuracy': 0.7354249590259893, 'best_valid_epoch': 98, 'best_valid_score': 0.7408101147272301, 'test_accuracy': 0.7375576961669676, 'selected_test_score': 0.7423740718442705}\n"
     ]
    },
    {
     "name": "stderr",
     "output_type": "stream",
     "text": [
      " 40%|████      | 101/250 [01:14<01:48,  1.37it/s]"
     ]
    },
    {
     "name": "stdout",
     "output_type": "stream",
     "text": [
      "{'epoch': 101, 'valid_accuracy': 0.7402247717162257, 'best_valid_epoch': 98, 'best_valid_score': 0.7408101147272301, 'test_accuracy': 0.7418723660445514, 'selected_test_score': 0.7423740718442705}\n"
     ]
    },
    {
     "name": "stderr",
     "output_type": "stream",
     "text": [
      " 41%|████      | 102/250 [01:15<01:51,  1.33it/s]"
     ]
    },
    {
     "name": "stdout",
     "output_type": "stream",
     "text": [
      "{'epoch': 102, 'valid_accuracy': 0.7426832123624444, 'best_valid_epoch': 102, 'best_valid_score': 0.7426832123624444, 'test_accuracy': 0.7422737306843267, 'selected_test_score': 0.7422737306843267}\n"
     ]
    },
    {
     "name": "stderr",
     "output_type": "stream",
     "text": [
      " 41%|████      | 103/250 [01:15<01:49,  1.34it/s]"
     ]
    },
    {
     "name": "stdout",
     "output_type": "stream",
     "text": [
      "{'epoch': 103, 'valid_accuracy': 0.7403418403184266, 'best_valid_epoch': 102, 'best_valid_score': 0.7426832123624444, 'test_accuracy': 0.7420730483644391, 'selected_test_score': 0.7422737306843267}\n"
     ]
    },
    {
     "name": "stderr",
     "output_type": "stream",
     "text": [
      " 42%|████▏     | 104/250 [01:16<01:47,  1.35it/s]"
     ]
    },
    {
     "name": "stdout",
     "output_type": "stream",
     "text": [
      "{'epoch': 104, 'valid_accuracy': 0.7426832123624444, 'best_valid_epoch': 102, 'best_valid_score': 0.7426832123624444, 'test_accuracy': 0.7409692956050572, 'selected_test_score': 0.7422737306843267}\n"
     ]
    },
    {
     "name": "stderr",
     "output_type": "stream",
     "text": [
      " 42%|████▏     | 105/250 [01:17<01:46,  1.36it/s]"
     ]
    },
    {
     "name": "stdout",
     "output_type": "stream",
     "text": [
      "{'epoch': 105, 'valid_accuracy': 0.7425661437602435, 'best_valid_epoch': 102, 'best_valid_score': 0.7426832123624444, 'test_accuracy': 0.7408187838651414, 'selected_test_score': 0.7422737306843267}\n"
     ]
    },
    {
     "name": "stderr",
     "output_type": "stream",
     "text": [
      " 42%|████▏     | 106/250 [01:17<01:45,  1.36it/s]"
     ]
    },
    {
     "name": "stdout",
     "output_type": "stream",
     "text": [
      "{'epoch': 106, 'valid_accuracy': 0.7404589089206275, 'best_valid_epoch': 102, 'best_valid_score': 0.7426832123624444, 'test_accuracy': 0.7424242424242424, 'selected_test_score': 0.7422737306843267}\n"
     ]
    },
    {
     "name": "stderr",
     "output_type": "stream",
     "text": [
      " 43%|████▎     | 107/250 [01:18<01:44,  1.36it/s]"
     ]
    },
    {
     "name": "stdout",
     "output_type": "stream",
     "text": [
      "{'epoch': 107, 'valid_accuracy': 0.7445563099976586, 'best_valid_epoch': 107, 'best_valid_score': 0.7445563099976586, 'test_accuracy': 0.7434778246036524, 'selected_test_score': 0.7434778246036524}\n"
     ]
    },
    {
     "name": "stderr",
     "output_type": "stream",
     "text": [
      " 43%|████▎     | 108/250 [01:19<01:43,  1.37it/s]"
     ]
    },
    {
     "name": "stdout",
     "output_type": "stream",
     "text": [
      "{'epoch': 108, 'valid_accuracy': 0.7426832123624444, 'best_valid_epoch': 107, 'best_valid_score': 0.7445563099976586, 'test_accuracy': 0.7441802127232591, 'selected_test_score': 0.7434778246036524}\n"
     ]
    },
    {
     "name": "stderr",
     "output_type": "stream",
     "text": [
      " 44%|████▎     | 109/250 [01:20<01:43,  1.37it/s]"
     ]
    },
    {
     "name": "stdout",
     "output_type": "stream",
     "text": [
      "{'epoch': 109, 'valid_accuracy': 0.7423320065558418, 'best_valid_epoch': 107, 'best_valid_score': 0.7445563099976586, 'test_accuracy': 0.7439293598233996, 'selected_test_score': 0.7434778246036524}\n"
     ]
    },
    {
     "name": "stderr",
     "output_type": "stream",
     "text": [
      " 44%|████▍     | 110/250 [01:20<01:42,  1.37it/s]"
     ]
    },
    {
     "name": "stdout",
     "output_type": "stream",
     "text": [
      "{'epoch': 110, 'valid_accuracy': 0.7387028798876142, 'best_valid_epoch': 107, 'best_valid_score': 0.7445563099976586, 'test_accuracy': 0.7409191250250853, 'selected_test_score': 0.7434778246036524}\n"
     ]
    },
    {
     "name": "stderr",
     "output_type": "stream",
     "text": [
      " 44%|████▍     | 111/250 [01:21<01:41,  1.37it/s]"
     ]
    },
    {
     "name": "stdout",
     "output_type": "stream",
     "text": [
      "{'epoch': 111, 'valid_accuracy': 0.7423320065558418, 'best_valid_epoch': 107, 'best_valid_score': 0.7445563099976586, 'test_accuracy': 0.7447320891029501, 'selected_test_score': 0.7434778246036524}\n"
     ]
    },
    {
     "name": "stderr",
     "output_type": "stream",
     "text": [
      " 45%|████▍     | 112/250 [01:22<01:40,  1.37it/s]"
     ]
    },
    {
     "name": "stdout",
     "output_type": "stream",
     "text": [
      "{'epoch': 112, 'valid_accuracy': 0.7370639194568017, 'best_valid_epoch': 107, 'best_valid_score': 0.7445563099976586, 'test_accuracy': 0.7376580373269115, 'selected_test_score': 0.7434778246036524}\n"
     ]
    },
    {
     "name": "stderr",
     "output_type": "stream",
     "text": [
      " 45%|████▌     | 113/250 [01:23<01:40,  1.37it/s]"
     ]
    },
    {
     "name": "stdout",
     "output_type": "stream",
     "text": [
      "{'epoch': 113, 'valid_accuracy': 0.7449075158042613, 'best_valid_epoch': 113, 'best_valid_score': 0.7449075158042613, 'test_accuracy': 0.7436283363435682, 'selected_test_score': 0.7436283363435682}\n"
     ]
    },
    {
     "name": "stderr",
     "output_type": "stream",
     "text": [
      " 46%|████▌     | 114/250 [01:23<01:42,  1.33it/s]"
     ]
    },
    {
     "name": "stdout",
     "output_type": "stream",
     "text": [
      "{'epoch': 114, 'valid_accuracy': 0.7389370170920159, 'best_valid_epoch': 113, 'best_valid_score': 0.7449075158042613, 'test_accuracy': 0.7404174192253662, 'selected_test_score': 0.7436283363435682}\n"
     ]
    },
    {
     "name": "stderr",
     "output_type": "stream",
     "text": [
      " 46%|████▌     | 115/250 [01:24<01:40,  1.34it/s]"
     ]
    },
    {
     "name": "stdout",
     "output_type": "stream",
     "text": [
      "{'epoch': 115, 'valid_accuracy': 0.743034418169047, 'best_valid_epoch': 113, 'best_valid_score': 0.7449075158042613, 'test_accuracy': 0.7390628135661248, 'selected_test_score': 0.7436283363435682}\n"
     ]
    },
    {
     "name": "stderr",
     "output_type": "stream",
     "text": [
      " 46%|████▋     | 116/250 [01:25<01:39,  1.35it/s]"
     ]
    },
    {
     "name": "stdout",
     "output_type": "stream",
     "text": [
      "{'epoch': 116, 'valid_accuracy': 0.7409271833294311, 'best_valid_epoch': 113, 'best_valid_score': 0.7449075158042613, 'test_accuracy': 0.7433774834437086, 'selected_test_score': 0.7436283363435682}\n"
     ]
    },
    {
     "name": "stderr",
     "output_type": "stream",
     "text": [
      " 47%|████▋     | 117/250 [01:26<01:38,  1.36it/s]"
     ]
    },
    {
     "name": "stdout",
     "output_type": "stream",
     "text": [
      "{'epoch': 117, 'valid_accuracy': 0.7432685553734488, 'best_valid_epoch': 113, 'best_valid_score': 0.7449075158042613, 'test_accuracy': 0.7454344772225567, 'selected_test_score': 0.7436283363435682}\n"
     ]
    },
    {
     "name": "stderr",
     "output_type": "stream",
     "text": [
      " 47%|████▋     | 118/250 [01:26<01:37,  1.36it/s]"
     ]
    },
    {
     "name": "stdout",
     "output_type": "stream",
     "text": [
      "{'epoch': 118, 'valid_accuracy': 0.7460782018262702, 'best_valid_epoch': 118, 'best_valid_score': 0.7460782018262702, 'test_accuracy': 0.7445815773630343, 'selected_test_score': 0.7445815773630343}\n"
     ]
    },
    {
     "name": "stderr",
     "output_type": "stream",
     "text": [
      " 48%|████▊     | 119/250 [01:27<01:36,  1.36it/s]"
     ]
    },
    {
     "name": "stdout",
     "output_type": "stream",
     "text": [
      "{'epoch': 119, 'valid_accuracy': 0.7439709669866542, 'best_valid_epoch': 118, 'best_valid_score': 0.7460782018262702, 'test_accuracy': 0.745835841862332, 'selected_test_score': 0.7445815773630343}\n"
     ]
    },
    {
     "name": "stderr",
     "output_type": "stream",
     "text": [
      " 48%|████▊     | 120/250 [01:28<01:35,  1.36it/s]"
     ]
    },
    {
     "name": "stdout",
     "output_type": "stream",
     "text": [
      "{'epoch': 120, 'valid_accuracy': 0.746312339030672, 'best_valid_epoch': 120, 'best_valid_score': 0.746312339030672, 'test_accuracy': 0.7435781657635963, 'selected_test_score': 0.7435781657635963}\n"
     ]
    },
    {
     "name": "stderr",
     "output_type": "stream",
     "text": [
      " 48%|████▊     | 121/250 [01:28<01:34,  1.37it/s]"
     ]
    },
    {
     "name": "stdout",
     "output_type": "stream",
     "text": [
      "{'epoch': 121, 'valid_accuracy': 0.7432685553734488, 'best_valid_epoch': 120, 'best_valid_score': 0.746312339030672, 'test_accuracy': 0.7453341360626129, 'selected_test_score': 0.7435781657635963}\n"
     ]
    },
    {
     "name": "stderr",
     "output_type": "stream",
     "text": [
      " 49%|████▉     | 122/250 [01:29<01:33,  1.37it/s]"
     ]
    },
    {
     "name": "stdout",
     "output_type": "stream",
     "text": [
      "{'epoch': 122, 'valid_accuracy': 0.7453757902130649, 'best_valid_epoch': 120, 'best_valid_score': 0.746312339030672, 'test_accuracy': 0.7451334537427252, 'selected_test_score': 0.7435781657635963}\n"
     ]
    },
    {
     "name": "stderr",
     "output_type": "stream",
     "text": [
      " 49%|████▉     | 123/250 [01:30<01:32,  1.37it/s]"
     ]
    },
    {
     "name": "stdout",
     "output_type": "stream",
     "text": [
      "{'epoch': 123, 'valid_accuracy': 0.7426832123624444, 'best_valid_epoch': 120, 'best_valid_score': 0.746312339030672, 'test_accuracy': 0.7450331125827815, 'selected_test_score': 0.7435781657635963}\n"
     ]
    },
    {
     "name": "stderr",
     "output_type": "stream",
     "text": [
      " 50%|████▉     | 124/250 [01:31<01:32,  1.37it/s]"
     ]
    },
    {
     "name": "stdout",
     "output_type": "stream",
     "text": [
      "{'epoch': 124, 'valid_accuracy': 0.7464294076328729, 'best_valid_epoch': 124, 'best_valid_score': 0.7464294076328729, 'test_accuracy': 0.7454344772225567, 'selected_test_score': 0.7454344772225567}\n"
     ]
    },
    {
     "name": "stderr",
     "output_type": "stream",
     "text": [
      " 50%|█████     | 125/250 [01:31<01:31,  1.37it/s]"
     ]
    },
    {
     "name": "stdout",
     "output_type": "stream",
     "text": [
      "{'epoch': 125, 'valid_accuracy': 0.74736595645048, 'best_valid_epoch': 125, 'best_valid_score': 0.74736595645048, 'test_accuracy': 0.7450832831627534, 'selected_test_score': 0.7450832831627534}\n"
     ]
    },
    {
     "name": "stderr",
     "output_type": "stream",
     "text": [
      " 50%|█████     | 126/250 [01:32<01:33,  1.33it/s]"
     ]
    },
    {
     "name": "stdout",
     "output_type": "stream",
     "text": [
      "{'epoch': 126, 'valid_accuracy': 0.7454928588152657, 'best_valid_epoch': 125, 'best_valid_score': 0.74736595645048, 'test_accuracy': 0.746889424041742, 'selected_test_score': 0.7450832831627534}\n"
     ]
    },
    {
     "name": "stderr",
     "output_type": "stream",
     "text": [
      " 51%|█████     | 127/250 [01:33<01:31,  1.34it/s]"
     ]
    },
    {
     "name": "stdout",
     "output_type": "stream",
     "text": [
      "{'epoch': 127, 'valid_accuracy': 0.7401077031140249, 'best_valid_epoch': 125, 'best_valid_score': 0.74736595645048, 'test_accuracy': 0.7414208308248044, 'selected_test_score': 0.7450832831627534}\n"
     ]
    },
    {
     "name": "stderr",
     "output_type": "stream",
     "text": [
      " 51%|█████     | 128/250 [01:34<01:30,  1.35it/s]"
     ]
    },
    {
     "name": "stdout",
     "output_type": "stream",
     "text": [
      "{'epoch': 128, 'valid_accuracy': 0.7457269960196675, 'best_valid_epoch': 125, 'best_valid_score': 0.74736595645048, 'test_accuracy': 0.7475918121613486, 'selected_test_score': 0.7450832831627534}\n"
     ]
    },
    {
     "name": "stderr",
     "output_type": "stream",
     "text": [
      " 52%|█████▏    | 129/250 [01:34<01:29,  1.36it/s]"
     ]
    },
    {
     "name": "stdout",
     "output_type": "stream",
     "text": [
      "{'epoch': 129, 'valid_accuracy': 0.7474830250526808, 'best_valid_epoch': 129, 'best_valid_score': 0.7474830250526808, 'test_accuracy': 0.7458860124423038, 'selected_test_score': 0.7458860124423038}\n"
     ]
    },
    {
     "name": "stderr",
     "output_type": "stream",
     "text": [
      " 52%|█████▏    | 130/250 [01:35<01:28,  1.36it/s]"
     ]
    },
    {
     "name": "stdout",
     "output_type": "stream",
     "text": [
      "{'epoch': 130, 'valid_accuracy': 0.7466635448372746, 'best_valid_epoch': 129, 'best_valid_score': 0.7474830250526808, 'test_accuracy': 0.747943006221152, 'selected_test_score': 0.7458860124423038}\n"
     ]
    },
    {
     "name": "stderr",
     "output_type": "stream",
     "text": [
      " 52%|█████▏    | 131/250 [01:36<01:27,  1.36it/s]"
     ]
    },
    {
     "name": "stdout",
     "output_type": "stream",
     "text": [
      "{'epoch': 131, 'valid_accuracy': 0.7478342308592836, 'best_valid_epoch': 131, 'best_valid_score': 0.7478342308592836, 'test_accuracy': 0.746287377082079, 'selected_test_score': 0.746287377082079}\n"
     ]
    },
    {
     "name": "stderr",
     "output_type": "stream",
     "text": [
      " 53%|█████▎    | 132/250 [01:37<01:26,  1.36it/s]"
     ]
    },
    {
     "name": "stdout",
     "output_type": "stream",
     "text": [
      "{'epoch': 132, 'valid_accuracy': 0.746312339030672, 'best_valid_epoch': 131, 'best_valid_score': 0.7478342308592836, 'test_accuracy': 0.747943006221152, 'selected_test_score': 0.746287377082079}\n"
     ]
    },
    {
     "name": "stderr",
     "output_type": "stream",
     "text": [
      " 53%|█████▎    | 133/250 [01:37<01:25,  1.37it/s]"
     ]
    },
    {
     "name": "stdout",
     "output_type": "stream",
     "text": [
      "{'epoch': 133, 'valid_accuracy': 0.7474830250526808, 'best_valid_epoch': 131, 'best_valid_score': 0.7478342308592836, 'test_accuracy': 0.748394541440899, 'selected_test_score': 0.746287377082079}\n"
     ]
    },
    {
     "name": "stderr",
     "output_type": "stream",
     "text": [
      " 54%|█████▎    | 134/250 [01:38<01:24,  1.37it/s]"
     ]
    },
    {
     "name": "stdout",
     "output_type": "stream",
     "text": [
      "{'epoch': 134, 'valid_accuracy': 0.7467806134394755, 'best_valid_epoch': 131, 'best_valid_score': 0.7478342308592836, 'test_accuracy': 0.7480433473810957, 'selected_test_score': 0.746287377082079}\n"
     ]
    },
    {
     "name": "stderr",
     "output_type": "stream",
     "text": [
      " 54%|█████▍    | 135/250 [01:39<01:24,  1.37it/s]"
     ]
    },
    {
     "name": "stdout",
     "output_type": "stream",
     "text": [
      "{'epoch': 135, 'valid_accuracy': 0.7487707796768907, 'best_valid_epoch': 135, 'best_valid_score': 0.7487707796768907, 'test_accuracy': 0.746337547662051, 'selected_test_score': 0.746337547662051}\n"
     ]
    },
    {
     "name": "stderr",
     "output_type": "stream",
     "text": [
      " 54%|█████▍    | 136/250 [01:40<01:23,  1.37it/s]"
     ]
    },
    {
     "name": "stdout",
     "output_type": "stream",
     "text": [
      "{'epoch': 136, 'valid_accuracy': 0.7483025052680871, 'best_valid_epoch': 135, 'best_valid_score': 0.7487707796768907, 'test_accuracy': 0.7441802127232591, 'selected_test_score': 0.746337547662051}\n"
     ]
    },
    {
     "name": "stderr",
     "output_type": "stream",
     "text": [
      " 55%|█████▍    | 137/250 [01:40<01:22,  1.37it/s]"
     ]
    },
    {
     "name": "stdout",
     "output_type": "stream",
     "text": [
      "{'epoch': 137, 'valid_accuracy': 0.7478342308592836, 'best_valid_epoch': 135, 'best_valid_score': 0.7487707796768907, 'test_accuracy': 0.7492976118803933, 'selected_test_score': 0.746337547662051}\n"
     ]
    },
    {
     "name": "stderr",
     "output_type": "stream",
     "text": [
      " 55%|█████▌    | 138/250 [01:41<01:24,  1.33it/s]"
     ]
    },
    {
     "name": "stdout",
     "output_type": "stream",
     "text": [
      "{'epoch': 138, 'valid_accuracy': 0.7474830250526808, 'best_valid_epoch': 135, 'best_valid_score': 0.7487707796768907, 'test_accuracy': 0.7498996588400562, 'selected_test_score': 0.746337547662051}\n"
     ]
    },
    {
     "name": "stderr",
     "output_type": "stream",
     "text": [
      " 56%|█████▌    | 139/250 [01:42<01:22,  1.34it/s]"
     ]
    },
    {
     "name": "stdout",
     "output_type": "stream",
     "text": [
      "{'epoch': 139, 'valid_accuracy': 0.7478342308592836, 'best_valid_epoch': 135, 'best_valid_score': 0.7487707796768907, 'test_accuracy': 0.7497993176801124, 'selected_test_score': 0.746337547662051}\n"
     ]
    },
    {
     "name": "stderr",
     "output_type": "stream",
     "text": [
      " 56%|█████▌    | 140/250 [01:43<01:21,  1.35it/s]"
     ]
    },
    {
     "name": "stdout",
     "output_type": "stream",
     "text": [
      "{'epoch': 140, 'valid_accuracy': 0.7486537110746898, 'best_valid_epoch': 135, 'best_valid_score': 0.7487707796768907, 'test_accuracy': 0.7499498294200281, 'selected_test_score': 0.746337547662051}\n"
     ]
    },
    {
     "name": "stderr",
     "output_type": "stream",
     "text": [
      " 56%|█████▋    | 141/250 [01:43<01:20,  1.36it/s]"
     ]
    },
    {
     "name": "stdout",
     "output_type": "stream",
     "text": [
      "{'epoch': 141, 'valid_accuracy': 0.7485366424724889, 'best_valid_epoch': 135, 'best_valid_score': 0.7487707796768907, 'test_accuracy': 0.7506522175396347, 'selected_test_score': 0.746337547662051}\n"
     ]
    },
    {
     "name": "stderr",
     "output_type": "stream",
     "text": [
      " 57%|█████▋    | 142/250 [01:44<01:19,  1.36it/s]"
     ]
    },
    {
     "name": "stdout",
     "output_type": "stream",
     "text": [
      "{'epoch': 142, 'valid_accuracy': 0.7493561226878951, 'best_valid_epoch': 142, 'best_valid_score': 0.7493561226878951, 'test_accuracy': 0.7470901063616295, 'selected_test_score': 0.7470901063616295}\n"
     ]
    },
    {
     "name": "stderr",
     "output_type": "stream",
     "text": [
      " 57%|█████▋    | 143/250 [01:45<01:18,  1.36it/s]"
     ]
    },
    {
     "name": "stdout",
     "output_type": "stream",
     "text": [
      "{'epoch': 143, 'valid_accuracy': 0.748419573870288, 'best_valid_epoch': 142, 'best_valid_score': 0.7493561226878951, 'test_accuracy': 0.7503511940598033, 'selected_test_score': 0.7470901063616295}\n"
     ]
    },
    {
     "name": "stderr",
     "output_type": "stream",
     "text": [
      " 58%|█████▊    | 144/250 [01:45<01:17,  1.36it/s]"
     ]
    },
    {
     "name": "stdout",
     "output_type": "stream",
     "text": [
      "{'epoch': 144, 'valid_accuracy': 0.7452587216108639, 'best_valid_epoch': 142, 'best_valid_score': 0.7493561226878951, 'test_accuracy': 0.7480935179610676, 'selected_test_score': 0.7470901063616295}\n"
     ]
    },
    {
     "name": "stderr",
     "output_type": "stream",
     "text": [
      " 58%|█████▊    | 145/250 [01:46<01:16,  1.37it/s]"
     ]
    },
    {
     "name": "stdout",
     "output_type": "stream",
     "text": [
      "{'epoch': 145, 'valid_accuracy': 0.7507609459143058, 'best_valid_epoch': 145, 'best_valid_score': 0.7507609459143058, 'test_accuracy': 0.7496488059401967, 'selected_test_score': 0.7496488059401967}\n"
     ]
    },
    {
     "name": "stderr",
     "output_type": "stream",
     "text": [
      " 58%|█████▊    | 146/250 [01:47<01:16,  1.37it/s]"
     ]
    },
    {
     "name": "stdout",
     "output_type": "stream",
     "text": [
      "{'epoch': 146, 'valid_accuracy': 0.7507609459143058, 'best_valid_epoch': 145, 'best_valid_score': 0.7507609459143058, 'test_accuracy': 0.7485450531808148, 'selected_test_score': 0.7496488059401967}\n"
     ]
    },
    {
     "name": "stderr",
     "output_type": "stream",
     "text": [
      " 59%|█████▉    | 147/250 [01:48<01:15,  1.37it/s]"
     ]
    },
    {
     "name": "stdout",
     "output_type": "stream",
     "text": [
      "{'epoch': 147, 'valid_accuracy': 0.7493561226878951, 'best_valid_epoch': 145, 'best_valid_score': 0.7507609459143058, 'test_accuracy': 0.7517057997190447, 'selected_test_score': 0.7496488059401967}\n"
     ]
    },
    {
     "name": "stderr",
     "output_type": "stream",
     "text": [
      " 59%|█████▉    | 148/250 [01:48<01:14,  1.37it/s]"
     ]
    },
    {
     "name": "stdout",
     "output_type": "stream",
     "text": [
      "{'epoch': 148, 'valid_accuracy': 0.7507609459143058, 'best_valid_epoch': 145, 'best_valid_score': 0.7507609459143058, 'test_accuracy': 0.7509030704394943, 'selected_test_score': 0.7496488059401967}\n"
     ]
    },
    {
     "name": "stderr",
     "output_type": "stream",
     "text": [
      " 60%|█████▉    | 149/250 [01:49<01:13,  1.37it/s]"
     ]
    },
    {
     "name": "stdout",
     "output_type": "stream",
     "text": [
      "{'epoch': 149, 'valid_accuracy': 0.7516974947319129, 'best_valid_epoch': 149, 'best_valid_score': 0.7516974947319129, 'test_accuracy': 0.7513546056592414, 'selected_test_score': 0.7513546056592414}\n"
     ]
    },
    {
     "name": "stderr",
     "output_type": "stream",
     "text": [
      " 60%|██████    | 150/250 [01:50<01:15,  1.33it/s]"
     ]
    },
    {
     "name": "stdout",
     "output_type": "stream",
     "text": [
      "{'epoch': 150, 'valid_accuracy': 0.7516974947319129, 'best_valid_epoch': 149, 'best_valid_score': 0.7516974947319129, 'test_accuracy': 0.7496488059401967, 'selected_test_score': 0.7513546056592414}\n"
     ]
    },
    {
     "name": "stderr",
     "output_type": "stream",
     "text": [
      " 60%|██████    | 151/250 [01:51<01:13,  1.34it/s]"
     ]
    },
    {
     "name": "stdout",
     "output_type": "stream",
     "text": [
      "{'epoch': 151, 'valid_accuracy': 0.7511121517209085, 'best_valid_epoch': 149, 'best_valid_score': 0.7516974947319129, 'test_accuracy': 0.75210716435882, 'selected_test_score': 0.7513546056592414}\n"
     ]
    },
    {
     "name": "stderr",
     "output_type": "stream",
     "text": [
      " 61%|██████    | 152/250 [01:51<01:12,  1.35it/s]"
     ]
    },
    {
     "name": "stdout",
     "output_type": "stream",
     "text": [
      "{'epoch': 152, 'valid_accuracy': 0.7500585343011005, 'best_valid_epoch': 149, 'best_valid_score': 0.7516974947319129, 'test_accuracy': 0.7540638169777243, 'selected_test_score': 0.7513546056592414}\n"
     ]
    },
    {
     "name": "stderr",
     "output_type": "stream",
     "text": [
      " 61%|██████    | 153/250 [01:52<01:11,  1.36it/s]"
     ]
    },
    {
     "name": "stdout",
     "output_type": "stream",
     "text": [
      "{'epoch': 153, 'valid_accuracy': 0.7490049168812924, 'best_valid_epoch': 149, 'best_valid_score': 0.7516974947319129, 'test_accuracy': 0.7443307244631748, 'selected_test_score': 0.7513546056592414}\n"
     ]
    },
    {
     "name": "stderr",
     "output_type": "stream",
     "text": [
      " 62%|██████▏   | 154/250 [01:53<01:10,  1.36it/s]"
     ]
    },
    {
     "name": "stdout",
     "output_type": "stream",
     "text": [
      "{'epoch': 154, 'valid_accuracy': 0.7528681807539218, 'best_valid_epoch': 154, 'best_valid_score': 0.7528681807539218, 'test_accuracy': 0.7518061408789886, 'selected_test_score': 0.7518061408789886}\n"
     ]
    },
    {
     "name": "stderr",
     "output_type": "stream",
     "text": [
      " 62%|██████▏   | 155/250 [01:54<01:09,  1.36it/s]"
     ]
    },
    {
     "name": "stdout",
     "output_type": "stream",
     "text": [
      "{'epoch': 155, 'valid_accuracy': 0.7534535237649262, 'best_valid_epoch': 155, 'best_valid_score': 0.7534535237649262, 'test_accuracy': 0.7515552879791291, 'selected_test_score': 0.7515552879791291}\n"
     ]
    },
    {
     "name": "stderr",
     "output_type": "stream",
     "text": [
      " 62%|██████▏   | 156/250 [01:54<01:08,  1.36it/s]"
     ]
    },
    {
     "name": "stdout",
     "output_type": "stream",
     "text": [
      "{'epoch': 156, 'valid_accuracy': 0.7492390540856942, 'best_valid_epoch': 155, 'best_valid_score': 0.7534535237649262, 'test_accuracy': 0.7467890828817981, 'selected_test_score': 0.7515552879791291}\n"
     ]
    },
    {
     "name": "stderr",
     "output_type": "stream",
     "text": [
      " 63%|██████▎   | 157/250 [01:55<01:08,  1.37it/s]"
     ]
    },
    {
     "name": "stdout",
     "output_type": "stream",
     "text": [
      "{'epoch': 157, 'valid_accuracy': 0.7509950831187076, 'best_valid_epoch': 155, 'best_valid_score': 0.7534535237649262, 'test_accuracy': 0.7556692755368252, 'selected_test_score': 0.7515552879791291}\n"
     ]
    },
    {
     "name": "stderr",
     "output_type": "stream",
     "text": [
      " 63%|██████▎   | 158/250 [01:56<01:07,  1.37it/s]"
     ]
    },
    {
     "name": "stdout",
     "output_type": "stream",
     "text": [
      "{'epoch': 158, 'valid_accuracy': 0.7518145633341138, 'best_valid_epoch': 155, 'best_valid_score': 0.7534535237649262, 'test_accuracy': 0.7506020469596628, 'selected_test_score': 0.7515552879791291}\n"
     ]
    },
    {
     "name": "stderr",
     "output_type": "stream",
     "text": [
      " 64%|██████▎   | 159/250 [01:56<01:06,  1.37it/s]"
     ]
    },
    {
     "name": "stdout",
     "output_type": "stream",
     "text": [
      "{'epoch': 159, 'valid_accuracy': 0.7541559353781316, 'best_valid_epoch': 159, 'best_valid_score': 0.7541559353781316, 'test_accuracy': 0.7543648404575557, 'selected_test_score': 0.7543648404575557}\n"
     ]
    },
    {
     "name": "stderr",
     "output_type": "stream",
     "text": [
      " 64%|██████▍   | 160/250 [01:57<01:05,  1.37it/s]"
     ]
    },
    {
     "name": "stdout",
     "output_type": "stream",
     "text": [
      "{'epoch': 160, 'valid_accuracy': 0.751580426129712, 'best_valid_epoch': 159, 'best_valid_score': 0.7541559353781316, 'test_accuracy': 0.7506020469596628, 'selected_test_score': 0.7543648404575557}\n"
     ]
    },
    {
     "name": "stderr",
     "output_type": "stream",
     "text": [
      " 64%|██████▍   | 161/250 [01:58<01:05,  1.37it/s]"
     ]
    },
    {
     "name": "stdout",
     "output_type": "stream",
     "text": [
      "{'epoch': 161, 'valid_accuracy': 0.7519316319363146, 'best_valid_epoch': 159, 'best_valid_score': 0.7541559353781316, 'test_accuracy': 0.75105358217941, 'selected_test_score': 0.7543648404575557}\n"
     ]
    },
    {
     "name": "stderr",
     "output_type": "stream",
     "text": [
      " 65%|██████▍   | 162/250 [01:59<01:06,  1.33it/s]"
     ]
    },
    {
     "name": "stdout",
     "output_type": "stream",
     "text": [
      "{'epoch': 162, 'valid_accuracy': 0.7546242097869351, 'best_valid_epoch': 162, 'best_valid_score': 0.7546242097869351, 'test_accuracy': 0.7522075055187638, 'selected_test_score': 0.7522075055187638}\n"
     ]
    },
    {
     "name": "stderr",
     "output_type": "stream",
     "text": [
      " 65%|██████▌   | 163/250 [01:59<01:04,  1.34it/s]"
     ]
    },
    {
     "name": "stdout",
     "output_type": "stream",
     "text": [
      "{'epoch': 163, 'valid_accuracy': 0.7562631702177476, 'best_valid_epoch': 163, 'best_valid_score': 0.7562631702177476, 'test_accuracy': 0.7550672285771624, 'selected_test_score': 0.7550672285771624}\n"
     ]
    },
    {
     "name": "stderr",
     "output_type": "stream",
     "text": [
      " 66%|██████▌   | 164/250 [02:00<01:03,  1.35it/s]"
     ]
    },
    {
     "name": "stdout",
     "output_type": "stream",
     "text": [
      "{'epoch': 164, 'valid_accuracy': 0.7539217981737298, 'best_valid_epoch': 163, 'best_valid_score': 0.7562631702177476, 'test_accuracy': 0.7575757575757576, 'selected_test_score': 0.7550672285771624}\n"
     ]
    },
    {
     "name": "stderr",
     "output_type": "stream",
     "text": [
      " 66%|██████▌   | 165/250 [02:01<01:02,  1.35it/s]"
     ]
    },
    {
     "name": "stdout",
     "output_type": "stream",
     "text": [
      "{'epoch': 165, 'valid_accuracy': 0.7514633575275111, 'best_valid_epoch': 163, 'best_valid_score': 0.7562631702177476, 'test_accuracy': 0.7492474413004214, 'selected_test_score': 0.7550672285771624}\n"
     ]
    },
    {
     "name": "stderr",
     "output_type": "stream",
     "text": [
      " 66%|██████▋   | 166/250 [02:02<01:01,  1.36it/s]"
     ]
    },
    {
     "name": "stdout",
     "output_type": "stream",
     "text": [
      "{'epoch': 166, 'valid_accuracy': 0.755794895808944, 'best_valid_epoch': 163, 'best_valid_score': 0.7562631702177476, 'test_accuracy': 0.7561208107565723, 'selected_test_score': 0.7550672285771624}\n"
     ]
    },
    {
     "name": "stderr",
     "output_type": "stream",
     "text": [
      " 67%|██████▋   | 167/250 [02:02<01:00,  1.36it/s]"
     ]
    },
    {
     "name": "stdout",
     "output_type": "stream",
     "text": [
      "{'epoch': 167, 'valid_accuracy': 0.7540388667759307, 'best_valid_epoch': 163, 'best_valid_score': 0.7562631702177476, 'test_accuracy': 0.7605859923740719, 'selected_test_score': 0.7550672285771624}\n"
     ]
    },
    {
     "name": "stderr",
     "output_type": "stream",
     "text": [
      " 67%|██████▋   | 168/250 [02:03<01:00,  1.36it/s]"
     ]
    },
    {
     "name": "stdout",
     "output_type": "stream",
     "text": [
      "{'epoch': 168, 'valid_accuracy': 0.7552095527979396, 'best_valid_epoch': 163, 'best_valid_score': 0.7562631702177476, 'test_accuracy': 0.7528095524784266, 'selected_test_score': 0.7550672285771624}\n"
     ]
    },
    {
     "name": "stderr",
     "output_type": "stream",
     "text": [
      " 68%|██████▊   | 169/250 [02:04<00:59,  1.36it/s]"
     ]
    },
    {
     "name": "stdout",
     "output_type": "stream",
     "text": [
      "{'epoch': 169, 'valid_accuracy': 0.7546242097869351, 'best_valid_epoch': 163, 'best_valid_score': 0.7562631702177476, 'test_accuracy': 0.7596829219345775, 'selected_test_score': 0.7550672285771624}\n"
     ]
    },
    {
     "name": "stderr",
     "output_type": "stream",
     "text": [
      " 68%|██████▊   | 170/250 [02:05<00:58,  1.37it/s]"
     ]
    },
    {
     "name": "stdout",
     "output_type": "stream",
     "text": [
      "{'epoch': 170, 'valid_accuracy': 0.7556778272067431, 'best_valid_epoch': 163, 'best_valid_score': 0.7562631702177476, 'test_accuracy': 0.7581778045354204, 'selected_test_score': 0.7550672285771624}\n"
     ]
    },
    {
     "name": "stderr",
     "output_type": "stream",
     "text": [
      " 68%|██████▊   | 171/250 [02:05<00:57,  1.37it/s]"
     ]
    },
    {
     "name": "stdout",
     "output_type": "stream",
     "text": [
      "{'epoch': 171, 'valid_accuracy': 0.7566143760243502, 'best_valid_epoch': 171, 'best_valid_score': 0.7566143760243502, 'test_accuracy': 0.7577262693156733, 'selected_test_score': 0.7577262693156733}\n"
     ]
    },
    {
     "name": "stderr",
     "output_type": "stream",
     "text": [
      " 69%|██████▉   | 172/250 [02:06<00:57,  1.37it/s]"
     ]
    },
    {
     "name": "stdout",
     "output_type": "stream",
     "text": [
      "{'epoch': 172, 'valid_accuracy': 0.7589557480683681, 'best_valid_epoch': 172, 'best_valid_score': 0.7589557480683681, 'test_accuracy': 0.7551675697371062, 'selected_test_score': 0.7551675697371062}\n"
     ]
    },
    {
     "name": "stderr",
     "output_type": "stream",
     "text": [
      " 69%|██████▉   | 173/250 [02:07<00:56,  1.37it/s]"
     ]
    },
    {
     "name": "stdout",
     "output_type": "stream",
     "text": [
      "{'epoch': 173, 'valid_accuracy': 0.7525169749473192, 'best_valid_epoch': 172, 'best_valid_score': 0.7589557480683681, 'test_accuracy': 0.7509532410194661, 'selected_test_score': 0.7551675697371062}\n"
     ]
    },
    {
     "name": "stderr",
     "output_type": "stream",
     "text": [
      " 70%|██████▉   | 174/250 [02:08<00:57,  1.33it/s]"
     ]
    },
    {
     "name": "stdout",
     "output_type": "stream",
     "text": [
      "{'epoch': 174, 'valid_accuracy': 0.7590728166705689, 'best_valid_epoch': 174, 'best_valid_score': 0.7590728166705689, 'test_accuracy': 0.7553180814770218, 'selected_test_score': 0.7553180814770218}\n"
     ]
    },
    {
     "name": "stderr",
     "output_type": "stream",
     "text": [
      " 70%|███████   | 175/250 [02:08<00:55,  1.34it/s]"
     ]
    },
    {
     "name": "stdout",
     "output_type": "stream",
     "text": [
      "{'epoch': 175, 'valid_accuracy': 0.7509950831187076, 'best_valid_epoch': 174, 'best_valid_score': 0.7590728166705689, 'test_accuracy': 0.7490969295605057, 'selected_test_score': 0.7553180814770218}\n"
     ]
    },
    {
     "name": "stderr",
     "output_type": "stream",
     "text": [
      " 70%|███████   | 176/250 [02:09<00:54,  1.35it/s]"
     ]
    },
    {
     "name": "stdout",
     "output_type": "stream",
     "text": [
      "{'epoch': 176, 'valid_accuracy': 0.7581362678529618, 'best_valid_epoch': 174, 'best_valid_score': 0.7590728166705689, 'test_accuracy': 0.7585791691751956, 'selected_test_score': 0.7553180814770218}\n"
     ]
    },
    {
     "name": "stderr",
     "output_type": "stream",
     "text": [
      " 71%|███████   | 177/250 [02:10<00:53,  1.36it/s]"
     ]
    },
    {
     "name": "stdout",
     "output_type": "stream",
     "text": [
      "{'epoch': 177, 'valid_accuracy': 0.7587216108639663, 'best_valid_epoch': 174, 'best_valid_score': 0.7590728166705689, 'test_accuracy': 0.7556692755368252, 'selected_test_score': 0.7553180814770218}\n"
     ]
    },
    {
     "name": "stderr",
     "output_type": "stream",
     "text": [
      " 71%|███████   | 178/250 [02:10<00:52,  1.36it/s]"
     ]
    },
    {
     "name": "stdout",
     "output_type": "stream",
     "text": [
      "{'epoch': 178, 'valid_accuracy': 0.7577850620463592, 'best_valid_epoch': 174, 'best_valid_score': 0.7590728166705689, 'test_accuracy': 0.7637467389123018, 'selected_test_score': 0.7553180814770218}\n"
     ]
    },
    {
     "name": "stderr",
     "output_type": "stream",
     "text": [
      " 72%|███████▏  | 179/250 [02:11<00:52,  1.36it/s]"
     ]
    },
    {
     "name": "stdout",
     "output_type": "stream",
     "text": [
      "{'epoch': 179, 'valid_accuracy': 0.7595410910793725, 'best_valid_epoch': 179, 'best_valid_score': 0.7595410910793725, 'test_accuracy': 0.7559702990166566, 'selected_test_score': 0.7559702990166566}\n"
     ]
    },
    {
     "name": "stderr",
     "output_type": "stream",
     "text": [
      " 72%|███████▏  | 180/250 [02:12<00:51,  1.36it/s]"
     ]
    },
    {
     "name": "stdout",
     "output_type": "stream",
     "text": [
      "{'epoch': 180, 'valid_accuracy': 0.7570826504331538, 'best_valid_epoch': 179, 'best_valid_score': 0.7595410910793725, 'test_accuracy': 0.7621412803532008, 'selected_test_score': 0.7559702990166566}\n"
     ]
    },
    {
     "name": "stderr",
     "output_type": "stream",
     "text": [
      " 72%|███████▏  | 181/250 [02:13<00:50,  1.37it/s]"
     ]
    },
    {
     "name": "stdout",
     "output_type": "stream",
     "text": [
      "{'epoch': 181, 'valid_accuracy': 0.7570826504331538, 'best_valid_epoch': 179, 'best_valid_score': 0.7595410910793725, 'test_accuracy': 0.7549167168372466, 'selected_test_score': 0.7559702990166566}\n"
     ]
    },
    {
     "name": "stderr",
     "output_type": "stream",
     "text": [
      " 73%|███████▎  | 182/250 [02:13<00:49,  1.37it/s]"
     ]
    },
    {
     "name": "stdout",
     "output_type": "stream",
     "text": [
      "{'epoch': 182, 'valid_accuracy': 0.7582533364551627, 'best_valid_epoch': 179, 'best_valid_score': 0.7595410910793725, 'test_accuracy': 0.7556692755368252, 'selected_test_score': 0.7559702990166566}\n"
     ]
    },
    {
     "name": "stderr",
     "output_type": "stream",
     "text": [
      " 73%|███████▎  | 183/250 [02:14<00:48,  1.37it/s]"
     ]
    },
    {
     "name": "stdout",
     "output_type": "stream",
     "text": [
      "{'epoch': 183, 'valid_accuracy': 0.7596581596815734, 'best_valid_epoch': 183, 'best_valid_score': 0.7596581596815734, 'test_accuracy': 0.7640979329721052, 'selected_test_score': 0.7640979329721052}\n"
     ]
    },
    {
     "name": "stderr",
     "output_type": "stream",
     "text": [
      " 74%|███████▎  | 184/250 [02:15<00:48,  1.37it/s]"
     ]
    },
    {
     "name": "stdout",
     "output_type": "stream",
     "text": [
      "{'epoch': 184, 'valid_accuracy': 0.7589557480683681, 'best_valid_epoch': 183, 'best_valid_score': 0.7596581596815734, 'test_accuracy': 0.7564720048163757, 'selected_test_score': 0.7640979329721052}\n"
     ]
    },
    {
     "name": "stderr",
     "output_type": "stream",
     "text": [
      " 74%|███████▍  | 185/250 [02:16<00:47,  1.37it/s]"
     ]
    },
    {
     "name": "stdout",
     "output_type": "stream",
     "text": [
      "{'epoch': 185, 'valid_accuracy': 0.7605947084991805, 'best_valid_epoch': 185, 'best_valid_score': 0.7605947084991805, 'test_accuracy': 0.7654525386313465, 'selected_test_score': 0.7654525386313465}\n"
     ]
    },
    {
     "name": "stderr",
     "output_type": "stream",
     "text": [
      " 74%|███████▍  | 186/250 [02:16<00:48,  1.33it/s]"
     ]
    },
    {
     "name": "stdout",
     "output_type": "stream",
     "text": [
      "{'epoch': 186, 'valid_accuracy': 0.7574338562397565, 'best_valid_epoch': 185, 'best_valid_score': 0.7605947084991805, 'test_accuracy': 0.7558197872767409, 'selected_test_score': 0.7654525386313465}\n"
     ]
    },
    {
     "name": "stderr",
     "output_type": "stream",
     "text": [
      " 75%|███████▍  | 187/250 [02:17<00:46,  1.34it/s]"
     ]
    },
    {
     "name": "stdout",
     "output_type": "stream",
     "text": [
      "{'epoch': 187, 'valid_accuracy': 0.7614141887145868, 'best_valid_epoch': 187, 'best_valid_score': 0.7614141887145868, 'test_accuracy': 0.7658037326911499, 'selected_test_score': 0.7658037326911499}\n"
     ]
    },
    {
     "name": "stderr",
     "output_type": "stream",
     "text": [
      " 75%|███████▌  | 188/250 [02:18<00:45,  1.35it/s]"
     ]
    },
    {
     "name": "stdout",
     "output_type": "stream",
     "text": [
      "{'epoch': 188, 'valid_accuracy': 0.7602435026925779, 'best_valid_epoch': 187, 'best_valid_score': 0.7614141887145868, 'test_accuracy': 0.758880192655027, 'selected_test_score': 0.7658037326911499}\n"
     ]
    },
    {
     "name": "stderr",
     "output_type": "stream",
     "text": [
      " 76%|███████▌  | 189/250 [02:19<00:45,  1.36it/s]"
     ]
    },
    {
     "name": "stdout",
     "output_type": "stream",
     "text": [
      "{'epoch': 189, 'valid_accuracy': 0.7598922968859751, 'best_valid_epoch': 187, 'best_valid_score': 0.7614141887145868, 'test_accuracy': 0.75737507525587, 'selected_test_score': 0.7658037326911499}\n"
     ]
    },
    {
     "name": "stderr",
     "output_type": "stream",
     "text": [
      " 76%|███████▌  | 190/250 [02:19<00:44,  1.36it/s]"
     ]
    },
    {
     "name": "stdout",
     "output_type": "stream",
     "text": [
      "{'epoch': 190, 'valid_accuracy': 0.7598922968859751, 'best_valid_epoch': 187, 'best_valid_score': 0.7614141887145868, 'test_accuracy': 0.7611880393337347, 'selected_test_score': 0.7658037326911499}\n"
     ]
    },
    {
     "name": "stderr",
     "output_type": "stream",
     "text": [
      " 76%|███████▋  | 191/250 [02:20<00:43,  1.36it/s]"
     ]
    },
    {
     "name": "stdout",
     "output_type": "stream",
     "text": [
      "{'epoch': 191, 'valid_accuracy': 0.7631702177476001, 'best_valid_epoch': 191, 'best_valid_score': 0.7631702177476001, 'test_accuracy': 0.7676098735701384, 'selected_test_score': 0.7676098735701384}\n"
     ]
    },
    {
     "name": "stderr",
     "output_type": "stream",
     "text": [
      " 77%|███████▋  | 192/250 [02:21<00:42,  1.36it/s]"
     ]
    },
    {
     "name": "stdout",
     "output_type": "stream",
     "text": [
      "{'epoch': 192, 'valid_accuracy': 0.7488878482790915, 'best_valid_epoch': 191, 'best_valid_score': 0.7631702177476001, 'test_accuracy': 0.7527593818984547, 'selected_test_score': 0.7676098735701384}\n"
     ]
    },
    {
     "name": "stderr",
     "output_type": "stream",
     "text": [
      " 77%|███████▋  | 193/250 [02:22<00:41,  1.36it/s]"
     ]
    },
    {
     "name": "stdout",
     "output_type": "stream",
     "text": [
      "{'epoch': 193, 'valid_accuracy': 0.7641067665652073, 'best_valid_epoch': 193, 'best_valid_score': 0.7641067665652073, 'test_accuracy': 0.7687136263295203, 'selected_test_score': 0.7687136263295203}\n"
     ]
    },
    {
     "name": "stderr",
     "output_type": "stream",
     "text": [
      " 78%|███████▊  | 194/250 [02:22<00:41,  1.37it/s]"
     ]
    },
    {
     "name": "stdout",
     "output_type": "stream",
     "text": [
      "{'epoch': 194, 'valid_accuracy': 0.7631702177476001, 'best_valid_epoch': 193, 'best_valid_score': 0.7641067665652073, 'test_accuracy': 0.767308850090307, 'selected_test_score': 0.7687136263295203}\n"
     ]
    },
    {
     "name": "stderr",
     "output_type": "stream",
     "text": [
      " 78%|███████▊  | 195/250 [02:23<00:40,  1.37it/s]"
     ]
    },
    {
     "name": "stdout",
     "output_type": "stream",
     "text": [
      "{'epoch': 195, 'valid_accuracy': 0.7609459143057832, 'best_valid_epoch': 193, 'best_valid_score': 0.7641067665652073, 'test_accuracy': 0.7665562913907285, 'selected_test_score': 0.7687136263295203}\n"
     ]
    },
    {
     "name": "stderr",
     "output_type": "stream",
     "text": [
      " 78%|███████▊  | 196/250 [02:24<00:39,  1.37it/s]"
     ]
    },
    {
     "name": "stdout",
     "output_type": "stream",
     "text": [
      "{'epoch': 196, 'valid_accuracy': 0.7564973074221494, 'best_valid_epoch': 193, 'best_valid_score': 0.7641067665652073, 'test_accuracy': 0.7554184226369657, 'selected_test_score': 0.7687136263295203}\n"
     ]
    },
    {
     "name": "stderr",
     "output_type": "stream",
     "text": [
      " 79%|███████▉  | 197/250 [02:24<00:38,  1.37it/s]"
     ]
    },
    {
     "name": "stdout",
     "output_type": "stream",
     "text": [
      "{'epoch': 197, 'valid_accuracy': 0.761180051510185, 'best_valid_epoch': 193, 'best_valid_score': 0.7641067665652073, 'test_accuracy': 0.7624423038330324, 'selected_test_score': 0.7687136263295203}\n"
     ]
    },
    {
     "name": "stderr",
     "output_type": "stream",
     "text": [
      " 79%|███████▉  | 198/250 [02:25<00:39,  1.33it/s]"
     ]
    },
    {
     "name": "stdout",
     "output_type": "stream",
     "text": [
      "{'epoch': 198, 'valid_accuracy': 0.7612971201123858, 'best_valid_epoch': 193, 'best_valid_score': 0.7641067665652073, 'test_accuracy': 0.7601344571543247, 'selected_test_score': 0.7687136263295203}\n"
     ]
    },
    {
     "name": "stderr",
     "output_type": "stream",
     "text": [
      " 80%|███████▉  | 199/250 [02:26<00:38,  1.34it/s]"
     ]
    },
    {
     "name": "stdout",
     "output_type": "stream",
     "text": [
      "{'epoch': 199, 'valid_accuracy': 0.7642238351674081, 'best_valid_epoch': 199, 'best_valid_score': 0.7642238351674081, 'test_accuracy': 0.7690146498093517, 'selected_test_score': 0.7690146498093517}\n"
     ]
    },
    {
     "name": "stderr",
     "output_type": "stream",
     "text": [
      " 80%|████████  | 200/250 [02:27<00:37,  1.35it/s]"
     ]
    },
    {
     "name": "stdout",
     "output_type": "stream",
     "text": [
      "{'epoch': 200, 'valid_accuracy': 0.7538047295715289, 'best_valid_epoch': 199, 'best_valid_score': 0.7642238351674081, 'test_accuracy': 0.7517057997190447, 'selected_test_score': 0.7690146498093517}\n"
     ]
    },
    {
     "name": "stderr",
     "output_type": "stream",
     "text": [
      " 80%|████████  | 201/250 [02:27<00:36,  1.35it/s]"
     ]
    },
    {
     "name": "stdout",
     "output_type": "stream",
     "text": [
      "{'epoch': 201, 'valid_accuracy': 0.7602435026925779, 'best_valid_epoch': 199, 'best_valid_score': 0.7642238351674081, 'test_accuracy': 0.7621914509331728, 'selected_test_score': 0.7690146498093517}\n"
     ]
    },
    {
     "name": "stderr",
     "output_type": "stream",
     "text": [
      " 81%|████████  | 202/250 [02:28<00:35,  1.36it/s]"
     ]
    },
    {
     "name": "stdout",
     "output_type": "stream",
     "text": [
      "{'epoch': 202, 'valid_accuracy': 0.7575509248419574, 'best_valid_epoch': 199, 'best_valid_score': 0.7642238351674081, 'test_accuracy': 0.7550672285771624, 'selected_test_score': 0.7690146498093517}\n"
     ]
    },
    {
     "name": "stderr",
     "output_type": "stream",
     "text": [
      " 81%|████████  | 203/250 [02:29<00:34,  1.36it/s]"
     ]
    },
    {
     "name": "stdout",
     "output_type": "stream",
     "text": [
      "{'epoch': 203, 'valid_accuracy': 0.7552095527979396, 'best_valid_epoch': 199, 'best_valid_score': 0.7642238351674081, 'test_accuracy': 0.7525586995785671, 'selected_test_score': 0.7690146498093517}\n"
     ]
    },
    {
     "name": "stderr",
     "output_type": "stream",
     "text": [
      " 82%|████████▏ | 204/250 [02:30<00:33,  1.36it/s]"
     ]
    },
    {
     "name": "stdout",
     "output_type": "stream",
     "text": [
      "{'epoch': 204, 'valid_accuracy': 0.7600093654881761, 'best_valid_epoch': 199, 'best_valid_score': 0.7642238351674081, 'test_accuracy': 0.7624423038330324, 'selected_test_score': 0.7690146498093517}\n"
     ]
    },
    {
     "name": "stderr",
     "output_type": "stream",
     "text": [
      " 82%|████████▏ | 205/250 [02:30<00:32,  1.37it/s]"
     ]
    },
    {
     "name": "stdout",
     "output_type": "stream",
     "text": [
      "{'epoch': 205, 'valid_accuracy': 0.760126434090377, 'best_valid_epoch': 199, 'best_valid_score': 0.7642238351674081, 'test_accuracy': 0.7629941802127232, 'selected_test_score': 0.7690146498093517}\n"
     ]
    },
    {
     "name": "stderr",
     "output_type": "stream",
     "text": [
      " 82%|████████▏ | 206/250 [02:31<00:32,  1.37it/s]"
     ]
    },
    {
     "name": "stdout",
     "output_type": "stream",
     "text": [
      "{'epoch': 206, 'valid_accuracy': 0.7590728166705689, 'best_valid_epoch': 199, 'best_valid_score': 0.7642238351674081, 'test_accuracy': 0.7606361629540438, 'selected_test_score': 0.7690146498093517}\n"
     ]
    },
    {
     "name": "stderr",
     "output_type": "stream",
     "text": [
      " 83%|████████▎ | 207/250 [02:32<00:31,  1.37it/s]"
     ]
    },
    {
     "name": "stdout",
     "output_type": "stream",
     "text": [
      "{'epoch': 207, 'valid_accuracy': 0.7618824631233903, 'best_valid_epoch': 199, 'best_valid_score': 0.7642238351674081, 'test_accuracy': 0.7641481035520771, 'selected_test_score': 0.7690146498093517}\n"
     ]
    },
    {
     "name": "stderr",
     "output_type": "stream",
     "text": [
      " 83%|████████▎ | 208/250 [02:33<00:30,  1.37it/s]"
     ]
    },
    {
     "name": "stdout",
     "output_type": "stream",
     "text": [
      "{'epoch': 208, 'valid_accuracy': 0.758019199250761, 'best_valid_epoch': 199, 'best_valid_score': 0.7642238351674081, 'test_accuracy': 0.7561208107565723, 'selected_test_score': 0.7690146498093517}\n"
     ]
    },
    {
     "name": "stderr",
     "output_type": "stream",
     "text": [
      " 84%|████████▎ | 209/250 [02:33<00:29,  1.37it/s]"
     ]
    },
    {
     "name": "stdout",
     "output_type": "stream",
     "text": [
      "{'epoch': 209, 'valid_accuracy': 0.7584874736595645, 'best_valid_epoch': 199, 'best_valid_score': 0.7642238351674081, 'test_accuracy': 0.7596327513546056, 'selected_test_score': 0.7690146498093517}\n"
     ]
    },
    {
     "name": "stderr",
     "output_type": "stream",
     "text": [
      " 84%|████████▍ | 210/250 [02:34<00:30,  1.33it/s]"
     ]
    },
    {
     "name": "stdout",
     "output_type": "stream",
     "text": [
      "{'epoch': 210, 'valid_accuracy': 0.7658627955982206, 'best_valid_epoch': 210, 'best_valid_score': 0.7658627955982206, 'test_accuracy': 0.7668573148705599, 'selected_test_score': 0.7668573148705599}\n"
     ]
    },
    {
     "name": "stderr",
     "output_type": "stream",
     "text": [
      " 84%|████████▍ | 211/250 [02:35<00:29,  1.34it/s]"
     ]
    },
    {
     "name": "stdout",
     "output_type": "stream",
     "text": [
      "{'epoch': 211, 'valid_accuracy': 0.7682041676422383, 'best_valid_epoch': 211, 'best_valid_score': 0.7682041676422383, 'test_accuracy': 0.7723259080874975, 'selected_test_score': 0.7723259080874975}\n"
     ]
    },
    {
     "name": "stderr",
     "output_type": "stream",
     "text": [
      " 85%|████████▍ | 212/250 [02:36<00:28,  1.35it/s]"
     ]
    },
    {
     "name": "stdout",
     "output_type": "stream",
     "text": [
      "{'epoch': 212, 'valid_accuracy': 0.7679700304378366, 'best_valid_epoch': 211, 'best_valid_score': 0.7682041676422383, 'test_accuracy': 0.772075055187638, 'selected_test_score': 0.7723259080874975}\n"
     ]
    },
    {
     "name": "stderr",
     "output_type": "stream",
     "text": [
      " 85%|████████▌ | 213/250 [02:36<00:27,  1.36it/s]"
     ]
    },
    {
     "name": "stdout",
     "output_type": "stream",
     "text": [
      "{'epoch': 213, 'valid_accuracy': 0.7663310700070242, 'best_valid_epoch': 211, 'best_valid_score': 0.7682041676422383, 'test_accuracy': 0.7680112382099137, 'selected_test_score': 0.7723259080874975}\n"
     ]
    },
    {
     "name": "stderr",
     "output_type": "stream",
     "text": [
      " 86%|████████▌ | 214/250 [02:37<00:26,  1.36it/s]"
     ]
    },
    {
     "name": "stdout",
     "output_type": "stream",
     "text": [
      "{'epoch': 214, 'valid_accuracy': 0.7694919222664481, 'best_valid_epoch': 214, 'best_valid_score': 0.7694919222664481, 'test_accuracy': 0.7711719847481436, 'selected_test_score': 0.7711719847481436}\n"
     ]
    },
    {
     "name": "stderr",
     "output_type": "stream",
     "text": [
      " 86%|████████▌ | 215/250 [02:38<00:25,  1.36it/s]"
     ]
    },
    {
     "name": "stdout",
     "output_type": "stream",
     "text": [
      "{'epoch': 215, 'valid_accuracy': 0.7575509248419574, 'best_valid_epoch': 214, 'best_valid_score': 0.7694919222664481, 'test_accuracy': 0.7552177403170781, 'selected_test_score': 0.7711719847481436}\n"
     ]
    },
    {
     "name": "stderr",
     "output_type": "stream",
     "text": [
      " 86%|████████▋ | 216/250 [02:38<00:24,  1.36it/s]"
     ]
    },
    {
     "name": "stdout",
     "output_type": "stream",
     "text": [
      "{'epoch': 216, 'valid_accuracy': 0.7598922968859751, 'best_valid_epoch': 214, 'best_valid_score': 0.7694919222664481, 'test_accuracy': 0.7629941802127232, 'selected_test_score': 0.7711719847481436}\n"
     ]
    },
    {
     "name": "stderr",
     "output_type": "stream",
     "text": [
      " 87%|████████▋ | 217/250 [02:39<00:24,  1.37it/s]"
     ]
    },
    {
     "name": "stdout",
     "output_type": "stream",
     "text": [
      "{'epoch': 217, 'valid_accuracy': 0.7583704050573636, 'best_valid_epoch': 214, 'best_valid_score': 0.7694919222664481, 'test_accuracy': 0.7581276339554486, 'selected_test_score': 0.7711719847481436}\n"
     ]
    },
    {
     "name": "stderr",
     "output_type": "stream",
     "text": [
      " 87%|████████▋ | 218/250 [02:40<00:23,  1.37it/s]"
     ]
    },
    {
     "name": "stdout",
     "output_type": "stream",
     "text": [
      "{'epoch': 218, 'valid_accuracy': 0.7671505502224304, 'best_valid_epoch': 214, 'best_valid_score': 0.7694919222664481, 'test_accuracy': 0.7685631145896047, 'selected_test_score': 0.7711719847481436}\n"
     ]
    },
    {
     "name": "stderr",
     "output_type": "stream",
     "text": [
      " 88%|████████▊ | 219/250 [02:41<00:22,  1.37it/s]"
     ]
    },
    {
     "name": "stdout",
     "output_type": "stream",
     "text": [
      "{'epoch': 219, 'valid_accuracy': 0.7564973074221494, 'best_valid_epoch': 214, 'best_valid_score': 0.7694919222664481, 'test_accuracy': 0.7552679108970499, 'selected_test_score': 0.7711719847481436}\n"
     ]
    },
    {
     "name": "stderr",
     "output_type": "stream",
     "text": [
      " 88%|████████▊ | 220/250 [02:41<00:21,  1.37it/s]"
     ]
    },
    {
     "name": "stdout",
     "output_type": "stream",
     "text": [
      "{'epoch': 220, 'valid_accuracy': 0.7581362678529618, 'best_valid_epoch': 214, 'best_valid_score': 0.7694919222664481, 'test_accuracy': 0.7613887216536224, 'selected_test_score': 0.7711719847481436}\n"
     ]
    },
    {
     "name": "stderr",
     "output_type": "stream",
     "text": [
      " 88%|████████▊ | 221/250 [02:42<00:21,  1.37it/s]"
     ]
    },
    {
     "name": "stdout",
     "output_type": "stream",
     "text": [
      "{'epoch': 221, 'valid_accuracy': 0.7583704050573636, 'best_valid_epoch': 214, 'best_valid_score': 0.7694919222664481, 'test_accuracy': 0.7600842865743528, 'selected_test_score': 0.7711719847481436}\n"
     ]
    },
    {
     "name": "stderr",
     "output_type": "stream",
     "text": [
      " 89%|████████▉ | 222/250 [02:43<00:21,  1.33it/s]"
     ]
    },
    {
     "name": "stdout",
     "output_type": "stream",
     "text": [
      "{'epoch': 222, 'valid_accuracy': 0.7583704050573636, 'best_valid_epoch': 214, 'best_valid_score': 0.7694919222664481, 'test_accuracy': 0.7618402568733694, 'selected_test_score': 0.7711719847481436}\n"
     ]
    },
    {
     "name": "stderr",
     "output_type": "stream",
     "text": [
      " 89%|████████▉ | 223/250 [02:44<00:20,  1.34it/s]"
     ]
    },
    {
     "name": "stdout",
     "output_type": "stream",
     "text": [
      "{'epoch': 223, 'valid_accuracy': 0.7618824631233903, 'best_valid_epoch': 214, 'best_valid_score': 0.7694919222664481, 'test_accuracy': 0.7652016857314871, 'selected_test_score': 0.7711719847481436}\n"
     ]
    },
    {
     "name": "stderr",
     "output_type": "stream",
     "text": [
      " 90%|████████▉ | 224/250 [02:44<00:19,  1.35it/s]"
     ]
    },
    {
     "name": "stdout",
     "output_type": "stream",
     "text": [
      "{'epoch': 224, 'valid_accuracy': 0.7586045422617654, 'best_valid_epoch': 214, 'best_valid_score': 0.7694919222664481, 'test_accuracy': 0.7601846277342966, 'selected_test_score': 0.7711719847481436}\n"
     ]
    },
    {
     "name": "stderr",
     "output_type": "stream",
     "text": [
      " 90%|█████████ | 225/250 [02:45<00:18,  1.36it/s]"
     ]
    },
    {
     "name": "stdout",
     "output_type": "stream",
     "text": [
      "{'epoch': 225, 'valid_accuracy': 0.764340903769609, 'best_valid_epoch': 214, 'best_valid_score': 0.7694919222664481, 'test_accuracy': 0.7679610676299418, 'selected_test_score': 0.7711719847481436}\n"
     ]
    },
    {
     "name": "stderr",
     "output_type": "stream",
     "text": [
      " 90%|█████████ | 226/250 [02:46<00:17,  1.36it/s]"
     ]
    },
    {
     "name": "stdout",
     "output_type": "stream",
     "text": [
      "{'epoch': 226, 'valid_accuracy': 0.7470147506438773, 'best_valid_epoch': 214, 'best_valid_score': 0.7694919222664481, 'test_accuracy': 0.7470901063616295, 'selected_test_score': 0.7711719847481436}\n"
     ]
    },
    {
     "name": "stderr",
     "output_type": "stream",
     "text": [
      " 91%|█████████ | 227/250 [02:47<00:16,  1.36it/s]"
     ]
    },
    {
     "name": "stdout",
     "output_type": "stream",
     "text": [
      "{'epoch': 227, 'valid_accuracy': 0.7656286583938188, 'best_valid_epoch': 214, 'best_valid_score': 0.7694919222664481, 'test_accuracy': 0.7667569737106161, 'selected_test_score': 0.7711719847481436}\n"
     ]
    },
    {
     "name": "stderr",
     "output_type": "stream",
     "text": [
      " 91%|█████████ | 228/250 [02:47<00:16,  1.36it/s]"
     ]
    },
    {
     "name": "stdout",
     "output_type": "stream",
     "text": [
      "{'epoch': 228, 'valid_accuracy': 0.7538047295715289, 'best_valid_epoch': 214, 'best_valid_score': 0.7694919222664481, 'test_accuracy': 0.7532610876981738, 'selected_test_score': 0.7711719847481436}\n"
     ]
    },
    {
     "name": "stderr",
     "output_type": "stream",
     "text": [
      " 92%|█████████▏| 229/250 [02:48<00:15,  1.37it/s]"
     ]
    },
    {
     "name": "stdout",
     "output_type": "stream",
     "text": [
      "{'epoch': 229, 'valid_accuracy': 0.7705455396862562, 'best_valid_epoch': 229, 'best_valid_score': 0.7705455396862562, 'test_accuracy': 0.7738811960666265, 'selected_test_score': 0.7738811960666265}\n"
     ]
    },
    {
     "name": "stderr",
     "output_type": "stream",
     "text": [
      " 92%|█████████▏| 230/250 [02:49<00:14,  1.37it/s]"
     ]
    },
    {
     "name": "stdout",
     "output_type": "stream",
     "text": [
      "{'epoch': 230, 'valid_accuracy': 0.7595410910793725, 'best_valid_epoch': 229, 'best_valid_score': 0.7705455396862562, 'test_accuracy': 0.7622917920931166, 'selected_test_score': 0.7738811960666265}\n"
     ]
    },
    {
     "name": "stderr",
     "output_type": "stream",
     "text": [
      " 92%|█████████▏| 231/250 [02:49<00:13,  1.37it/s]"
     ]
    },
    {
     "name": "stdout",
     "output_type": "stream",
     "text": [
      "{'epoch': 231, 'valid_accuracy': 0.762116600327792, 'best_valid_epoch': 229, 'best_valid_score': 0.7705455396862562, 'test_accuracy': 0.765251856311459, 'selected_test_score': 0.7738811960666265}\n"
     ]
    },
    {
     "name": "stderr",
     "output_type": "stream",
     "text": [
      " 93%|█████████▎| 232/250 [02:50<00:13,  1.37it/s]"
     ]
    },
    {
     "name": "stdout",
     "output_type": "stream",
     "text": [
      "{'epoch': 232, 'valid_accuracy': 0.7586045422617654, 'best_valid_epoch': 229, 'best_valid_score': 0.7705455396862562, 'test_accuracy': 0.7609873570138471, 'selected_test_score': 0.7738811960666265}\n"
     ]
    },
    {
     "name": "stderr",
     "output_type": "stream",
     "text": [
      " 93%|█████████▎| 233/250 [02:51<00:12,  1.37it/s]"
     ]
    },
    {
     "name": "stdout",
     "output_type": "stream",
     "text": [
      "{'epoch': 233, 'valid_accuracy': 0.7699601966752517, 'best_valid_epoch': 229, 'best_valid_score': 0.7705455396862562, 'test_accuracy': 0.7742323901264299, 'selected_test_score': 0.7738811960666265}\n"
     ]
    },
    {
     "name": "stderr",
     "output_type": "stream",
     "text": [
      " 94%|█████████▎| 234/250 [02:52<00:12,  1.33it/s]"
     ]
    },
    {
     "name": "stdout",
     "output_type": "stream",
     "text": [
      "{'epoch': 234, 'valid_accuracy': 0.7587216108639663, 'best_valid_epoch': 229, 'best_valid_score': 0.7705455396862562, 'test_accuracy': 0.7603351394742123, 'selected_test_score': 0.7738811960666265}\n"
     ]
    },
    {
     "name": "stderr",
     "output_type": "stream",
     "text": [
      " 94%|█████████▍| 235/250 [02:52<00:11,  1.34it/s]"
     ]
    },
    {
     "name": "stdout",
     "output_type": "stream",
     "text": [
      "{'epoch': 235, 'valid_accuracy': 0.7683212362444393, 'best_valid_epoch': 229, 'best_valid_score': 0.7705455396862562, 'test_accuracy': 0.7692655027092113, 'selected_test_score': 0.7738811960666265}\n"
     ]
    },
    {
     "name": "stderr",
     "output_type": "stream",
     "text": [
      " 94%|█████████▍| 236/250 [02:53<00:10,  1.35it/s]"
     ]
    },
    {
     "name": "stdout",
     "output_type": "stream",
     "text": [
      "{'epoch': 236, 'valid_accuracy': 0.7541559353781316, 'best_valid_epoch': 229, 'best_valid_score': 0.7705455396862562, 'test_accuracy': 0.7540638169777243, 'selected_test_score': 0.7738811960666265}\n"
     ]
    },
    {
     "name": "stderr",
     "output_type": "stream",
     "text": [
      " 95%|█████████▍| 237/250 [02:54<00:09,  1.35it/s]"
     ]
    },
    {
     "name": "stdout",
     "output_type": "stream",
     "text": [
      "{'epoch': 237, 'valid_accuracy': 0.7732381175368767, 'best_valid_epoch': 237, 'best_valid_score': 0.7732381175368767, 'test_accuracy': 0.7750852899859523, 'selected_test_score': 0.7750852899859523}\n"
     ]
    },
    {
     "name": "stderr",
     "output_type": "stream",
     "text": [
      " 95%|█████████▌| 238/250 [02:55<00:08,  1.36it/s]"
     ]
    },
    {
     "name": "stdout",
     "output_type": "stream",
     "text": [
      "{'epoch': 238, 'valid_accuracy': 0.7604776398969796, 'best_valid_epoch': 237, 'best_valid_score': 0.7732381175368767, 'test_accuracy': 0.7626931567328918, 'selected_test_score': 0.7750852899859523}\n"
     ]
    },
    {
     "name": "stderr",
     "output_type": "stream",
     "text": [
      " 96%|█████████▌| 239/250 [02:55<00:08,  1.36it/s]"
     ]
    },
    {
     "name": "stdout",
     "output_type": "stream",
     "text": [
      "{'epoch': 239, 'valid_accuracy': 0.7711308826972606, 'best_valid_epoch': 237, 'best_valid_score': 0.7732381175368767, 'test_accuracy': 0.7754364840457556, 'selected_test_score': 0.7750852899859523}\n"
     ]
    },
    {
     "name": "stderr",
     "output_type": "stream",
     "text": [
      " 96%|█████████▌| 240/250 [02:56<00:07,  1.36it/s]"
     ]
    },
    {
     "name": "stdout",
     "output_type": "stream",
     "text": [
      "{'epoch': 240, 'valid_accuracy': 0.7538047295715289, 'best_valid_epoch': 237, 'best_valid_score': 0.7732381175368767, 'test_accuracy': 0.7530102347983143, 'selected_test_score': 0.7750852899859523}\n"
     ]
    },
    {
     "name": "stderr",
     "output_type": "stream",
     "text": [
      " 96%|█████████▋| 241/250 [02:57<00:06,  1.36it/s]"
     ]
    },
    {
     "name": "stdout",
     "output_type": "stream",
     "text": [
      "{'epoch': 241, 'valid_accuracy': 0.7682041676422383, 'best_valid_epoch': 237, 'best_valid_score': 0.7732381175368767, 'test_accuracy': 0.7707706201083685, 'selected_test_score': 0.7750852899859523}\n"
     ]
    },
    {
     "name": "stderr",
     "output_type": "stream",
     "text": [
      " 97%|█████████▋| 242/250 [02:58<00:05,  1.37it/s]"
     ]
    },
    {
     "name": "stdout",
     "output_type": "stream",
     "text": [
      "{'epoch': 242, 'valid_accuracy': 0.7603605712947787, 'best_valid_epoch': 237, 'best_valid_score': 0.7732381175368767, 'test_accuracy': 0.7641481035520771, 'selected_test_score': 0.7750852899859523}\n"
     ]
    },
    {
     "name": "stderr",
     "output_type": "stream",
     "text": [
      " 97%|█████████▋| 243/250 [02:58<00:05,  1.37it/s]"
     ]
    },
    {
     "name": "stdout",
     "output_type": "stream",
     "text": [
      "{'epoch': 243, 'valid_accuracy': 0.7720674315148677, 'best_valid_epoch': 237, 'best_valid_score': 0.7732381175368767, 'test_accuracy': 0.772024884607666, 'selected_test_score': 0.7750852899859523}\n"
     ]
    },
    {
     "name": "stderr",
     "output_type": "stream",
     "text": [
      " 98%|█████████▊| 244/250 [02:59<00:04,  1.37it/s]"
     ]
    },
    {
     "name": "stdout",
     "output_type": "stream",
     "text": [
      "{'epoch': 244, 'valid_accuracy': 0.7711308826972606, 'best_valid_epoch': 237, 'best_valid_score': 0.7732381175368767, 'test_accuracy': 0.7752859723058398, 'selected_test_score': 0.7750852899859523}\n"
     ]
    },
    {
     "name": "stderr",
     "output_type": "stream",
     "text": [
      " 98%|█████████▊| 245/250 [03:00<00:03,  1.37it/s]"
     ]
    },
    {
     "name": "stdout",
     "output_type": "stream",
     "text": [
      "{'epoch': 245, 'valid_accuracy': 0.770662608288457, 'best_valid_epoch': 237, 'best_valid_score': 0.7732381175368767, 'test_accuracy': 0.7761388721653623, 'selected_test_score': 0.7750852899859523}\n"
     ]
    },
    {
     "name": "stderr",
     "output_type": "stream",
     "text": [
      " 98%|█████████▊| 246/250 [03:01<00:03,  1.33it/s]"
     ]
    },
    {
     "name": "stdout",
     "output_type": "stream",
     "text": [
      "{'epoch': 246, 'valid_accuracy': 0.7619995317255912, 'best_valid_epoch': 237, 'best_valid_score': 0.7732381175368767, 'test_accuracy': 0.7659542444310656, 'selected_test_score': 0.7750852899859523}\n"
     ]
    },
    {
     "name": "stderr",
     "output_type": "stream",
     "text": [
      " 99%|█████████▉| 247/250 [03:01<00:02,  1.34it/s]"
     ]
    },
    {
     "name": "stdout",
     "output_type": "stream",
     "text": [
      "{'epoch': 247, 'valid_accuracy': 0.7724186373214704, 'best_valid_epoch': 237, 'best_valid_score': 0.7732381175368767, 'test_accuracy': 0.7752358017258679, 'selected_test_score': 0.7750852899859523}\n"
     ]
    },
    {
     "name": "stderr",
     "output_type": "stream",
     "text": [
      " 99%|█████████▉| 248/250 [03:02<00:01,  1.35it/s]"
     ]
    },
    {
     "name": "stdout",
     "output_type": "stream",
     "text": [
      "{'epoch': 248, 'valid_accuracy': 0.7733551861390775, 'best_valid_epoch': 248, 'best_valid_score': 0.7733551861390775, 'test_accuracy': 0.7729781256271322, 'selected_test_score': 0.7729781256271322}\n"
     ]
    },
    {
     "name": "stderr",
     "output_type": "stream",
     "text": [
      "100%|█████████▉| 249/250 [03:03<00:00,  1.35it/s]"
     ]
    },
    {
     "name": "stdout",
     "output_type": "stream",
     "text": [
      "{'epoch': 249, 'valid_accuracy': 0.7553266214001405, 'best_valid_epoch': 248, 'best_valid_score': 0.7733551861390775, 'test_accuracy': 0.7543648404575557, 'selected_test_score': 0.7729781256271322}\n"
     ]
    },
    {
     "name": "stderr",
     "output_type": "stream",
     "text": [
      "100%|██████████| 250/250 [03:04<00:00,  1.36it/s]"
     ]
    },
    {
     "name": "stdout",
     "output_type": "stream",
     "text": [
      "{'epoch': 250, 'valid_accuracy': 0.7577850620463592, 'best_valid_epoch': 248, 'best_valid_score': 0.7733551861390775, 'test_accuracy': 0.7603351394742123, 'selected_test_score': 0.7729781256271322}\n"
     ]
    },
    {
     "name": "stderr",
     "output_type": "stream",
     "text": [
      "\n"
     ]
    }
   ],
   "source": [
    "args = Config()\n",
    "set_random_seed()\n",
    "\n",
    "data_dict = load_pkl_data(Path(args.data_dir, args.data_id, '0.pkl'))\n",
    "n_class = data_dict['label_cat_count']\n",
    "task = 'r' if n_class == -1 else 'c'\n",
    "\n",
    "target_transform = args.target_transform if task == 'r' else False\n",
    "train_X = data_dict['x_train']\n",
    "train_y = data_dict['y_train' if not target_transform else 'y_train_transform']\n",
    "valid_X = data_dict['x_val']\n",
    "valid_y = data_dict['y_val' if not target_transform else 'y_val_transform']\n",
    "test_X = data_dict['x_test']\n",
    "test_y = data_dict['y_test' if not target_transform else 'y_test_transform']\n",
    "\n",
    "data_args = {\n",
    "    'n_feature': train_X.shape[1],\n",
    "    'n_train': train_X.shape[0],\n",
    "    'n_valid': valid_X.shape[0],\n",
    "    'n_test': test_X.shape[0],\n",
    "}\n",
    "\n",
    "model_params = {\n",
    "    'category_column_count': data_dict['col_cat_count'],\n",
    "}\n",
    "if n_class != -1:\n",
    "    model_params['n_class'] = n_class\n",
    "\n",
    "\n",
    "model = DOFENClassifier(**model_params)\n",
    "eval_funs = cls_eval_funs\n",
    "metrics = 'accuracy'\n",
    "\n",
    "wandb = None\n",
    "trainer = Trainer(\n",
    "    model,\n",
    "    batch_size=args.batch_size,\n",
    "    n_epoch=args.n_epoch,\n",
    "    eval_funs=eval_funs,\n",
    "    metric=metrics,\n",
    "    logger=wandb,\n",
    ")\n",
    "trainer.fit(\n",
    "    train_X=train_X, train_y=train_y,\n",
    "    valid_X=valid_X, valid_y=valid_y,\n",
    "    test_X=test_X, test_y=test_y,\n",
    ")"
   ]
  },
  {
   "cell_type": "code",
   "execution_count": 75,
   "metadata": {},
   "outputs": [
    {
     "data": {
      "text/plain": [
       "DOFENClassifier(\n",
       "  (condition_generation): ConditionGeneration(\n",
       "    (phi_1): ModuleDict(\n",
       "      (num): Sequential(\n",
       "        (0): Reshape()\n",
       "        (1): FastGroupConv1d(7, 448, kernel_size=(1,), stride=(1,), groups=7)\n",
       "        (2): Sigmoid()\n",
       "        (3): Reshape()\n",
       "      )\n",
       "    )\n",
       "  )\n",
       "  (proj): Linear(in_features=1, out_features=16, bias=True)\n",
       "  (rodt_construction): rODTConstruction()\n",
       "  (norm): LayerNorm((16,), eps=1e-05, elementwise_affine=True)\n",
       "  (attn): MultiheadAttention(\n",
       "    (qw_proj): Linear(in_features=16, out_features=16, bias=True)\n",
       "    (kw_proj): Linear(in_features=16, out_features=16, bias=True)\n",
       "    (vw_proj): Linear(in_features=16, out_features=16, bias=True)\n",
       "    (ow_proj): Linear(in_features=16, out_features=1, bias=True)\n",
       "    (qE_proj): Linear(in_features=16, out_features=16, bias=True)\n",
       "    (kE_proj): Linear(in_features=16, out_features=16, bias=True)\n",
       "    (vE_proj): Linear(in_features=16, out_features=16, bias=True)\n",
       "    (oE_proj): Linear(in_features=16, out_features=16, bias=True)\n",
       "    (dropout): Dropout(p=0.2, inplace=False)\n",
       "  )\n",
       "  (rodt_forest_construction): rODTForestConstruction()\n",
       "  (rodt_forest_bagging): rODTForestBagging(\n",
       "    (phi_3): Sequential(\n",
       "      (0): LayerNorm((16,), eps=1e-05, elementwise_affine=True)\n",
       "      (1): Dropout(p=0.0, inplace=False)\n",
       "      (2): Linear(in_features=16, out_features=16, bias=True)\n",
       "      (3): ReLU()\n",
       "      (4): LayerNorm((16,), eps=1e-05, elementwise_affine=True)\n",
       "      (5): Dropout(p=0.0, inplace=False)\n",
       "      (6): Linear(in_features=16, out_features=2, bias=True)\n",
       "    )\n",
       "  )\n",
       "  (act): ReGLU()\n",
       ")"
      ]
     },
     "execution_count": 75,
     "metadata": {},
     "output_type": "execute_result"
    }
   ],
   "source": [
    "model"
   ]
  },
  {
   "cell_type": "code",
   "execution_count": 63,
   "metadata": {},
   "outputs": [
    {
     "data": {
      "text/plain": [
       "MultiheadAttention(\n",
       "  (qw_proj): Linear(in_features=16, out_features=16, bias=True)\n",
       "  (kw_proj): Linear(in_features=16, out_features=16, bias=True)\n",
       "  (vw_proj): Linear(in_features=16, out_features=16, bias=True)\n",
       "  (ow_proj): Linear(in_features=16, out_features=1, bias=True)\n",
       "  (qE_proj): Linear(in_features=16, out_features=16, bias=True)\n",
       "  (kE_proj): Linear(in_features=16, out_features=16, bias=True)\n",
       "  (vE_proj): Linear(in_features=16, out_features=16, bias=True)\n",
       "  (oE_proj): Linear(in_features=16, out_features=16, bias=True)\n",
       "  (dropout): Dropout(p=0.2, inplace=False)\n",
       ")"
      ]
     },
     "execution_count": 63,
     "metadata": {},
     "output_type": "execute_result"
    }
   ],
   "source": [
    "model.attn"
   ]
  },
  {
   "cell_type": "code",
   "execution_count": 64,
   "metadata": {},
   "outputs": [
    {
     "data": {
      "text/plain": [
       "{'pred': tensor([[ 0.2464,  0.0590],\n",
       "         [-0.5380,  1.1692],\n",
       "         [ 0.2164,  0.1967],\n",
       "         [ 0.6682, -0.6180],\n",
       "         [ 1.0577, -1.0969],\n",
       "         [ 0.6896, -0.6419],\n",
       "         [ 1.0186, -1.0187],\n",
       "         [ 1.1412, -1.2141],\n",
       "         [ 0.3392, -0.0855],\n",
       "         [ 0.9673, -1.0927],\n",
       "         [ 0.5967, -0.4012],\n",
       "         [-0.3925,  1.0767],\n",
       "         [ 1.0105, -1.0750],\n",
       "         [-0.9391,  1.6181],\n",
       "         [ 0.1245,  0.2889],\n",
       "         [ 0.3975, -0.1869],\n",
       "         [ 0.3330, -0.0569],\n",
       "         [ 0.2085,  0.1799],\n",
       "         [ 0.3003, -0.0284],\n",
       "         [-0.8618,  1.4978],\n",
       "         [-0.9471,  1.6148],\n",
       "         [ 0.9647, -1.0814],\n",
       "         [ 0.6192, -0.5106],\n",
       "         [-0.8640,  1.5417],\n",
       "         [ 0.4123, -0.0875],\n",
       "         [ 0.9487, -1.0439],\n",
       "         [ 0.2228,  0.1897],\n",
       "         [-0.5909,  1.2093],\n",
       "         [-0.1680,  0.7478],\n",
       "         [ 0.7082, -0.6771],\n",
       "         [ 0.8036, -0.7792],\n",
       "         [ 0.0167,  0.4327],\n",
       "         [ 1.0330, -1.1069],\n",
       "         [ 1.2381, -1.3095],\n",
       "         [-0.3179,  0.9177],\n",
       "         [-0.4425,  1.0591],\n",
       "         [-0.1055,  0.7848],\n",
       "         [-0.6527,  1.4041],\n",
       "         [ 0.6686, -0.5551],\n",
       "         [ 0.5962, -0.5290],\n",
       "         [ 0.4839, -0.3511],\n",
       "         [ 0.5554, -0.4300],\n",
       "         [ 0.4792, -0.1689],\n",
       "         [ 0.4901, -0.3063],\n",
       "         [-0.0726,  0.6653],\n",
       "         [ 0.6600, -0.5084],\n",
       "         [ 1.0286, -1.1795],\n",
       "         [ 0.2563,  0.1082],\n",
       "         [-0.4982,  1.1920],\n",
       "         [ 1.1320, -1.1673],\n",
       "         [ 0.3323, -0.0748],\n",
       "         [-0.4958,  1.2513],\n",
       "         [-0.8256,  1.4549],\n",
       "         [ 0.6161, -0.5184],\n",
       "         [-0.9254,  1.6887],\n",
       "         [ 0.6963, -0.6208],\n",
       "         [ 0.6233, -0.4576],\n",
       "         [-0.1684,  0.7043],\n",
       "         [-0.8870,  1.5932],\n",
       "         [-0.8625,  1.5342],\n",
       "         [ 0.6868, -0.6536],\n",
       "         [ 0.2944,  0.0492],\n",
       "         [ 0.5365, -0.3082],\n",
       "         [ 0.5850, -0.4158],\n",
       "         [ 0.4857, -0.3107],\n",
       "         [-0.6526,  1.2805],\n",
       "         [ 0.3264, -0.0240],\n",
       "         [-0.7888,  1.4171],\n",
       "         [ 0.7691, -0.7674],\n",
       "         [ 0.3433,  0.0479],\n",
       "         [ 0.0187,  0.4928],\n",
       "         [ 0.1300,  0.3510],\n",
       "         [ 0.5929, -0.4977],\n",
       "         [ 0.2061,  0.2535],\n",
       "         [ 0.0705,  0.3910],\n",
       "         [ 1.1538, -1.2843],\n",
       "         [-0.8712,  1.5313],\n",
       "         [ 0.7618, -0.7528],\n",
       "         [-0.8376,  1.4787],\n",
       "         [-0.8398,  1.4911],\n",
       "         [ 0.9590, -0.9380],\n",
       "         [ 0.2309,  0.1571],\n",
       "         [-0.0529,  0.6608],\n",
       "         [ 0.4027, -0.1946],\n",
       "         [ 1.1235, -1.1818],\n",
       "         [-0.3057,  1.0189],\n",
       "         [ 0.9065, -1.0003],\n",
       "         [ 0.2945,  0.0932],\n",
       "         [ 0.0024,  0.4682],\n",
       "         [-0.9549,  1.6727],\n",
       "         [ 0.4214, -0.2255],\n",
       "         [ 0.7191, -0.6541],\n",
       "         [-0.0846,  0.7385],\n",
       "         [-0.3799,  0.9916],\n",
       "         [ 0.8999, -0.9870],\n",
       "         [-0.7909,  1.4280],\n",
       "         [-0.9229,  1.5843],\n",
       "         [ 0.2071,  0.1698],\n",
       "         [-0.7147,  1.3546],\n",
       "         [-0.5019,  1.1870],\n",
       "         [ 0.2799,  0.0653],\n",
       "         [-0.7615,  1.4080],\n",
       "         [-0.8841,  1.5545],\n",
       "         [-0.3347,  0.9669],\n",
       "         [ 0.3331, -0.0633],\n",
       "         [ 0.7326, -0.6565],\n",
       "         [ 0.7630, -0.6722],\n",
       "         [ 1.0795, -1.2039],\n",
       "         [ 0.4475, -0.2665],\n",
       "         [ 0.9034, -0.9632],\n",
       "         [ 0.6936, -0.5983],\n",
       "         [-0.8476,  1.5627],\n",
       "         [ 0.4361, -0.1933],\n",
       "         [-0.4001,  1.0320],\n",
       "         [ 0.0130,  0.5543],\n",
       "         [ 0.4991, -0.2878],\n",
       "         [-0.0146,  0.6267],\n",
       "         [ 0.1641,  0.2095],\n",
       "         [-0.8225,  1.5424],\n",
       "         [-0.2558,  0.9339],\n",
       "         [-0.7303,  1.3603],\n",
       "         [ 0.7892, -0.6839],\n",
       "         [ 0.2595,  0.2559],\n",
       "         [ 0.4918, -0.2347],\n",
       "         [ 0.3679, -0.0122],\n",
       "         [-0.2704,  0.9127],\n",
       "         [-0.3470,  0.9340],\n",
       "         [-0.1078,  0.7558],\n",
       "         [ 0.7981, -0.6331],\n",
       "         [-0.8746,  1.5613],\n",
       "         [-0.9964,  1.6958],\n",
       "         [ 0.3611,  0.0558],\n",
       "         [ 1.2252, -1.2963],\n",
       "         [ 0.7246, -0.7176],\n",
       "         [ 0.3146, -0.0684],\n",
       "         [ 0.1051,  0.3146],\n",
       "         [ 1.2270, -1.3136],\n",
       "         [ 1.0157, -1.1559],\n",
       "         [ 1.0171, -1.0125],\n",
       "         [-0.8447,  1.4975],\n",
       "         [-0.8143,  1.5174],\n",
       "         [-0.8805,  1.5475],\n",
       "         [ 0.9909, -1.1201],\n",
       "         [-0.3961,  1.0833],\n",
       "         [ 0.8790, -0.9493],\n",
       "         [ 0.5199, -0.3095],\n",
       "         [-0.7316,  1.3569],\n",
       "         [ 0.5913, -0.4711],\n",
       "         [-0.9564,  1.6499],\n",
       "         [ 0.9491, -1.0084],\n",
       "         [ 0.4058, -0.1314],\n",
       "         [ 0.1664,  0.2843],\n",
       "         [-0.6926,  1.4001],\n",
       "         [ 0.2672,  0.1386],\n",
       "         [ 0.5147, -0.3261],\n",
       "         [-0.1376,  0.7269],\n",
       "         [ 0.9750, -1.0731],\n",
       "         [-0.1692,  0.7804],\n",
       "         [ 0.2950,  0.0159],\n",
       "         [ 0.5257, -0.4203],\n",
       "         [ 1.2388, -1.3385],\n",
       "         [-0.8092,  1.4495],\n",
       "         [-0.8450,  1.4880],\n",
       "         [ 0.1952,  0.1984],\n",
       "         [ 0.6555, -0.6075],\n",
       "         [-0.4232,  1.0823],\n",
       "         [ 0.5489, -0.2786],\n",
       "         [-0.6957,  1.2982],\n",
       "         [ 0.3629, -0.1382],\n",
       "         [ 1.2471, -1.2869],\n",
       "         [ 0.3793, -0.0209],\n",
       "         [-0.8562,  1.5880],\n",
       "         [-0.6630,  1.4557],\n",
       "         [ 0.8524, -0.9131],\n",
       "         [ 0.8790, -0.8424],\n",
       "         [-0.6830,  1.4165],\n",
       "         [ 0.4288,  0.0426],\n",
       "         [ 0.6912, -0.6332],\n",
       "         [ 0.7407, -0.7156],\n",
       "         [-0.7714,  1.4572],\n",
       "         [ 0.5329, -0.3769],\n",
       "         [ 0.3578, -0.0764],\n",
       "         [ 1.1971, -1.2660],\n",
       "         [ 0.0590,  0.5020],\n",
       "         [ 0.5709, -0.3804],\n",
       "         [-0.2022,  0.7741],\n",
       "         [ 0.1482,  0.2311],\n",
       "         [ 0.9377, -1.0313],\n",
       "         [ 0.6319, -0.5629],\n",
       "         [-0.7474,  1.4556],\n",
       "         [-0.3508,  1.0354],\n",
       "         [ 0.4919, -0.1596],\n",
       "         [ 1.0003, -0.9541],\n",
       "         [ 0.6877, -0.5851],\n",
       "         [-0.7189,  1.3394],\n",
       "         [-0.8598,  1.4992],\n",
       "         [ 1.1416, -1.2756],\n",
       "         [-0.8197,  1.4518],\n",
       "         [ 0.1482,  0.3160],\n",
       "         [ 0.6269, -0.5181],\n",
       "         [ 1.0065, -0.9602],\n",
       "         [-0.4270,  1.0760],\n",
       "         [ 0.7222, -0.6501],\n",
       "         [ 0.8846, -0.7737],\n",
       "         [-0.1867,  0.7846],\n",
       "         [ 0.3547, -0.0965],\n",
       "         [ 1.0734, -1.2401],\n",
       "         [-0.6356,  1.2397],\n",
       "         [ 0.2578,  0.1089],\n",
       "         [ 0.7272, -0.7013],\n",
       "         [ 0.9383, -0.9848],\n",
       "         [ 0.8122, -0.8594],\n",
       "         [ 0.3363,  0.0673],\n",
       "         [ 1.1089, -1.2002],\n",
       "         [ 0.4620, -0.1215],\n",
       "         [ 0.2537,  0.1172],\n",
       "         [ 0.6529, -0.5923],\n",
       "         [-0.7199,  1.3609],\n",
       "         [ 0.7905, -0.6766],\n",
       "         [ 0.6196, -0.5059],\n",
       "         [ 0.1473,  0.3277],\n",
       "         [ 0.7494, -0.6823],\n",
       "         [ 1.1033, -1.1254],\n",
       "         [ 0.1036,  0.4383],\n",
       "         [ 0.3097,  0.0389],\n",
       "         [-0.7187,  1.3253],\n",
       "         [ 0.5105, -0.3472],\n",
       "         [ 0.4904, -0.2485],\n",
       "         [ 0.2731,  0.0838],\n",
       "         [ 0.3961, -0.1930],\n",
       "         [-0.7025,  1.3109],\n",
       "         [-0.9709,  1.6724],\n",
       "         [ 0.5831, -0.2747],\n",
       "         [ 0.6923, -0.5842],\n",
       "         [ 0.2221,  0.1248],\n",
       "         [-0.6942,  1.3328],\n",
       "         [ 0.2577,  0.0503],\n",
       "         [ 0.2110,  0.2224],\n",
       "         [-0.6803,  1.3080],\n",
       "         [ 0.3948, -0.1108],\n",
       "         [ 0.3430, -0.0029],\n",
       "         [ 0.5875, -0.4571],\n",
       "         [-0.5751,  1.2254],\n",
       "         [ 0.3746, -0.1264],\n",
       "         [ 1.0510, -1.2092],\n",
       "         [ 0.8189, -0.7546],\n",
       "         [ 0.2689,  0.0253],\n",
       "         [-0.7458,  1.3706],\n",
       "         [-0.6992,  1.4357],\n",
       "         [-0.6527,  1.2742],\n",
       "         [-0.9312,  1.6374],\n",
       "         [ 1.1059, -1.1388],\n",
       "         [ 0.6426, -0.4001],\n",
       "         [ 0.6123, -0.5217],\n",
       "         [-0.2878,  0.8657],\n",
       "         [ 0.3633, -0.1339]], device='cuda:0', grad_fn=<MeanBackward1>)}"
      ]
     },
     "execution_count": 64,
     "metadata": {},
     "output_type": "execute_result"
    }
   ],
   "source": [
    "model.cuda()(torch.tensor(train_X[:256]).cuda())"
   ]
  },
  {
   "cell_type": "code",
   "execution_count": 65,
   "metadata": {},
   "outputs": [],
   "source": [
    "activations = {}\n",
    "\n",
    "def get_activation(name):\n",
    "    def hook(model, input, output):\n",
    "        activations[name] = output.detach()\n",
    "    return hook\n",
    "\n",
    "handle = model.get_submodule(\"attn.oE_proj\").register_forward_hook(get_activation(\"oE_proj\"))"
   ]
  },
  {
   "cell_type": "code",
   "execution_count": 66,
   "metadata": {},
   "outputs": [
    {
     "data": {
      "text/plain": [
       "{'pred': tensor([[ 0.2464,  0.0590],\n",
       "         [-0.5380,  1.1692],\n",
       "         [ 0.2164,  0.1967],\n",
       "         [ 0.6682, -0.6180],\n",
       "         [ 1.0577, -1.0969],\n",
       "         [ 0.6896, -0.6419],\n",
       "         [ 1.0186, -1.0187],\n",
       "         [ 1.1412, -1.2141],\n",
       "         [ 0.3392, -0.0855],\n",
       "         [ 0.9673, -1.0927],\n",
       "         [ 0.5967, -0.4012],\n",
       "         [-0.3925,  1.0767],\n",
       "         [ 1.0105, -1.0750],\n",
       "         [-0.9391,  1.6181],\n",
       "         [ 0.1245,  0.2889],\n",
       "         [ 0.3975, -0.1869],\n",
       "         [ 0.3330, -0.0569],\n",
       "         [ 0.2085,  0.1799],\n",
       "         [ 0.3003, -0.0284],\n",
       "         [-0.8618,  1.4978],\n",
       "         [-0.9471,  1.6148],\n",
       "         [ 0.9647, -1.0814],\n",
       "         [ 0.6192, -0.5106],\n",
       "         [-0.8640,  1.5417],\n",
       "         [ 0.4123, -0.0875],\n",
       "         [ 0.9487, -1.0439],\n",
       "         [ 0.2228,  0.1897],\n",
       "         [-0.5909,  1.2093],\n",
       "         [-0.1680,  0.7478],\n",
       "         [ 0.7082, -0.6771],\n",
       "         [ 0.8036, -0.7792],\n",
       "         [ 0.0167,  0.4327],\n",
       "         [ 1.0330, -1.1069],\n",
       "         [ 1.2381, -1.3095],\n",
       "         [-0.3179,  0.9177],\n",
       "         [-0.4425,  1.0591],\n",
       "         [-0.1055,  0.7848],\n",
       "         [-0.6527,  1.4041],\n",
       "         [ 0.6686, -0.5551],\n",
       "         [ 0.5962, -0.5290],\n",
       "         [ 0.4839, -0.3511],\n",
       "         [ 0.5554, -0.4300],\n",
       "         [ 0.4792, -0.1689],\n",
       "         [ 0.4901, -0.3063],\n",
       "         [-0.0726,  0.6653],\n",
       "         [ 0.6600, -0.5084],\n",
       "         [ 1.0286, -1.1795],\n",
       "         [ 0.2563,  0.1082],\n",
       "         [-0.4982,  1.1920],\n",
       "         [ 1.1320, -1.1673],\n",
       "         [ 0.3323, -0.0748],\n",
       "         [-0.4958,  1.2513],\n",
       "         [-0.8256,  1.4549],\n",
       "         [ 0.6161, -0.5184],\n",
       "         [-0.9254,  1.6887],\n",
       "         [ 0.6963, -0.6208],\n",
       "         [ 0.6233, -0.4576],\n",
       "         [-0.1684,  0.7043],\n",
       "         [-0.8870,  1.5932],\n",
       "         [-0.8625,  1.5342],\n",
       "         [ 0.6868, -0.6536],\n",
       "         [ 0.2944,  0.0492],\n",
       "         [ 0.5365, -0.3082],\n",
       "         [ 0.5850, -0.4158],\n",
       "         [ 0.4857, -0.3107],\n",
       "         [-0.6526,  1.2805],\n",
       "         [ 0.3264, -0.0240],\n",
       "         [-0.7888,  1.4171],\n",
       "         [ 0.7691, -0.7674],\n",
       "         [ 0.3433,  0.0479],\n",
       "         [ 0.0187,  0.4928],\n",
       "         [ 0.1300,  0.3510],\n",
       "         [ 0.5929, -0.4977],\n",
       "         [ 0.2061,  0.2535],\n",
       "         [ 0.0705,  0.3910],\n",
       "         [ 1.1538, -1.2843],\n",
       "         [-0.8712,  1.5313],\n",
       "         [ 0.7618, -0.7528],\n",
       "         [-0.8376,  1.4787],\n",
       "         [-0.8398,  1.4911],\n",
       "         [ 0.9590, -0.9380],\n",
       "         [ 0.2309,  0.1571],\n",
       "         [-0.0529,  0.6608],\n",
       "         [ 0.4027, -0.1946],\n",
       "         [ 1.1235, -1.1818],\n",
       "         [-0.3057,  1.0189],\n",
       "         [ 0.9065, -1.0003],\n",
       "         [ 0.2945,  0.0932],\n",
       "         [ 0.0024,  0.4682],\n",
       "         [-0.9549,  1.6727],\n",
       "         [ 0.4214, -0.2255],\n",
       "         [ 0.7191, -0.6541],\n",
       "         [-0.0846,  0.7385],\n",
       "         [-0.3799,  0.9916],\n",
       "         [ 0.8999, -0.9870],\n",
       "         [-0.7909,  1.4280],\n",
       "         [-0.9229,  1.5843],\n",
       "         [ 0.2071,  0.1698],\n",
       "         [-0.7147,  1.3546],\n",
       "         [-0.5019,  1.1870],\n",
       "         [ 0.2799,  0.0653],\n",
       "         [-0.7615,  1.4080],\n",
       "         [-0.8841,  1.5545],\n",
       "         [-0.3347,  0.9669],\n",
       "         [ 0.3331, -0.0633],\n",
       "         [ 0.7326, -0.6565],\n",
       "         [ 0.7630, -0.6722],\n",
       "         [ 1.0795, -1.2039],\n",
       "         [ 0.4475, -0.2665],\n",
       "         [ 0.9034, -0.9632],\n",
       "         [ 0.6936, -0.5983],\n",
       "         [-0.8476,  1.5627],\n",
       "         [ 0.4361, -0.1933],\n",
       "         [-0.4001,  1.0320],\n",
       "         [ 0.0130,  0.5543],\n",
       "         [ 0.4991, -0.2878],\n",
       "         [-0.0146,  0.6267],\n",
       "         [ 0.1641,  0.2095],\n",
       "         [-0.8225,  1.5424],\n",
       "         [-0.2558,  0.9339],\n",
       "         [-0.7303,  1.3603],\n",
       "         [ 0.7892, -0.6839],\n",
       "         [ 0.2595,  0.2559],\n",
       "         [ 0.4918, -0.2347],\n",
       "         [ 0.3679, -0.0122],\n",
       "         [-0.2704,  0.9127],\n",
       "         [-0.3470,  0.9340],\n",
       "         [-0.1078,  0.7558],\n",
       "         [ 0.7981, -0.6331],\n",
       "         [-0.8746,  1.5613],\n",
       "         [-0.9964,  1.6958],\n",
       "         [ 0.3611,  0.0558],\n",
       "         [ 1.2252, -1.2963],\n",
       "         [ 0.7246, -0.7176],\n",
       "         [ 0.3146, -0.0684],\n",
       "         [ 0.1051,  0.3146],\n",
       "         [ 1.2270, -1.3136],\n",
       "         [ 1.0157, -1.1559],\n",
       "         [ 1.0171, -1.0125],\n",
       "         [-0.8447,  1.4975],\n",
       "         [-0.8143,  1.5174],\n",
       "         [-0.8805,  1.5475],\n",
       "         [ 0.9909, -1.1201],\n",
       "         [-0.3961,  1.0833],\n",
       "         [ 0.8790, -0.9493],\n",
       "         [ 0.5199, -0.3095],\n",
       "         [-0.7316,  1.3569],\n",
       "         [ 0.5913, -0.4711],\n",
       "         [-0.9564,  1.6499],\n",
       "         [ 0.9491, -1.0084],\n",
       "         [ 0.4058, -0.1314],\n",
       "         [ 0.1664,  0.2843],\n",
       "         [-0.6926,  1.4001],\n",
       "         [ 0.2672,  0.1386],\n",
       "         [ 0.5147, -0.3261],\n",
       "         [-0.1376,  0.7269],\n",
       "         [ 0.9750, -1.0731],\n",
       "         [-0.1692,  0.7804],\n",
       "         [ 0.2950,  0.0159],\n",
       "         [ 0.5257, -0.4203],\n",
       "         [ 1.2388, -1.3385],\n",
       "         [-0.8092,  1.4495],\n",
       "         [-0.8450,  1.4880],\n",
       "         [ 0.1952,  0.1984],\n",
       "         [ 0.6555, -0.6075],\n",
       "         [-0.4232,  1.0823],\n",
       "         [ 0.5489, -0.2786],\n",
       "         [-0.6957,  1.2982],\n",
       "         [ 0.3629, -0.1382],\n",
       "         [ 1.2471, -1.2869],\n",
       "         [ 0.3793, -0.0209],\n",
       "         [-0.8562,  1.5880],\n",
       "         [-0.6630,  1.4557],\n",
       "         [ 0.8524, -0.9131],\n",
       "         [ 0.8790, -0.8424],\n",
       "         [-0.6830,  1.4165],\n",
       "         [ 0.4288,  0.0426],\n",
       "         [ 0.6912, -0.6332],\n",
       "         [ 0.7407, -0.7156],\n",
       "         [-0.7714,  1.4572],\n",
       "         [ 0.5329, -0.3769],\n",
       "         [ 0.3578, -0.0764],\n",
       "         [ 1.1971, -1.2660],\n",
       "         [ 0.0590,  0.5020],\n",
       "         [ 0.5709, -0.3804],\n",
       "         [-0.2022,  0.7741],\n",
       "         [ 0.1482,  0.2311],\n",
       "         [ 0.9377, -1.0313],\n",
       "         [ 0.6319, -0.5629],\n",
       "         [-0.7474,  1.4556],\n",
       "         [-0.3508,  1.0354],\n",
       "         [ 0.4919, -0.1596],\n",
       "         [ 1.0003, -0.9541],\n",
       "         [ 0.6877, -0.5851],\n",
       "         [-0.7189,  1.3394],\n",
       "         [-0.8598,  1.4992],\n",
       "         [ 1.1416, -1.2756],\n",
       "         [-0.8197,  1.4518],\n",
       "         [ 0.1482,  0.3160],\n",
       "         [ 0.6269, -0.5181],\n",
       "         [ 1.0065, -0.9602],\n",
       "         [-0.4270,  1.0760],\n",
       "         [ 0.7222, -0.6501],\n",
       "         [ 0.8846, -0.7737],\n",
       "         [-0.1867,  0.7846],\n",
       "         [ 0.3547, -0.0965],\n",
       "         [ 1.0734, -1.2401],\n",
       "         [-0.6356,  1.2397],\n",
       "         [ 0.2578,  0.1089],\n",
       "         [ 0.7272, -0.7013],\n",
       "         [ 0.9383, -0.9848],\n",
       "         [ 0.8122, -0.8594],\n",
       "         [ 0.3363,  0.0673],\n",
       "         [ 1.1089, -1.2002],\n",
       "         [ 0.4620, -0.1215],\n",
       "         [ 0.2537,  0.1172],\n",
       "         [ 0.6529, -0.5923],\n",
       "         [-0.7199,  1.3609],\n",
       "         [ 0.7905, -0.6766],\n",
       "         [ 0.6196, -0.5059],\n",
       "         [ 0.1473,  0.3277],\n",
       "         [ 0.7494, -0.6823],\n",
       "         [ 1.1033, -1.1254],\n",
       "         [ 0.1036,  0.4383],\n",
       "         [ 0.3097,  0.0389],\n",
       "         [-0.7187,  1.3253],\n",
       "         [ 0.5105, -0.3472],\n",
       "         [ 0.4904, -0.2485],\n",
       "         [ 0.2731,  0.0838],\n",
       "         [ 0.3961, -0.1930],\n",
       "         [-0.7025,  1.3109],\n",
       "         [-0.9709,  1.6724],\n",
       "         [ 0.5831, -0.2747],\n",
       "         [ 0.6923, -0.5842],\n",
       "         [ 0.2221,  0.1248],\n",
       "         [-0.6942,  1.3328],\n",
       "         [ 0.2577,  0.0503],\n",
       "         [ 0.2110,  0.2224],\n",
       "         [-0.6803,  1.3080],\n",
       "         [ 0.3948, -0.1108],\n",
       "         [ 0.3430, -0.0029],\n",
       "         [ 0.5875, -0.4571],\n",
       "         [-0.5751,  1.2254],\n",
       "         [ 0.3746, -0.1264],\n",
       "         [ 1.0510, -1.2092],\n",
       "         [ 0.8189, -0.7546],\n",
       "         [ 0.2689,  0.0253],\n",
       "         [-0.7458,  1.3706],\n",
       "         [-0.6992,  1.4357],\n",
       "         [-0.6527,  1.2742],\n",
       "         [-0.9312,  1.6374],\n",
       "         [ 1.1059, -1.1388],\n",
       "         [ 0.6426, -0.4001],\n",
       "         [ 0.6123, -0.5217],\n",
       "         [-0.2878,  0.8657],\n",
       "         [ 0.3633, -0.1339]], device='cuda:0', grad_fn=<MeanBackward1>)}"
      ]
     },
     "execution_count": 66,
     "metadata": {},
     "output_type": "execute_result"
    }
   ],
   "source": [
    "model.cuda()(torch.tensor(train_X[:256]).cuda())"
   ]
  },
  {
   "cell_type": "code",
   "execution_count": 67,
   "metadata": {},
   "outputs": [
    {
     "name": "stdout",
     "output_type": "stream",
     "text": [
      "torch.Size([28672, 4, 16])\n"
     ]
    }
   ],
   "source": [
    "oE_proj_output = activations[\"oE_proj\"]\n",
    "print(oE_proj_output.shape)"
   ]
  },
  {
   "cell_type": "code",
   "execution_count": 68,
   "metadata": {},
   "outputs": [],
   "source": [
    "oE_proj_output = oE_proj_output.reshape(256, -1, 4, 16)"
   ]
  },
  {
   "cell_type": "code",
   "execution_count": 69,
   "metadata": {},
   "outputs": [
    {
     "data": {
      "text/plain": [
       "torch.Size([256, 112, 4, 16])"
      ]
     },
     "execution_count": 69,
     "metadata": {},
     "output_type": "execute_result"
    }
   ],
   "source": [
    "oE_proj_output.shape"
   ]
  },
  {
   "cell_type": "code",
   "execution_count": 70,
   "metadata": {},
   "outputs": [],
   "source": [
    "x = oE_proj_output[0].view(112, -1)"
   ]
  },
  {
   "cell_type": "code",
   "execution_count": 71,
   "metadata": {},
   "outputs": [
    {
     "data": {
      "text/plain": [
       "tensor([[ 1.0000,  0.9992,  0.9958,  ..., -0.9790,  0.9919,  0.8513],\n",
       "        [ 0.9992,  1.0000,  0.9965,  ..., -0.9790,  0.9906,  0.8464],\n",
       "        [ 0.9958,  0.9965,  1.0000,  ..., -0.9633,  0.9842,  0.8406],\n",
       "        ...,\n",
       "        [-0.9790, -0.9790, -0.9633,  ...,  1.0000, -0.9733, -0.8030],\n",
       "        [ 0.9919,  0.9906,  0.9842,  ..., -0.9733,  1.0000,  0.9014],\n",
       "        [ 0.8513,  0.8464,  0.8406,  ..., -0.8030,  0.9014,  1.0000]],\n",
       "       device='cuda:0')"
      ]
     },
     "execution_count": 71,
     "metadata": {},
     "output_type": "execute_result"
    }
   ],
   "source": [
    "x_ = x / ((x ** 2).sum(dim=1) ** 0.5)[:, None]\n",
    "sim = x_ @ x_.T\n",
    "sim"
   ]
  },
  {
   "cell_type": "code",
   "execution_count": 72,
   "metadata": {},
   "outputs": [
    {
     "data": {
      "text/plain": [
       "tensor([ 1.0000,  0.9992,  0.9958, -0.6870,  0.9765,  0.9838, -0.9893,  0.9834,\n",
       "        -0.9766, -0.8133, -0.9826,  0.8599,  0.9035, -0.9912, -0.9935,  0.9223,\n",
       "        -0.9852,  0.9703,  0.9482,  0.8411,  0.3434,  0.9618,  0.9940, -0.3987,\n",
       "         0.9868, -0.8418,  0.9356,  0.9157, -0.9411,  0.9697,  0.1964, -0.4948,\n",
       "        -0.0139,  0.9717, -0.9834,  0.8717, -0.9824, -0.9822,  0.9630,  0.9145,\n",
       "         0.9693,  0.9978,  0.6707,  0.9900, -0.9802, -0.9811,  0.7056, -0.9843,\n",
       "        -0.9906, -0.9753, -0.9456,  0.9859, -0.9421, -0.4298,  0.9932,  0.8508,\n",
       "        -0.9796, -0.2989, -0.9884,  0.4897,  0.9947,  0.9717,  0.9943, -0.6062,\n",
       "        -0.9369,  0.9781, -0.9854, -0.5740,  0.9708,  0.9985, -0.8017,  0.9351,\n",
       "         0.8686,  0.9973,  0.9785,  0.9805,  0.9970, -0.9857,  0.9885, -0.9731,\n",
       "         0.6744, -0.8712,  0.9381,  0.9888,  0.9916, -0.9768,  0.9922, -0.9572,\n",
       "         0.8278,  0.9864,  0.3636,  0.9506, -0.9924,  0.9902,  0.6082,  0.9664,\n",
       "        -0.5141, -0.0721,  0.9563, -0.9856, -0.9844, -0.9753,  0.7901,  0.9785,\n",
       "        -0.2287, -0.7920, -0.9837, -0.9738,  0.9941, -0.9790,  0.9919,  0.8513],\n",
       "       device='cuda:0')"
      ]
     },
     "execution_count": 72,
     "metadata": {},
     "output_type": "execute_result"
    }
   ],
   "source": [
    "sim[0]"
   ]
  },
  {
   "cell_type": "code",
   "execution_count": null,
   "metadata": {},
   "outputs": [],
   "source": []
  }
 ],
 "metadata": {
  "kernelspec": {
   "display_name": "dftt",
   "language": "python",
   "name": "python3"
  },
  "language_info": {
   "codemirror_mode": {
    "name": "ipython",
    "version": 3
   },
   "file_extension": ".py",
   "mimetype": "text/x-python",
   "name": "python",
   "nbconvert_exporter": "python",
   "pygments_lexer": "ipython3",
   "version": "3.10.14"
  }
 },
 "nbformat": 4,
 "nbformat_minor": 2
}
